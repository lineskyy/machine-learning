{
  "nbformat": 4,
  "nbformat_minor": 0,
  "metadata": {
    "colab": {
      "provenance": [],
      "collapsed_sections": [],
      "toc_visible": true
    },
    "kernelspec": {
      "name": "python3",
      "display_name": "Python 3"
    },
    "language_info": {
      "name": "python"
    }
  },
  "cells": [
    {
      "cell_type": "code",
      "execution_count": 1,
      "metadata": {
        "id": "zFIM90gweC-D"
      },
      "outputs": [],
      "source": [
        "import pandas as pd\n",
        "import numpy as np\n",
        "import seaborn as sns\n",
        "from sklearn.preprocessing import OneHotEncoder\n",
        "from sklearn.model_selection import train_test_split\n",
        "from sklearn.metrics import roc_auc_score\n",
        "df = sns.load_dataset('titanic') # 타이타닉 데이터 받아오기\n",
        "cols = [\"age\",\"sibsp\",\"parch\",\"fare\"] # 숫자니까 바로 사용\n",
        "features = df[cols] # 피쳐\n",
        "target = df[\"survived\"] # 정답값\n",
        "# one hot encoding\n",
        "cols = [\"pclass\",\"sex\",\"embarked\"] # 범주형\n",
        "enc = OneHotEncoder(handle_unknown='ignore')\n",
        "tmp = pd.DataFrame(\n",
        "    enc.fit_transform(df[cols]).toarray(),\n",
        "    columns = enc.get_feature_names_out()\n",
        ")\n",
        "features = pd.concat([features,tmp],axis=1)\n",
        "# 나이 결측치 채우기\n",
        "features.age = features.age.fillna(features.age.median())"
      ]
    },
    {
      "cell_type": "code",
      "source": [
        "from sklearn.preprocessing import MinMaxScaler\n",
        "scaler = MinMaxScaler()\n",
        "features = scaler.fit_transform(features)"
      ],
      "metadata": {
        "id": "xNb7HS6teWGM"
      },
      "execution_count": 2,
      "outputs": []
    },
    {
      "cell_type": "code",
      "source": [
        "SEED = 42"
      ],
      "metadata": {
        "id": "FB-yXg_NeWDJ"
      },
      "execution_count": 3,
      "outputs": []
    },
    {
      "cell_type": "code",
      "source": [
        "x_train,x_valid,y_train,y_valid = train_test_split(features,target,random_state=SEED,test_size=0.2)\n",
        "x_train.shape, x_valid.shape, y_train.shape, y_valid.shape"
      ],
      "metadata": {
        "colab": {
          "base_uri": "https://localhost:8080/"
        },
        "id": "S0MzxEx9eV9-",
        "outputId": "f5a61a09-b598-4677-d9cb-45ebd67a6f89"
      },
      "execution_count": 4,
      "outputs": [
        {
          "output_type": "execute_result",
          "data": {
            "text/plain": [
              "((712, 13), (179, 13), (712,), (179,))"
            ]
          },
          "metadata": {},
          "execution_count": 4
        }
      ]
    },
    {
      "cell_type": "markdown",
      "source": [
        "# Model Tuning(Hyperparameter Optimization)\n",
        "- 학습을 수행하기전에 설정해야하는 값인 하이퍼파라미터의 최적값을 탐색"
      ],
      "metadata": {
        "id": "be5h4ZMdfGHO"
      }
    },
    {
      "cell_type": "markdown",
      "source": [
        "## Grid Search\n",
        "- 하이퍼파라미터별로 다양한 값들을 지정하여 모든 조합에 대해 성능 결과를 측정한 후 가장 높은 성능을 발휘했던 하이퍼파라미터 조합을 선정하는 방법"
      ],
      "metadata": {
        "id": "mS7ABzYgfcer"
      }
    },
    {
      "cell_type": "code",
      "source": [
        "from sklearn.model_selection import KFold\n",
        "cv = KFold(n_splits=5, shuffle=True,random_state=SEED)"
      ],
      "metadata": {
        "id": "jUPSVaPkeV7A"
      },
      "execution_count": 6,
      "outputs": []
    },
    {
      "cell_type": "code",
      "source": [
        "from sklearn.model_selection import GridSearchCV\n",
        "from lightgbm import LGBMClassifier\n",
        "\n",
        "hp = {\n",
        "    \"max_depth\" : range(2,5), # 깊이\n",
        "    \"min_samples_split\" : range(2,5), # 내부노드를 분할하는데 필요한 최소 샘플수\n",
        "    \"criterion\" : [\"gini\",\"entropy\"], # 순수도 척도\n",
        "    \"max_leaf_nodes\" : range(5,10), # 최대 리프 노드수\n",
        "    \"n_estimators\" : range(50,100,10) # 부스팅 단계수\n",
        "}\n",
        "model = LGBMClassifier(random_state=SEED)\n",
        "grid = GridSearchCV(\n",
        "    model,\n",
        "    hp,\n",
        "    cv=cv,\n",
        "    scoring = \"roc_auc\",\n",
        "    n_jobs = -1\n",
        ")\n",
        "grid.fit(x_train,y_train)"
      ],
      "metadata": {
        "colab": {
          "base_uri": "https://localhost:8080/"
        },
        "id": "jiPEaLKmeRob",
        "outputId": "851ec11f-72a9-4db1-e576-5fd11a784c69"
      },
      "execution_count": 8,
      "outputs": [
        {
          "output_type": "execute_result",
          "data": {
            "text/plain": [
              "GridSearchCV(cv=KFold(n_splits=5, random_state=42, shuffle=True),\n",
              "             estimator=LGBMClassifier(random_state=42), n_jobs=-1,\n",
              "             param_grid={'criterion': ['gini', 'entropy'],\n",
              "                         'max_depth': range(2, 5),\n",
              "                         'max_leaf_nodes': range(5, 10),\n",
              "                         'min_samples_split': range(2, 5),\n",
              "                         'n_estimators': range(50, 100, 10)},\n",
              "             scoring='roc_auc')"
            ]
          },
          "metadata": {},
          "execution_count": 8
        }
      ]
    },
    {
      "cell_type": "code",
      "source": [
        "grid.best_params_"
      ],
      "metadata": {
        "colab": {
          "base_uri": "https://localhost:8080/"
        },
        "id": "Zddyzy3FeRl7",
        "outputId": "2c29da8e-8b73-4255-88f1-234e5b72b729"
      },
      "execution_count": 9,
      "outputs": [
        {
          "output_type": "execute_result",
          "data": {
            "text/plain": [
              "{'criterion': 'gini',\n",
              " 'max_depth': 2,\n",
              " 'max_leaf_nodes': 5,\n",
              " 'min_samples_split': 2,\n",
              " 'n_estimators': 50}"
            ]
          },
          "metadata": {},
          "execution_count": 9
        }
      ]
    },
    {
      "cell_type": "code",
      "source": [
        "grid.best_score_"
      ],
      "metadata": {
        "colab": {
          "base_uri": "https://localhost:8080/"
        },
        "id": "rqE8vPXXeRjN",
        "outputId": "25fafd30-b5ff-40b7-daef-6b4526ff0552"
      },
      "execution_count": 10,
      "outputs": [
        {
          "output_type": "execute_result",
          "data": {
            "text/plain": [
              "0.8578552243327711"
            ]
          },
          "metadata": {},
          "execution_count": 10
        }
      ]
    },
    {
      "cell_type": "code",
      "source": [
        "grid.score(x_valid,y_valid)"
      ],
      "metadata": {
        "colab": {
          "base_uri": "https://localhost:8080/"
        },
        "id": "IwyzCABTeRft",
        "outputId": "7ebf5c2c-69ba-4ee6-ed5b-787418f059b5"
      },
      "execution_count": 11,
      "outputs": [
        {
          "output_type": "execute_result",
          "data": {
            "text/plain": [
              "0.8893822393822393"
            ]
          },
          "metadata": {},
          "execution_count": 11
        }
      ]
    },
    {
      "cell_type": "code",
      "source": [
        "pred = grid.predict_proba(x_valid)[:,1]\n",
        "roc_auc_score(y_valid,pred)"
      ],
      "metadata": {
        "colab": {
          "base_uri": "https://localhost:8080/"
        },
        "id": "P9W1sAVpeRc8",
        "outputId": "94ade50a-4c97-4317-da03-a90aec9a1c4e"
      },
      "execution_count": 13,
      "outputs": [
        {
          "output_type": "execute_result",
          "data": {
            "text/plain": [
              "0.8893822393822393"
            ]
          },
          "metadata": {},
          "execution_count": 13
        }
      ]
    },
    {
      "cell_type": "markdown",
      "source": [
        "## Random Search\n",
        "- 하이퍼파라미터 별로 다양한 값들을 지정하여 랜덤 조합을 통해 반복 수행하여 가장 높은 성능을 발휘했던 하이퍼파라미터 조합을 선정"
      ],
      "metadata": {
        "id": "qB_Nwbfbi2Uq"
      }
    },
    {
      "cell_type": "code",
      "source": [
        "from sklearn.model_selection import RandomizedSearchCV\n",
        "\n",
        "hp = {\n",
        "    \"max_depth\" : range(2,15), # 깊이\n",
        "    \"min_samples_split\" : range(2,10), # 내부노드를 분할하는데 필요한 최소 샘플수\n",
        "    \"criterion\" : [\"gini\",\"entropy\"], # 순수도 척도\n",
        "    \"max_leaf_nodes\" : range(5,10), # 최대 리프 노드수\n",
        "    \"n_estimators\" : range(50,201,10) # 부스팅 단계수\n",
        "}\n",
        "\n",
        "model = LGBMClassifier(random_state=SEED)\n",
        "\n",
        "rand = RandomizedSearchCV(\n",
        "    model,\n",
        "    hp,\n",
        "    cv=cv,\n",
        "    scoring = \"roc_auc\",\n",
        "    n_jobs = -1,\n",
        "    random_state=SEED,\n",
        "    n_iter = 15\n",
        ")\n",
        "rand.fit(x_train,y_train)"
      ],
      "metadata": {
        "colab": {
          "base_uri": "https://localhost:8080/"
        },
        "id": "hCqs5l6FjNjI",
        "outputId": "aeceefd0-b42d-43c2-bd7a-26a090b8141c"
      },
      "execution_count": 14,
      "outputs": [
        {
          "output_type": "execute_result",
          "data": {
            "text/plain": [
              "RandomizedSearchCV(cv=KFold(n_splits=5, random_state=42, shuffle=True),\n",
              "                   estimator=LGBMClassifier(random_state=42), n_iter=15,\n",
              "                   n_jobs=-1,\n",
              "                   param_distributions={'criterion': ['gini', 'entropy'],\n",
              "                                        'max_depth': range(2, 15),\n",
              "                                        'max_leaf_nodes': range(5, 10),\n",
              "                                        'min_samples_split': range(2, 10),\n",
              "                                        'n_estimators': range(50, 201, 10)},\n",
              "                   random_state=42, scoring='roc_auc')"
            ]
          },
          "metadata": {},
          "execution_count": 14
        }
      ]
    },
    {
      "cell_type": "code",
      "source": [
        "rand.best_params_"
      ],
      "metadata": {
        "colab": {
          "base_uri": "https://localhost:8080/"
        },
        "id": "fz7yENEwjNgR",
        "outputId": "bca6c0f9-3156-4393-e52b-4468cff38640"
      },
      "execution_count": 15,
      "outputs": [
        {
          "output_type": "execute_result",
          "data": {
            "text/plain": [
              "{'n_estimators': 70,\n",
              " 'min_samples_split': 2,\n",
              " 'max_leaf_nodes': 5,\n",
              " 'max_depth': 2,\n",
              " 'criterion': 'entropy'}"
            ]
          },
          "metadata": {},
          "execution_count": 15
        }
      ]
    },
    {
      "cell_type": "code",
      "source": [
        "rand.best_score_"
      ],
      "metadata": {
        "colab": {
          "base_uri": "https://localhost:8080/"
        },
        "id": "_SpQx2ypjNds",
        "outputId": "ba38f96b-434e-42b7-bd24-40d47cc3ac34"
      },
      "execution_count": 16,
      "outputs": [
        {
          "output_type": "execute_result",
          "data": {
            "text/plain": [
              "0.8534515351718867"
            ]
          },
          "metadata": {},
          "execution_count": 16
        }
      ]
    },
    {
      "cell_type": "code",
      "source": [
        "rand.score(x_valid,y_valid)"
      ],
      "metadata": {
        "colab": {
          "base_uri": "https://localhost:8080/"
        },
        "id": "_t-YYbpbjNa1",
        "outputId": "365f38d4-b5d6-4c4b-b5a9-c7777d9e5b85"
      },
      "execution_count": 17,
      "outputs": [
        {
          "output_type": "execute_result",
          "data": {
            "text/plain": [
              "0.890990990990991"
            ]
          },
          "metadata": {},
          "execution_count": 17
        }
      ]
    },
    {
      "cell_type": "code",
      "source": [
        "model = LGBMClassifier(random_state=SEED, **rand.best_params_)\n",
        "model.fit(x_train,y_train)\n",
        "\n",
        "pred = model.predict_proba(x_valid)[:,1]\n",
        "roc_auc_score(y_valid,pred)"
      ],
      "metadata": {
        "colab": {
          "base_uri": "https://localhost:8080/"
        },
        "id": "beTl5WJCjNYZ",
        "outputId": "d4588c1e-5bea-49b8-8423-3d44e86c0f54"
      },
      "execution_count": 18,
      "outputs": [
        {
          "output_type": "execute_result",
          "data": {
            "text/plain": [
              "0.890990990990991"
            ]
          },
          "metadata": {},
          "execution_count": 18
        }
      ]
    },
    {
      "cell_type": "markdown",
      "source": [
        "## Grid Search vs Random Search\n",
        "- Random Search 는 Grid Search에 비해 불필요한 반복 수행 횟수를 대폭 줄이면서 동시에 정해진 간격(Grid) 사이에 위치한 값들에 대해서도 확률적으로 탐색이 가능해서 최적의 하이퍼파라미터를 더 빨리 찾을수 있다."
      ],
      "metadata": {
        "id": "NHcwCleulJeI"
      }
    },
    {
      "cell_type": "markdown",
      "source": [
        "![다운로드 (1).png](data:image/png;base64,iVBORw0KGgoAAAANSUhEUgAAAq8AAAFCCAIAAABQMaMLAAAAAXNSR0IArs4c6QAAAARnQU1BAACxjwv8YQUAAAAJcEhZcwAADsMAAA7DAcdvqGQAANibSURBVHhe7J0FWFRLG8c/uqQbaelGVJAyCINUMBBsxe4WC1CxUMRCRb2oKIItBipXRUVRsUURxO5O5Br3++/OcV2XEK6ye3DP75lnnz2zp3bOvO/833PmzPzvXwYGBgYGBgbhhlEDDAwMDAwMwg6jBhgYGBgYGIQdRg0wMDAwMDAIO4waYGBgYGBgEHYYNcDAwMDAwCDsMGqAgYGBgYFB2GHUAAMDAwMDg7DDqAEGBgYGBgZhh1EDDAwMDAwMwg6jBhgYGBgYGIQdRg0wMDAwMDAIO4waYGBgYBBeSktLb968eebMmZMnT966devr16/UDwxCBqMGGBgYGISRu3fvbt26dcaMGREREV5eXp6ent26dZs+fXpaWtqdO3eolRiEBkYNMDAwMAgXpaWlubm5/fv3NzMzk5GR+d+PGBoaQhYcPnz448eP1AYMQgCjBhgYGBiEiBcvXixcuLBp06ZycnJo+yUlJU1NTb29vdu0aWNiYiIiIoJMCQkJrBAfH//kyRNqM4Y/HUYNMDAwMAgLCPdTU1N1dHRIk9+4cePExMRjx45dvHjxypUrR48e3bhxI3QAfhUVFdXX158zZw5zh0BIYNQAAwMDg1Dw9evX4uJiS0tLNPYqKir9+/fPy8t79+4d9TObT58+QRaMGzdOVlYWgqBhw4Z79+6lfmP4o2HUAAMDA4NQgCi/e/fuaOOlpaW7du167969z58/U7/9yKNHj8aPH0/uH3To0OH69evUDwx/LowaYGBgYBAKCgoKJCUl0cY7ODicOnWqipcJ8VNJSUlwcDBWNjQ0XLduHfUDw58Lowb+WIqLiw8fPpyYmDhhwgTI/DFjxoSGhvp+A3o/Njb26tWr1NoMDAx/OosWLULrrqamtmDBAo4UOH78+PTp0+EiQJcuXVq1agX/4OXlpa+vT3oUgsGDB7969Yqsz/CnwqiBPw0YeVlZ2fLly/X09IglV4GMjEy/fv2Kioo+ffpEbc/AwPCHEhQUBKs3MDDYt28fHMU///yTkZFhYWFBvEHVeHp67t279+3bt1XcUWCo0zBq4M/h8+fPL1++vHTp0vz5883NzWHAUtKS9RTk5BXkFJTk1TRVviVVdS1VFXVlGTkZEVGW9rexsUlPT8e21I7qGvjjpaWlX758oZYZGBgqokWLFrB3a2vrwsLC8+fPL1y40MnJCTmSUhLyCvVU1ZWJi9Csr1HfQBtJU0ddWkYaKxAQPIwbN+7mzZt/tq3h3338+FEIAyRGDfwhoPqeOnVq2LBhnFsCEpISrdu1HDq578jo/lHzRibvWEDSmt2J6/YtSdw4s9vgjg3MDSWlWM8R5eTk5s2bVyMjR4iANhhQy+VAI/369euysjJquYbcu3cPPuv9+/fUcuXcuHEjNTX1/v371DIDA0NFEDWgq6s7ePBgFRUVtp/4n4SEuKevy8iYAUvSZxMXsePUuuO3dyNtOrzStUVjrCMjKy0jJ00eHISHh9+9e/fhw4f4BLBTmPlv0QdwYh8+fKAWygF/8ubNm1953RHnfPXq1bdv31LLlQBPsnnz5oKCAmpZaGDUwJ8ALGT37t2urq6wVVFRUQUleQMTPZ+g5usPLDt2M5MYdvl0uGj74rQ4n8BmcvVksaGzs3P1LQ1SAKa1atWqtWvXojGmcrmAss7KyoqLi9uyZQuVVUOioqI8PDzy8/Op5cqB6ZqZmR0+fJhaZmBgqIiQkBBYOgFNu7xivQYWhl7+nkmb5x4t2cXjH5DW7Ek0NjPAys7NGoZ2D6ivrw33oqqqGhsbGxkZ2YENxAHMfO/evSUlJf/88w91pJoDSbF69eqVK1deuXKFyuICUiAnJwcRCxwOlVVz5syZ07Rp06NHj1LLlXDo0KEmTZrAuVHLQgOjBuo8sJPc3NyGDRvCaCHh7Rtb9x4RPn9tzL6Lm3hsu8KUmZ/q7tVEXFwcm2/bto3a6c9AKICV4VCUlJQGDRr04sUL6odvQFkbGBhoaWmZmJhQWTVkzJgxVlZW+GvUcuUwaoCBoTqg2WYJAfYzREt7s55Dw5ZlzDlwOYPHJ5B06Pq2SfEjJSQlJCUleg8P35O/ISisNTYke+BBWVkZsmDXrl3Pnj2jDlZDTpw4gf3Iycm1b9++/ACIxcXFLi4u8CdYgcqqOdOnT4ej2L9/P7VcCYwaYKirvHnzpmvXrixDqieLQH/FtvicGzt5DLvqFDVvhLKqIvYAU6kw0C8PJMj69evr1atnbW1tZ2eXlZVF/fCNGTNmIIbo1KlT/fr1qawawqgBBobfy9ChQ1lNNxpvVcWBE3oeKd7B4wo46ejNXWt2Jzo0scHK2nqaw6ZETpw73NzGRExMjOxBU1Ozbdu2gYGBaDg1NDSQg4jC0tIyNjb29u3b1PFqwsGDB7GHRo0a6erqpqWlUbnfSEpKMjIyateuHU6Ayqo5jBqoGkYN1G2+fv2Kyq2goCAiKmLX2HrVrgQeq65O2nFqnZe/h7gE6/bA8OHDqV1XCVED8Ah9+vRxcHCYPHky9wO/p0+furq6hoSEjBo1ikcNvHz58tSpUxkZGQgjTp48yf1s4v3793///TeadmiLW7dulVcDV65cwZ/NzMxEJvfDvyrUAPZfUFCwl83x48d57mF8+fIlLy9vx44dW7duPXPmDHcfhevXr+/btw/niSOSrfAHjxw5wn2UmzdvYsOSkhLy0BR7wCaIjZCJUyoqKkImtNrp06d3796NP4Vj8XRNevXqVU5ODtbfuXNnYWHhxYsXs7Oznz9/zum2jYNiQxQUWWRg+M+gohoaGrKb8v9JSUt5BXhu/Hs5jyvgpG0nUtqFt4VPkJSSbNbKtceQzrpGrMGMxcXFSO8BY2Pj/Px8VHLY7KJFiyALFBVZEYWKikp0dPR/mN0AakBKSmrIkCGOjo69evXiHiERBtihQwd/f/+RI0dCMVC5bOAHzp49Cwvavn073MLr16+pH9iUlZWhaYcxwjCLi4t51ABOHgeFI8I63BtWoQZgv9gP9gaLhuU+fPiQ+uEbKBPYMo4Ib8Pto6CQDhw4gHw4okePHsHA4TROnDiBo1Nr/PvvgwcP4NwuXbpEHrjAG2ARTgkOCvII+cjE4oULF/bs2YNzwOY840iWsiejQlEAbH716lVcnXv37nH36sDfRya18COMGqjboFWGncAIFZTk+47qWtO7Apy0Ymu8qgarV5GOjk6Fz+144KiBqVOnwnS9vb3Pnz9P/fbvv6i72A9qP48agPlBNyCk8GHTsmVLbE4EARrRSZMmubu7e7GByMAntxqAwbdp0yY4OLhTp07Ydvbs2RxTrEwNwBpTU1MRT/j5+eGzVatW48ePv3v3LvXzv/8uX74c54Dd4ie4M6xMBAHcQXh4ODJxqjgl6BK00I8fPx40aFC/fv3ItgBm7+bmhnIgXSnha5ycnMaOHevi4oLzxN5gh3PmzIEXCwoKQg7+UXx8PNkWYIcxMTFkthj8FBERMXHiRPy1DRs2kK6XcBk3btzAIbATsgkDw38G9RMGjthaVUOZ5TEU63n5e85bM+1gwWYebzA/JaZt+xbyivVERUUt7Ez7jIhwdLYVFWN1SArq0tq2kSVLJUhKQiuTPaP1gtOYNm2aiYkJ9mxgYLBly5bqd0IiEDUAExg3bpydnd2xY8eoH/79Fy2ojY1NSkrKlClTuNUAPAD8AKyb7U58YESwPrS15FeYP3QJzAc2Divr3r17QEAARw3gs2PHjjBMWHqzZs1wXM4tjcrUAKQAmmcEOXAL8CcwW2iXy5cvUz//+y8sF+fQunVr4lIWL16MYAD5kAjwG76+vtjQ09Nz8ODBOHMU2oQJE7Ay2RZAXmCFefPmkaEdsDkCLfwFnAz+Y0JCApwkXBbOGX8E/gR/GQ6EMw4EvND8+fNxAjg6fkK7AHeH1aDVOOsgumjcuDHcMlnkgVEDdRtIWiUlJVigqZXxxuxKlf5P05HiHX4dfaD6YZAzZ86k9l45HDWwZMmS1atXW1hYrFmzhvyESgkzQ3XEuXGrATR+aPvRXsJrIN6FuO7SpYuWlhasDs0eNseakZGRsHy07jAz6AmOGoAKhmGEhYVBEUPYwgbgL5YuXUr2XJkaQEiBnZMuTjB+GCECmrVr15LGGzaPUAmyA/uE1p41axbsDZsgRsf5w0rxB+GhsD7a6Vu3bkG5d+7cOTQ0lOwcQPQ0aNAAxkY0BEQDXBX8zsaNG7Hz62xg20lJSTg6jgKTxp+CZsfK2ASGbW9vDw2EX6F1sDl2ZW1tDUdDrBfe56+//kKx4ExYx2Ng+AVQ2eAoFJUVBkX10tLVxHcJSQljc4POfdpNSxybvHPBuv1LYxaP6z6ks4mFkbg464mAupZqxIAObUO8pKSloAACOrXa+PeKCXOGQRbgVzQ81K7ZoK2KjY1VU1PDT2iQqvnMkQNRAzNmzEAUATvFF5IPZTxixIgWLVrAMCFoOGoADS3aS/gB/AoDhwkPGDAAQgT6gETMmzZtgnvp0aMHfoV9wRfp6ekRNYDQBQ4KhoawG20wnBjy4ZfInitTAzgTtPdQJPBdOEkENtgKfoPcVzh58iQkC1wEDgf/lpiYiDXh9O7cuYMoonnz5suWLcN/xB5wSteuXYMa6N+/v6OjI9k5wD7hHiERSN8LOC5ILjTeMH84PfiN+/fv41QXLFgAZ4JDwC/h/+ILvDFc6LZt28zNzYcNG4YcBCpwttgDrhE8EhwROQQ2lJGRgZ8hizwwaqBug1oO25OWkQrp5l9hr+Dqp6kJoxEKAGdn5+PHj1MHqASOGli5ciWaaghwNOTkHT9UXIQIycnJaMy41UBeXh5Wg0bmxPQlJSWovtC5X758gYa1tbWF5SAfi3Al0LYcNTB69Gh9fX3iX1Dvr169CmOG4T19+hQ5lakBnABW4OhiWL6lpSXibHIHr2fPnurq6uSI2OfLly9x/jBRNP8QN/h3JLjBTmBLEBDVUQOKiorwNSgcsgKU+JMnTzjPUGDGsrKyWAHfUQiIAwD5C/jL2D98BzwaRzHgoAhc4JjISTIw/Gdgfah7kPv2TWz2XkibuWJSIzcHqAF4D7l6stq6mggnLOxMdfQ05eRZ0xyLiYnZNLSAOJi+dIKOvhZybBpaLkqLy7mxM2XPInVNVeTUq1dvxYoV1AHYFBUVwUbQYONYsKMa3R4gagBtOcwcYTTcArH3U6dOubq6Qgeg0YVE4KiBmzdvktWg1EnO3bt3SeMHO8IiHIiRkRH5FQaO0B8mT9TA3Llz4XmgA8gt9OfPn0MZwDvBBrFYmRrATmCtWJksHj16FCc2fPhwcjgE4qqqqqTdxZpQJDgiBAQaYLTxaJiJRoE/wf+Cx6imGkAbj03ICtgb/AnnAURKSgq8Kz6xKxwR/xculPwF/C+cKr4jcELMA/lCdoIjwr2Qgi0PowbqNqjfMEsVdaXoRWN5WveapqxLmzS0WboeNunp6Vm1IOBWA6i7aPVRj8njqKFDhyLALS4uxnduNYBqjXoJgYyKS3IAGldlZWXsTUVFpUuXLlQuuzZjW44awM6xLeQ2ASEIJAvCd3KUytQAAe1ueno6toKWNzU15agBnHzLli3JOtyMHTsWxy3/qL46agDygtzk56agoGDNmjU4AfwjCHOiBnDmCFygcsg6HCDqYa7wVkQf4Pu4ceOIz2Jg+M/AZNCOIr7vN6Y7jP1w0fb1B5b1HBaG6B8mz4OomCiii01HVu6/nDF+1lAxcTEJCYn+43r8XbgN2x4q3BYU3gY7w5qITbkFAQwZsS+sDD8hPCCtWjXhqAGYJ3QzdoLgHvnIQSMH64YVcKsBxPewDhg1t3UgMoZdk3v+kOaBgYEkH8DtoBCIGoAVI7rAItudJMbHx7do0QJHIc/mK1MDBEQX27dvx1ZoaBs1asRRA/BIiOM5LTcHeDxER+VftK6mGiivqCCDUlNTcQLQH/AhRA2gEOBCw8LCqJW+gXKzt7eHT0O0g4KFXunRowcnXOGBUQN1Gzk5lpDXN6q/O38Dp13/z2n9/qUGJqzBi2ByCNarMGZuNYCKCPNACzpz5syzZ882bdoUFkLunnGrATTJurq6nAcKhG7duuFY2Bvqfe/evalcNmhcOWoAQh6iAZG0H5s2bdrAelHFSWelytQAgnI4FNgb7BxbNW/eHMbAUQNomP39/cma3EDN2NjYnD59mlr+RnXUgIaGBvmJAHlOOi4h7MAJuLu7w6sSNYAYAt5q0qRJZE0OpaWl8Ck4AbgVlC3kBXQ99RsDw38F9sJ6DigtuWoH1dH42K3MA1c2bzq8cmrC6LYdvJVUFBWU5Vu3bzkpfkTGsVWIDbDOzjPrQ7v7wyEYmxvMXxtDNkTaezHNr6MP8rFPHul85coVBOj4CXHzvXv3qNxqwFEDaLaxw4YNGw4YMODixYshISHwEqSB51YD+fn5aP84DxQIkM4KCgpoL/FdVFQUBkvyCcQYYYDwJFgN58l2J35YxHdEVuTuZmVqAG4KAQ9+wk6wFTaBc+OoAdgsgqjyaiAhIQFeAiqfWv5GNdUA+YkAp5qUlIQDQYXgBHC4evXqcdQAVu7Vqxe16jcgJjp06GBhYYEygZ/E9YLXon4rB6MG6jBHjx6F1UG5N2vtCtvm2Op/TthJWvZyIggsLS33Vj6vObcawGJhYSGMtlWrVggIIIRhM0R+/lQNBAUFkXsDampqVasB2ABa8XdcoOEktxkqUwMIyqGLIWuuXr2K9aFU0B5zqwGoBLImN1AD+F85OTnU8jfg2gICAnDCnDv/P1UDKCKUxpQpU7AtTiA7O5s8SsBPUAPS0tJ9+/Yla3IDhygvL3/mzBmYMU64vH9hYKgRaOS0tbVh1Iam+kdv8j5PzCnZOSZusLqWGpqKxI0zuV87TM9J9mzVFBvaNLRYtnkOJx/p7+vbWoewWn00yfPnz6eOxL6r1717d+RD1HL32P0pHDWA71DeAwcORLs7aNAgOzu7v/76Cw0e8n+qBrA+bJBIBziWKtQAvly7do3tSChg18SfVKYG0BjjT7m4uJw/fx7rw6vAQrnVgJGRUYVqAOcJV0Atf6OsrCw8PBz/DrsiOT9VAzgxuET42Bs3bmAr+EY4Ro4aEBMTgwemVuUiOTkZjhcBG7SCoaEhKckKYdRAHQbNDKxORlZ66OS+3Ib6K+lw0fZ+Y7tht9DO5SNXDjxqAMyaNQsNP7QqRCuxRsCtBmC9ELNhYWFQqai74MSJEzo6Oqij+N6sWTN9ff28vDzyEwJi2AlHDUydOhXHIr/CYsk6xHRBZWoA60NkzJw5k6y/b98+NP8cNTBkyBAIAhg2+RVxPAKRFy9ebNq0CU14YmIiViM/nTp16tatWw8fPsTJOzs7nz59GpmwxsGDB8vKylahBuDaTE1N9+zZQ855xYoVcnJyRA3Ag7Rr1w6NPQybfZAvJSUlkC+QOPhUV1dHsXCcIwPDr5CRkUH6Gof2DOCxd6Td5za4eTXBr8Ar0PPQddbjAJJYasDXBfk2DS151ADSpsMrISDQCLVp04ZjjPjSo0cPbPIragDADKFgcNoeHh5QxiSTWw3Ayfj7+zdv3vzKlSvEgmDLaE0RlpDW1NvbW1VV9fjx4+RXNKU4JaIGYLPQ8Wgg0TRy/Akge65MDTx//hz2C6vHmtjq5MmTODpHDcTExMAbwF+RXb158+bcuXP4CTEAzmrs2LE4K/IT8ouLi3FoKB40zzgcMqFF4EIRLVShBuDo0K6jdSfnjPgKPpPTbwAiDHuD92Af5Ask4OXLl3Ea8DCOjo4QLgg/cBrUviqCUQN1GDLokIKSfPKOBTyG+p/TsVuZKXsWkbEHAgMDOa/r8FBeDRATgq0in/PsnFsNvHr1CqaORR8fn2nTppHQ38HBAbUWVRlbwRKgrydPnty/f3/YLZrkpk2bEjUAFQ9xgLZ25MiRGzZsiGUPjLru25zrlakBxN9obhs2bLhw4UKEL/AOiLnnzZtH1MClS5dwRFgX9onz8fLyQiSBVh/nA4eCwKJLly6wT7TK+A7hgj8F84NIwj6hw4KCgqAM4G4WL15M7haUVwNbt261tLQMDg6GZ8Eh8GdRPvB6+Onjx4/4I3B28BQTJ07EtlAqEC6kz2NAQAD8LI6F+IO9JwaG/87cuXMh02HRw6f2K2/vUfEjtfVYrxgQuJ3JztPr2nfzQ6a+Uf05q6Zw8kk6WrLLwo7VRcDCwoJzLw1NHZQ9MhFD/4oaQNOOSBdSA0ZB1DbgVgMwurVr18J+4SUQt6ARhdOAAyFiHSvA+mDgkONwKYMGDcL5wKXgEyE46YEI9wVXA6kEM+/bt++CBQvInitTA/Ab2MrIyAjluXTpUnJfE96DPK8sLCzET8gZOnQozhm/ohxgvwgzkANLh1HDceGI0PpQJHB68CqwcRg+/El4eHijRo3gHuENSEfF8moAzhDugryegHN2c3NDPINCIDckjhw5gv9rbm6OJj8qKgrFgoCHdNnGQbEmChOlyt5TxTBqoA6DZhVWp6SquOvMeh5D/ZWUeXaDW0vWVCWoppU9tIa97dy5E6bFeef49evXqIWo8dwv4KJCo8pSC99e+YORoMqimYTKvnPnDqwCP6GtReuIOADW27Zt2y1btkAfDBs2jPTrARAEkOEweGwIW4X9c37KyspCdIIInixywD7hpDp27IhNcGJwN2h0ccKIv8kKmZmZLVq0MDY2hnbu3bs3UR7gwoUL8A7wcQAagvN0A0of9oxigdOBHIFJw4YRYRD1A/vEiZE1CRDm+BfYA04Ayh0iHd6EUz4vX76ET+E4Kbgz8rwTLF++HKbr6elJFhkYfgXUVTS0sOgV2+J5jH3HqbUt/dzxE4fmrV05DwsOFW0fGzdEVExUUkJs8ISeh4u2czZEgpLoP451GwDNGxlIA0ECYnpYNzJxUBLjVhM0jQgPEPiSRSiAhIQEuDi0zSQHwF6wc2rh33/fvXsHR9G6dWsEAzCxHj16XLx4kTyjBPBRiBPgbeBSsJ+NGzfC9uFSiKMoKSlBG+zq6ooNEWnAt+Tl5ZENsQKcRvl+f9ghPAOOgk0QPCA2gIDAKZFBBQBOFScDTQAX0alTp3379pH8oqIiIvdx8mjLExMTyUniPy5atMje3h5/HLEHPAnCp6SkJBKu4AsOxN4BBQQQXBZcGfIR60P3wKvgoGRvHBfaoEEDCAtIEJwt2RAXBYEK/ibRSZXBqIE6DJQgrE6rvga3if56Onh1y4DxLCOHbo2JiansuTWqIM+IY4h3eVaGnZS/u4DwlwTT5UGF5rzAwx9wwpw3lHhAfvlnbFgfZ0j6SPIAG+a8PFl9sCueYgQpKSlQA1D91DIDwy8QFhYmIcF6mfDgFd6BhhanxXn4uBibG8jIySgqKxia6uH7thN/cVZYmDoDHgbb2jpZLtk0O+fH15jXZi2RkpFCXQ0JCUH9RxMLfYxjSUtLo7EkKrn6PGC/HccB1sezBzT/pKMfN8jktMflwU5qJEp+HbT91Lcfwb/j3OTggOYZUQHCJGqZC/wvngKpDnCt5Yto27ZtWlpaUFck9KoMRg3UVdAmobUWEfmfQxMbbvv89XTsZubyrfPIACNQoMzL7nwGggPyH1qePI9kYPhFEBTClqVlpHgsHWnfhU2pB5el7FvcuW+7/uN7rNyxAN+zC7ZwVthyfE1weBtpWWnsIaBTq/Qjydz9ELMupTu62OInBLhocuLi4tTV1bHo7e1dWaPIwGcQtvXr169+/foFP5ujmVEDdZVjx47JycmJiIj4BrfgGOfvSltz1yBigFXDj+zZs4c6JANfuH37tq2t7bBhw6hlBoZf4PXr11ZWVrDlBhaGPGZezZS8c0EjdwdRUVFFZYWOPQOXbZ57uOjbo4Tr2wZP7I2dq6mpQQGQZwS6urqbNm2q0dBDDLXHgwcPWrVq1bt3b/IAogoYNVBX2bFjBxlcLKxPO47d/q504EoGeVhQr1692bNn1/SOH8OvcOvWrTVr1hQWFlLLDAy/wMmTJ42MjGDLTZs34jHzaqZD17dHxY8gIxJKSIjZNbIaOrnvorS4jYeWp+ckj4juL8Yexhi+CJ/KysqTJk2qrPcxA/+5f/9+Wlra+fPnOT0qKoNRA3WVkSNHSkhIQLCPjBnAY72/no7dzEzcMJMMTRgeHs7p3cbAwFC3SEpKInfvQ7pV8HohJ81bE7140yyefoKctOvM+jEzBlk7WkhKsfofyMrJWNqbebZq2tLPw9TKWJw9LiF8kYmJSVRUVElJCXVshjoFowbqJC9fvnR0dIQYFxUTXbtvMY/p/paUdniFpy9r4JEmTZqUH4qHgYGB/pSVlXXu3FlSUhKGjPaex8a5k3eAZ8deQfsvp/Pkc9LBq1uWbZ4bGNZaWU2J3AbgQVpaevDgweW7xDLUFRg1UCfZt2+fhgaro699IyvuscN+Y9p3aVOv4V1wCAUFhfnz57/7cSJtBgYG+nP27FkydaGmjsbeC2k8Ns6dmng6tg313neRNSBxFWnL8dXz18YOm9y3dXsvT18XpJZ+7q3atainICcuLt6pUyem82DdhVEDdZJhw4bJysrCyAdO6Mljrr8rHb25a/66WCMzfRzFzMwM+uOnj50YGBhoRVJSko6ODkwYMX3OjZ08Ns6dqqkGSMq+umXrib/Sc5KRNh9bvXLHfCdXluZQUlKaOnUqn9/oY/hdMGqg7vH06VNnZ2dys27LsdU8hvob0/5L6b2GdZGQZPVO8PLyYsbFY2CoQ5SWlnbp0oU81EdAX/VUJjVSAzzpcPGOuJWTSDdDbW3ttLS0ygYpYaAzjBqoe+zYscPAwACG5+LpdOzmb5isqNJ0azfUhm8ga5xRCQmJqKioCkfJYGBgoCEnT55s0oQ1AYGuoc6O0+t4rfvH9CtqACn76pbBE3tLSkkiSmnTps2VK1eok2CoOzBqoO4xbNgwMpHxkMl9eGzytyfEE/F/RZtYst5QUlRUPHHiRNVjWzIwMNCExMRELS1WvB7SPeBAuVEIedIvqgGkrSf+8uvgjcOJioouXLiQ6WlU52DUQF3i69ev27ZtMzMzg8nJK8pvy/0+gGitpl7Du8jKyeCgUVFRjJEzMNAcOIq///67cWPWbCNiYqLz18bwjChcPjk3c/pFNYA0O3mKIXs+9ODgYOa15DoHowbqDLDws2fPenp6wtgkJMS79Aup7OXg354WbYwztTLGcT08PJjhchkYaM7t27fDw8PZUkAsMKx15tkNPBZdPnUf0qlT7+CsS5W+YVidtPvsBv+OPiIiIurq6rm5uVWPis9ANxg1QCO+sGfNf/PmTfnJLcCzZ8+GDh0qKysrKirq4esCw+MxxdpLWZc2tWjrjiAD/mXz5s3MwwIGBjrwzz//vH37Fh6De7TQDx8+JCYmqqmpiYiKWDtarN2/hMecK0xxKyZFLxqbfW0rT35N09ApfckUJ+PHj6/pDGQfP37Ef4EPLD9bGAMfYNSA4EHjioD70qVLWVlZMOO5c+cmJSXl5ORcuXKFM5QH7GT9+vXkGYFBA91VOxNqt/9guTQuboi6piqObmtry30PECf/6tUrxCLFxcUlJSWQLEx3YgaGWqW0tPTu3bunT59OT0+Pj4+Hx9iwYUNeXh4M8+XLl/v373d0dISpqmupxi4Zz7c7iCQt3zrPrpGViIiIjIzM1q1bq+MN4ECuX7+em5u7bt06/JeEhIRt27ZduHDh/v37zJjo/IRRAwIG0v7YsWOjRo1q2rRpvXr1YMMEfPfw8Bg3btzZs2ch9mH5vr6+yIfuHj194MGCn/QJ+u0p80yql7+HpCRrXNIJEybgzKHfYbGbN2+ePn16REREUFBQx44d8VNqairOtsLbGwwMDL/Iw4cPYWI9e/Y0MTEhbw8CtL76+vphYWGxsbEwRuTIyEp36h28PW8tjyFXluBSkKp+C7E66UjRjoETeiqrsSZb9/T0rHDubw7QCkVFRVAAbdq00dTUZP8VFrKysg0bNuzfvz/0BDN6Ad9g1IDAQFR9586dpUuXOjs7c6xaQ0NDV1eXjCsOpKSkWrRosXjx4kGDBsFCxMTE/EK9t+Su4bFA/qRlm+do67Is1tzcHCHIxo0bfXx8FBVZZs8NztnV1XXhwoW3bt2i/ioDA8MvU1paithg7Nix9evXJ7YmISGho6MDj0HGHgbwJAjKRUVFm3g2XJ25kMeEq0izV06emRT1d+GvPilA2nl6nYdvUzFxMWlp6Som33rx4sWuXbvCw8M5URDWx3+BLMD/IjlQPDExMQUFBcyzAz7AqAGBce/evTFjxmhra6PSw4Dd3NyGDx++bNmy1atXL1myZMCAAVDH+AmGraSkpKrKuktvbmOyaONM7vnF+ZyatmhEeg/gzMmYBzg9KJhGjRo1ZYMAhSgbnHPXrl0PHTpE/VsGBoZfAMHD8ePH27ZtS9pOGF1ISMiUKVNWrlwJjxEdHR0WFkaGHQTi4mI9BneqUSeALv1CQrsH/OI7BZzUZ1SEvCLrPNesWUP9gR/58OEDTtvOzo64C1NT0169ek2fPh2ZSUlJEydO9PPzU1FRwU+IN9q3bw+XmJqaeuDAgQcPHlC7YPjdMGpAMLx584b09EF1NzIygg44cuQI9911COesrKyePXuSdVhWoawwOKr3/isZPIbHz9RzaJi0jBROhoh3eXn5zp07p6SkZGdn4/zBpk2bhg0bBq9EhkqEPoCup/4SAwPDf+XWrVtoL9F2wvQcHR3j4+OvX7/OeSr/9evXCxcuoHFleQpodBGRZq2aph5M4rHfKlKX/r9TDcQsHqepw7rBCfmChp+cJDfwFa6uroglpKSkgoOD09PTuSdBLisr27t3Lxk6ifV32CEHIg0nJ6fw8PCpU6dW06uQLlkoKHD79m3m8WXVMGpAAHz+/PnEiRO2trao6Iiw586dC8GLikv9/A3kXL16Fc0tMQltXc0ZSRN5rI7PKWnLXIgSnAwae0NDwwULFsDMqNP9BqwamqBFixawYRAREVFaWkr9xsDA8DPQ1G3dujUmJqZHjx6IB6KioiC4J0+eTAIDWNb27dt5nsfDVxw7dgxhtKioiLi4GFaTV6jXa1iX6r95FP5b1UDG0VVWDubwEvXq1Vu+fDl1lt8oKSnp3bs3mWklMjKSZ+r9jx8/4r/gj5P7puWRlpaGyNi4cSPWpLYpBxr+1atXjxgxol27dr5s/Pz8cFDEYIWFhcyUKxXCqAEB8OrVKwTQYmJiMBV8efr0KfXDj6DKwk6CgoKIDUhJSyI0/13m+t/SnFVTyQ1A2LmlpWVlMxcgZIHcgVzAmioqKuXdAQMDQ3kQyCYkJKC9NzMzU1ZWJoYmLy+PmIF0skP+unXrysvrK1eudOvWDSuoaqi09HMng4camOguSZ/NY8KVpS792od29/9d7iWnZOeYmYMVlVmvGuLks7OzqRNlg79AWnoXF5dTp05xt82kFXdwcCBaAd7D2NiYDL2qqqrq7+9PnobAeZqamkInvXz5ktqSizNnziCI0tfXl5FhjZnGQUJCQktLq2XLluvXr3/z5g21NsM3GDUgAO7du6erq4va6e7ufvbsWSr3R168eBEeHm5jY6OgwIrFCW4tG6/bv5TH8PiZgsLbktcKAMwVxpmRkVHh5AWw8FWrVmE1UVFRNze3Cu8WMjAwcDh+/HiHDh00NDTQ1BETK4+FhUV6ejpPl7qOHTva2tpCNGAFM5sGCeun9xkZISsnIyYuNjK6fzV7D4T3D/2N9waQsi6nB4W3kZBgdQtA5DBjxoz8/HycLWKh8ePHwy0oKSmlpKRwK5svX76gIUczj03ExcUbN24MZZCXl9e2bVuUiaSk5I4dO44cOdKpUyesAJ2E9j45OZnamA38zKJFixwdHcmjTGxlYmLSvn17bNKoUSPS1xKH1tPTGzBgAPO2Ag+MGuA3qPEHDhxAjZSWlh44cGBl7+PCTqSkWE/ogbSMFBnQQ0dfa/66WB6r41vafXaDqZUxjFBaVlpWjqXcYV0IWZycnPBHtm/fzjPYCGS+j48PVoPR8gQHDAwM3MAnIDYgJg+djdZr+fLlV69evXz5MlQ1GWMYwOLQsm7ZsoXjN/7++2+OoxAVE/Vs1fTQ9e3z/oo2Nmd18vXr4LPtZAqPIVeYIgb8ZjWAtPvcRuuGljgNOA1FRUX4AQ8Pj379+pH+0c2aNTt37hz5FwR4jODgYPjGevXq9ejR4+LFi2jdv379OnPmTNKNOjExEUrowYMHc+fOxSIae+wQKora/t9/N23aZGZmhj3gV0NDw/Xr15eUlDx69Ojx48d37tyBF4JyIncaUMgTJ06s4lmDEMKoAX6DoDk1NRXVEbaxdu1aKvdHLl26RG6IydWTbdO+ZczicZGjumIRtXzqwtE8Jse3NH9tjAa7Z5CbV5P5f0Wra7HsE8DU4aQQmkDUR0ZGbtu27e3bt+SPREdHYwVY8sKFC0kOAwMDD7dv3+7Zsye5JWBjY7N58+YXL15wBt5B4xcWFsY2NRYwt6CgIPKQrrCwkHQ/YrWLvi4rts4jvYw3ZCdhEfmevk3Tc5K5rbiyVBtqAGlb7l+tQ1qyT5wFPBh8BfmnLi4u+Kfc854kJSWRmN7Z2bmgoIDTlWrr1q3GxqyR0QcPHkxkEFp3codARkZmyJAh5HlBfn4+9kmkADTHzZs3eW6iwPc+efIkPj6evKKJeGz37t3UbwyMGuA/qJFQrKiLkK4bNmygcrmASZBnhLAZZ8+GBy5nHL+1e/SMQcgBkxeM4rE3vqVxcUOUVVmjC4T1bYfFgwWbx88a6ubjLC0jTc4NwFUBGCQ0+5gxY0JDQ5EJGQ6Lpf4eAwMDF2ixYPLkCTfC5fPnz/MM748GjEw6YGVl5e7uTqxs2rRps2bN4gxMoqmjsf/i9ykGtub+5RvcHPkePi7VVANhke1Cfl+/Ae507FZm6sFlXQd21DNmPR7lBn8EDXPz5s1Hjhw5btw4MtaqtrY2z/3/ixcvOjg44KcBAwZwbopALpiYmCDT1dX12LFjHz586N69OxETEE9V9FxG8c6YMYO8vmhkZFRhzwPhhFED/AZqYOPGjaiIGhoaUKlULruOwuzbt29PHm6JiYuZWjVI+3sFzOnQ9e0Dx/dEpqyM5PQl47gtjZ8Jbb+yqhJOo3MflhrgpMyzqdMWjvEO8NTQVpOWkRIXF2O/XVgB8vLy9vb2cHkAwdDQbwwbNiwlJWXbNw4cOHDjxg1Y6evXrxE6wM7hMTmBwm8E1wJ7hn+pjZ0zMFSHEydOkKYOrSA8Q/lHh0+fPiU9BBs2bDhq1ChyM0BcXBxNKb7AUWjoqK/P+mEygpXb5zu6sFZr1so14+gq7p8qSxk5qzJyknNKdvLk/8aEnW/MXg7ZoaLGciMkbMCXylBQUEDJwFdYWloijkcOvMfgwYPhMaAe4uLi/P39kYkWffXq1du3byclgyjrypUrPIqKB3gVX19fcoti2bJlVG4tAMcC9wU/lpeXR5zbyZMnnz9/jkwa+hxGDfAbVNPLly9Dw8KeYeRk0hEY/NWrVzt16kQqvYKifLPWbml/LydWtPHQiuZt3ZBvYWu6bPNcjnXxOcUtn0SeDngHNeP5iaSdp9ZNWTC6dYiXkZkB1lRSVZRgdzmE2bMlQiUaoRKkpKQQDAUFBfXu3RvB08GDB4uLix88ePDixQueG4A1Bab4+PHjmzdvwoNAhaxfvz47O/vOnTuwUmZcdAZ+giZhy5YtsHq0TAiOK4xT0XSRx+SIH6KjowcOHEgiYFBPXs4rwINncFLE4jOSJuoasDrtRwzosOf8Ru5fBZ7Sc5K9A5vh3BSVFcxtTQxN9OAr1DRVZNhzpv9P5H/iEuKSUpKi7FHOqgl8hbKyMuk/0bFjx8zMTIQTjx49gmutrNHNyMggd1a6d+9OZVWDjx8/wnsAfKlacOBXXLicnBxcrwYNGrBPk0JHRwc+7ejRo1UP28x/GDXAb169enXmzBlyTwyt3fTp06dNmxYaGsoZphsR9rhZQznGc7ho+/SlE7R0NfBTS3+PtMMrOT/xOe05t9HU0hhtuoq68s7T63l+5UkpexdPSxyja0j1fnDzauzgbGtlb2ZhZ2psbmDQQJckTR11NQ0VVZLUleEg5ORlkaSkpSpUD02bNu3Xr9/mzZsLCgrQote08YZruHv37tKlS9u2bcs9pjJ8sYGBAfzCjh07oDaqtnMGht8FKtvUqVNRA/X19Tdt2kTlsoffQYQAhYogIT8/f+HChaSiIlzm1Fs0mQPG9fi7cBuP6cE223VtixWkpCWjE8ceLanW0KVZl9KR+DAXWva1rX1GRiAWwvlHjumGg67bvyR554LQHoE4Z8QPDs42AZ1bOTdrCHeBpK6pSm4hSMtIw5/APVLuQkOF9K2ukHr16nl7e8O1oj2G7ofX5ZEFT548IU4YJU9lVc779++LiopOnTr1119/LWazbt06Mk0UfqJW4uLz589Yf/78+aS7A5CUlFRTU4Oe43T5VFJSmjBhQklJCX1uEjBqgB+gciCoPX/+/N69e2NjYwMCAjhtPzcKivWMzQzQiHIM+OjNXaszFzZyY91IlFeoN3xqv/LGz8/Uul1L8spQSFe/n57JtIQxWFNUVMTGyXLvhTSSeaRox+Zjq//as4ikuOWTJs4dTtL42UMHRfXuOqgjUnBEW3cfF/sm1uY2DfSMdKAY5ORZPYEJMC0IqcGDB2/cuBG+8uHDh9W5WwAlDtfQpUsX0qkYwLHCXOEOyMvNAN+nTJly6dIlprMxAx9ACBscHIyK5+LicuTIEQSdUKtoddavXz9ixAgECfb29pzOAQSOSjY01YcpccyNpINXt4ybNQQtJVZwdLFdszuRZ4XK0pSE0VHzhmdf3cKTXxspnvXKA2swEm09zTmrpx4p3oHMpemzkSNbTzZydDfOmohA4Aoga6DXvQObLds8N3bpBMpdzBraLoIlesTExRAskacPEBNKKooyst97MsHY27RpExMTk5WVde3aNW5ZgHzsFpDFykCDnZSU5O7uzvEbBDTtfn5+q1atwiXjfr6DWOLKlSu4rORGL5yMk5NTREREfHz8kiVLevTogZAGUgA/wY/5+/ujXaC2FDSMGqgt3r17d/369RMnTuzZs2fNmjVoulxdXSuMd0XFRNHaNfFw7DsyYtHGmZwZSGEkSzbNCuzUClVcUlLCN7hF2iFWNwIBpvlrY3T0tXDOCvKy05dOyCmu9CkjWnr9BnqsNZXkR0T35/m1mml73tpVuxLiVkwaHTuw57CwVu1aOLna6RvVl5Km9DVa8YYNGw4ZMiQlJSU3N/fRo0eVCW0EW2lpaXZ2djB+bIiwIDAwEA0/9ASuDjxvq1atyIgoMFH8dO7cOfpodoY/leLiYvLw29LSMjo6esGCBX379rW1teU8CyCgwZNXrEcGBYcPIW7E3NaE+xnBsVuZO0+vhxQws2LFoxAEY2cMrn7rHt4/BI1rbfQiLJ/2X87oPTycjGPWsKn9rJWTcZ5bjq0WlxDDP3XzckakkXNj56YjK/uO6qpVn3Vb1MjMYOWOBdxTtGAn5E0rVQ3l3iPCW/qx+lcqKMt3G9QJ/8XL39PKwYzz3hMgjTcKedeuXZD7b9++bd26ddVqAOsgfkBDTvpyodiVlZURh5iamnLu0Kiqqvbp0wdKjhM/vHnzBjn4CRcRfmbkyJFwJtxyAaJk6tSpuOJYB4ohLCwMeoL6TaAwauB38vnz59u3b//999+Q9tOmTevYsSMkv56eHrdta9ZXt7I3a9qisUtzJx099rsD4mIGJrqDJ/ZGy4cqDqvefXZD8s6E8XOGWTuYYwVRUVELW9P5awU20gB3gn3CfmAYCE0mzB5WfsrUrEvp0PsuzRritEVERVq09UAOzzr/OaUeTIIKiRjQwd2riZ6RjqQUNXWbvLw8ihqyIDk5+ejRo+Wt68yZM6TfEAS+t7f3hg0bnjx5Qv3GfoKACGDWrFkODg6wfDBq1KinlYwRycDwiyB8RJOwb9++uLg4CwsLVGAZGRkSShLEJcTr62vZOlk2b+PWoWdgl8iQgRN6tQn1qqfwPTw1sTJakj47h30fEbJgYeqMTr0CyV0BWTkZbFXNkQZI+r2zFv00pWYn4a+RfkUGDXT7j+mGuJ/4Q21dzakJo2cuj4L6R+uOHFV15ZExAw5wTeMOJ7nx7+X2TWzwq7WjeXxKTGiPABQadpi4gTWv29/Xti7bMnfszMFtQ71RjNgD1iTo6+tDgSESIGMY6OrqUlflR9B+I1Ro1KiROHteJbjxnj17wkXs2LEDccXMmTM7depkYGAAl4Jf3dzc4Hbg/7HhunXrSEcQOJPU1NTK3lnYvHkz6faoqak5Z86cDzQYn41RA7+HBw8e7N27FxcVQtLJyYnn5h7UgK6hTtMWjSL6h05JGL0oLW5DdtL6A8vGzBhkYWdK6pO2nmZjD0fYMILg4C5tnJrakw78UtKSDs62UxeOOXDluzEIMGXmp7o0b4QTQ3yirKIY1KU1/hFke8bRVWt2J85ZNaXrgA76xrqkE5CJpVHyzgU8e/j1dKR4R9qhFTOWTew1LMzTt6mOvhYcAQ4HoNldXV27d++OMItzC+7+/fuI/smojlDip0+fLt9zG7x+/TojIwP2j9W0tLRg1czzAobfy/Xr1zMzM9GWtG/fHo0BGUCQAxp7BMHu3s69R0bELB6HBpI7+k/PSQ6LbK+hTU1jpqSi4NqycffBnXoN7+Ib3BwBg4QEy5Moqyoiyl/741sGP00RA0K9Az352eUQzTYieDl51kM6CUlxtNka2iy3KSEhrmeoA4mAMAmL9Q20+43pnvnjhAvZV7dEjurKav4lxNHe7zi1Dg0/uRPQZ0T4wW93RCAasi6mQxaMixsCp2rf2FqxXFcDiIPt27eXt3QE9C1btoQUkJKSat68+dq1a3nadXgVxB7NmjUjMi4gIODRo0cvXrwwN2eFcGjjly5dWsUTTEgHqAo1NTXyPvbJkyepHwQHowZ+icePH0PgT58+HToRSpBMNkqQV6xn5WDu5e8R3j8UwhbNZMq+xYd+fNYOtQtF7xfqraTyvUcbB9aNKVWl4PA2y7fNO3RdkN0FeBJafbgbcqMPBqlZX8PB2cbD18XJ1R6+jNzPRNTu2qLxgloeORERAHTVrJWTI0d3a9aqqbq2mogo9SwGbT/sEwL8zZs3kPOkxxD876FDhyqUAoT379/PnTsXUgArN2nS5OHDh9QPDAy/wK1bt3bu3Dl16tTAwEBUQk5XMrQE0rLSUPz4rq6p2mNI5/lrYxAnkEfp5VPSlnl2ja3JtuVB0wifMzK6f/n+BD9NUAMuTa0y83/SO/g3ppwbO1MPJvUdGVFfX4tjttzIysnAh0xbOIZHoxy8snlS/AiiiozM9GH+OSU7V2yfb+3IaoYhI6CieLpDHr25K/NsKhzpxLnD23fzM7M2JrclCFZWVlOmTOGegO3JkyeIH8jjAMQP3MMdclNaWnr48GFoBcR7kpKSs2bNgsPBJtAH3bp14777WCEIP3AUrK+hoYHohcoVHIwa+I+Q59AdO3a0s7PjTCWAgBhxqm9Q80ETe81Knrxie/ymwyv3XkirolsvqilMd9K8EcHhbRu62CKYNjY3QPLwcekS2X760glbjv/w+hBN0o5TayfMHgYRQP44D5DzAyf0rGl08ivpYMFmyIL4tTGDJvRC0RF1BROFncPeunfvDltFHLZw4ULOOImVce/ePWg7rI+w4OjRo+V7D3z48OHs2bPHjh27xKbCTsUMDAREh3v27IGjQFVEtEAe+f9P5H96RvUR1A6b3Ddq3ggybqC8gtyAcT2quFePkGDszEHqmqxnAXrGui7NnMxsGhB3Ab/Roo0bNkej+N96AkINNHG15acaIAnuMSF1Ru/hXTy8nfFHdI10OO20tq7m2BmDDhb88HcglQI7tSIvK8HM+47qeoA9/CI+w/uF1GP3NXZytdt64i/urTgJrnjtviWuLZuQo5DBVQF8ePv27ffu3UteU8IlI9ND46qdOHGiii5ECPEzMjKMjFjTROno6MDV4IuKispff/0FR3Hq1KkNGzZAIkBPEHfBMy8D3IiSkhJcTf/+/d9xDcsoEBg18F9AjVm1ahU0PnmkBGRkZdy8m0SO6bZ8Wzxad54a/NMEO9+Rt3b9/qWrMxeu2pWAlHZ4RebZDZDPPGvSJx0q3Jayb3HU3OEdegRaO5hLyUgZWxj6dfQZEd1/6eY5+y+zTJT/6cCVzSi6hakzEFXgusD5ws7JdHCOjo6VaXweli1bRkaGhtjn3OuDbR85cmTevHmdO3du2LAhnEUjNl5eXq3YDBo0aObMmfACBw4cQJzBPGVgQOXZtm2bs7Mz52aAlq5m6/Zek+aPXLlj/tbcv9ByHy7eMTt5cgMLVh97NHL9x/XYc66C2/X7L6djKwS1oqKsW4bjZg3Z8PfyNbsTibtYlbkwPSf5V4wOaqChq92u/FSefP4kaCCYLf4IXEfPIWHkvqO0jBSKBS5l2NTICXOGIQV0amVpb0Z6C8nISgeHt9l5eh1nJ2l/r3Bu5iQuLiYmJursbo9QivMTJ63Zs6hdhJ+KmhI8g1Z9jVkrJvcf212Z/T4CrpGDg8PEiRNzc3PHjh1LRoeEK/jpE/03b96gLSfvJWEP+EQDP3r06NDQUCxCKDRo0IDHXQwcOHDChAlr2BDZAS1y+/Ztao8CglED/4WtW7fiEpLn/Y3cHfqOioBZbsldk3X5t3WXqxvp1u7D17fDKwV1aS0qKtq8jWvyrgXZ17Ycu1Xrby1XnXACm46sHDi+J3kSSYAm6NWrF67dT28P5OTk2NiwbnvAntPT0xcuXNinTx+ICWNjY1VVVUl2B+PywB0gJtDW1ob9W1patmjRYsyYMYg2Xr16Re2XQciAfHR1dSUxQyM3h6h5IyCgd5xax3lviKSsi5t6Dg2TkZOBESmpKHgHeq7YGs+5oYiQYO2+xZ37BKtpqhKf0z7CDzvhbP5bEtSAk5u9oNQAJ8Fy95zbELNonP23ByJo+5VUFFXVlZE4vYbVtdTGzBjELQWQjt7cFZ8STd5BEBMV1dRR79QneP7aGKirvwu3rdw+v9/Y7g7ONihncodmdMxAhDSQUAvXT4cbRw7KX1FR0cTEhHT80tLSQnD/09FHIP0nTZpEQg7yFiIuExwFd+dxHuArEKXAV+jq6pJNGjduvG/fvuq8KV17MGqgxpw8edLb25uYZWCX1mh1OJ1WhDMt2zzX1Jr1UpO6lmp8SgzPr4JKcCsIvJakz3ZytWfZH/s+AfS+mpqalZXVyJEjMzMz0eqvW7duFpvY2NghQ4ZEsIFlksgARgurhoPg6e9tZmPi18HHtWVj20ZWSBwnxQ1qCOwcbgUyYsSIETgWc7dAqLh69SrUJJECLf3c/9q76BBEwC3eioqEupp+JLl9V/96CqyYWEJSQkVd2aGhSfdBHSNHdXVyc1DTUCGzgeAn7Ari4OjvHiYIagAtosDVAElQS+v2LwnvH6KhQ3WZ5CBbT7Z1SMsNB5MqHO/kcNGOJWmz7Bpbi7I7IkjLSCmpKkIWaOlqQEzI1pMhfhuKYXTsQIgwslVOyc6Mo6siBnRQVPk+fTzAtXN3d58yZQpxETNnzuzfvz9xEX5+flD80P2gfv36SkpKUBLYhHoSxAZuwdrRIji8DUlNWzQi7oK7ywIHxBiamppt27ZF7FFcXExeT+AzjBqoAe/fv9+yZUuTJk1IlfLy90zPSRZ4HCzYtO/Cpp7DwjiWEBzRZscp3ncOBZgQLixNn23twOpCyAHnCdmO9h6NPZp52CEBmbB/QP4ODzKy0m5eTXoPD4fCgM44dH3b34Vbs6+x0oErGfuvZCDsm5kU1WNIWGDnVqbWDTiDIpDD4VhLly5lBIEwUFZWlpWVBUeBuoQK4Ohsi8C0akeBXw9d3z55/igyngepNqTPPKc2atVXHxndP+tirYwYiKOjJtPHm+FMoAkOFmyGufUeEd6pVxAsa+G66QjlYXpVnCdMHn8koj9rvrQKcfZsuGZ34pEfH8KSw60/sBSqyMTCiHh4gMKnvAMb4h8AZ4UKkZKWbNO+ZcqeRTgTFCxJ3O5iXdaSWSsm9Rwa5hvEmlyKA3YrJSUFtXH//n2qMvGRGquBr1+/CueoLA8fPhw6dCh8Oq4ZDNWxqS3EPnd9Es60aleCEXsmdYKissKSTbN51hFs2pq7pm2oN86tvr5Whx6BTVs2kWXfksVFFMEHO2FRVOx7wi/k7xia6of3Cxk0odeymk8PsefcxuiFYyEg6inIkR3Ky8tz91sWEoTNY7x79w7RJHm9CNfd2Mwg/q9onrpRRco4ktxreBcTKyOWDmDXRmiC+gY6nXsHw9Z4VmZSFQmh2qjpA/w6+TRp1hCphZ87VEXyjgVHiip+X4OTIOubeDbE5UPbLIZLQLkIEY5/QKYY9IC4mIycjLmtCXbe2MORDICoz56nEdG/b7sWP5VWBwo2dxvcEevLyEhbO5ibWBjiYFgEixYt4v8IBDVWA2vXro2NjaUWhIbPnz/v27cPUgDmjZjP3dv5rz2MFGDV5mFT+sor1uNOENd0myhlRHR/ouV7Deuy90LajlPrxsUN9Qrw6DuqK0kjYwYsTZ+NBGexYms8GQoa7nh91pJfj5bSDq1o3b6lNNtZ+Pr6VvF+4x9JcnJyQkICtSAE3L59m7w7ICkl2bCp3eJNs3jqQzXTtpMpqJDLMuZwZi+r1fR34TaY86/X9j8gHb6+vVOvICgAaRlpOIeB43vic/i0/sRFLN8yb8uPL3Ci0IZP7UdGMgjv154MAKWspjQqdkAVb5Mdu5m5YF2sjCxrQhYLO9NFG+Nw3EnzRugasPova2trFxcXU1WKX9RYDejp6dna2lILQsPLly+jo6NxkRSU5Lv0C6HVzXABpiPFOzYdWbliWzx3WruXd1gFgadFaXFW9mawOnUttelLJ8DqeFbgJLZa7yQnLwdf4OXvwZle4RfTxr+X2zayIsL/7NmzVK0SDpSVlb28vKiFP53S0tLU1FRcZUSKgWGtd/7uvn61l0bFDmzfte3vqvB1PY2aPkiFPXyhd2CzHeWGW+VJ20+kODjbwrrFxcXh/RB7SLHHXDGzbgD1AJfCsz7SoevbNmQnmdmw5jZUUlGMHN2N+Ex8hnYPIEO2zJs3j8+dCmusBtzd3V1cXB48eEAt/+kgkisqKoKFkwFELWxZIo77ujIJCbLgYMHmyoZMEXg6eHXLoIm9ydiONk4W81Kisy7yvv2Rc2Pn9pMpQ6f01dFjPbjV1tVckj67Cmlf0zRq+kAy5dr48eOpuiUcODo6tm3b9vHjx9TyH8rHjx8RzMFRNG3alNSf6EVjeeoAnVOXyPaN3R0y6dGLUOAJUU3Dpqy3xqSkpcbFDfn72laeFThp38VNXSJDyIjRji62OSU70dL7BrcQZQ/GimoweFIfhEz7L6cfZU+ygPW3HF8TNWe4DnvKaXEJcQ8fF27VuChtlpEZ69lrq1atfvr20++lxmpg69atRkZGAwYMOHPmzJUfgTHw/1FH7QH/deHCBZi3v78/6WEOvR/Upc1vf7fnD0iIfSfPH4lPnnz6pK25awI6+xLRraal2ncE9VLo7rMbduWnwlwXrIv1C/WWV2Q12EoqCv3GdPu9Y7bjcKSDmL29/Y0bN6hKJgSsXbsWSnrMmDH5+fmUp/gGyoEM9lKnefTo0alTp1avXg3Rg+sLJCQlmrV2pee4YZWlrgNCnQQ33gAN08S5wzXZYxOpa6tFzR1efkKWI+x5lfqN7U5W06qvvmTTrGO3MpHW7V/ayM2BTLsqJy/bxLMhVotZMn5W8uTeI8K9/DyIVoDUaOhil7B+Ovdusy6ne/i6iImLycrKHjhwgKpkfKHGagCV3sPDQ0JCwtnZuc2PdOzY8dy5c9R6dZz3799PmTKlZcuWuGZAVFRETVM1qEtrpiNPhSlu5SS4krgVk3jyaZVWbJ/vHdgMAboIu0+fXRPrtqFeYZHtO/YKaunvYWjCmnERVgo5321wp9/+MOhQ4baWbd3I0Ovdu3evbC6TP4/FixfDV8jJybm6ulKe4hthYWG3bt2i1quzzJ8/v3HjxuTlclQtrfoavkHNl6TTqy/tT1N4/5DGbvbMvQFO2ntuY7vwtqRvoJS0ZLuItvHsQaMRDW498Rf7BaKJ3gGe5K4AmvzBE3tzXno8enPXhuykzn3b1TfQJj2WyqOhrdYuwq/C7slj4waTCZrd3d1zc3Opelb71FgNjBo1qknlHD16lFqvjvP69Ws3d1fyoNfAUK99p6Dp8yf/fWHnhYfHSDr/4Cjr8+FRfPm96fS9g6fuHagTCad65l42Puevjm3i7khzNYAEzd53VNcGFoZibG3Og2w9Gaj48bOH1VKEhBaiPntE1Xr16u3cuZOqan86/fv3p7xDRRQWFlLr1VlGjBxB3iCwsrYM6dAuIWluzvl9hU/PctLlRyd5bLyKxO1VLj48zvrykJ3Jtc7vTWyHdrT34Igmbg0PXdzF49POPjjMY/X8TKdZ7iWbfD9z7+9q+sYz97+tefcAjw3WKK3NWtKhRyDiQBI/6BrpuHs7IyZs28HbpblTfX1NcbYb0TPU6Tao0468tTx9MPeeT5s0f1Sr9i1tnSxV1JVJa6KqoWJha9q6XYsJc4ZlXar47iN2BZ1BhiUYOHAgVc9qnxqrgYsXLx6qnGfPnlHr1X3mxc/18vIaO3bsxk2phSUFr0ufIb1ipadIL0ufkO/48nvTk3f3Hr+7WyfSk3d3n767jxNeu2m1Zwv3VRuS7r0uvvfq+r1XhewvhQJL349+/d7ronuvvqXXxUUPL6dv2zhx4sSQkBAbGxsTExMzMzM0S10iwqbNmJx5aMvVh/nFzy/WUkpYNldHR9vD050OU5bxh7Nnz1LeoSL4/GS0NsjJyenduzdq1M5dO4puXP/46QNPelv2ksfGq0jwKi+/eRU4HPaXp9++1EoiDm34qCHNW3gW377K8+vzD494rJ6fCb6F4w+fvoer+eHXytL3Nd/eoTwSywnAGxA/AP+Azx/dFPWFy13gy+viC0WnlyQt9vHxQcNcHgUFBX9//+S/Vly7e4G1B05i7Yf15eaza/lXT+w+uGPFquWz58yOi4tbuXrFjj1bLlw/xbsydW7sE3hdnH1sn4+vt1OjhllZWVQ9q31qrAYInz9/vnnzZkFBQfmJ5P8Y7ty5c+rUqTdv3lDLDJWzfft2b2/vbdu2sRa+fmElzheBJO6j//uVK1GgEbp69eqBAwcyMzP37NkDh36jpPjNu1dln0u/p0/vfvz8wPr8hM/3XImdWfVqyP+W3n14vW7d2mPH/5BbaNWnrKyspKQEHuPRo0dU1p/C+/fvi4uL6/rkVePGjYMJ/3lXhwVxAhxXwFlkfWH/+sMXXnfxzz//nDlzJiEhoW/fvogPLS0tEUV4enpicenSpQiPK+j7QnZYTaiVeY+bl5d3+PAh8p0//Bc1UFRUFBkZ2aJFCw8PjyFDhty7d+/du3dpaWloDF6/fk2txCBM/KAG/hg4PoLz+YPFfks/X+0HBDsUOf/58uXL2bNne/XqRTzGpEmT0ORAZCcnJ+/bt68O9TtGCPTkyRPuOej+JP5kNfA7gNki9D1//jwih2PHjqFKY/EPqww1VgMPHz6ELJKXl3d2dm7atCnMG3r/06dP06dPj4iIuHbtGrUegzDxZ6oBht/BjRs3XFxclJWVXV1dHR0dg4ODS0pK4FuHDh2K6KquvKv84sWLefPm+fh4r1mzmsr6s0hMTBwwYMDz58+pZQbho8ZqYMGCBVJSUlu3boUIiI6OJmoA+evXr4ed5+XlkdXqCjDynTt3cgcop06dmjhxIvwUQ/Xx9fWtX7++j48PtcxQDeLi4qg690cDL6GlpZWZmYm4atiwYUQNIH/RokWBgYH8H3DtP3Dw4EGIXRUVFTExsZYtWxYVFZH8DRs2UNey7hMSEhIQENCrVy9qmYE2DB48eP/+/aTK1So1VgOoNC1atIC0f/v2LcQyRw3s2rWradOm/Dnp38LXr193797dsGFDa2vLjE0bqNx//928ebOVlRUUD0P1kZCQEBUVxSe1zFANPD09qTr3R9OmTZsOHTp8+vTp2bNnEyZM4KgBxA/29vYXL14kq9GTBw8ejBw5Uk1NjbwnVk9Opk+PTpzhIoYPH05dSwaGWkNVVXXhwoWkytUqNVYDkPMDBgzAFx41AO1vY2MDTcBei+7cunWrc+fOaL1E2LRt2+bp06fkp02bNjVowBowkoGhVoF6JlXuz8bX1xciAF941EBqaqqhoSGdx2lGtGBnZ/dtIIH/Geqppa0Y9M+LXM6E9wjayKVkYKg96tWrN3/+fFLlapUaq4FevXqpq6uXlpa+evWKqIErV678888/0dHRtra29B9v4OPHj4mJiRoaGqSgpaUkmjQ037klmfqZSw2MHTt2//79fzMw/G4QE6OCCYka6NChAzwDPMaTJ0+IGiguLi4rKxs4cKCDgwM9exp9/vwZUsDU1BSXSVRUREZaImZMwJvrC/99tObfN6eolb6pAay2bt066tLWWcLCwpycnLZs2UItM9AAiABUMPqqgdzcXEVFRWdn5+XLl0+aNKlJkybQ+BMnTjQzM+vUqRPniRoNgaK/e/duRESEtDRreClJSXEDXdX4qSHvbq7+t/T7PLMcNbBmzRph6/79n0FBvX79mpm8v5o0a9YMFUxI1AAktYqKSsuWLVeuXAkF0KpVK3iM4cOHGxgY9O3bl4ad2L98+bJ3714oGFwjCXGxFu7m5w5E/ftwOStVpAYaNmz4B0xUzbxTQEMgCFDB6KsGQHx8vLGxsbKyspQUazZGNK4ItX19fU+cOEGtQUvI0wEiBdRV64WHNMnPYhv5k1RGDfwiFy5cmDZt2pEjR6hlhioRKjVQVlYWExNjaGiopKQkKSkJjyEjI6OpqRkQEHD16lVqJTpRUlLSsWNHcXFxKUnx1i2s75yJo6QAowYY+EsdUAMIstHwx8XFdevWDUq/d+/ey5cvp/lELC9evBgxYoSCggIKt4Gh+uIZnb9bOKMGfpnjx4937dqVecOwmgiVGgAQBIcPH46NjQ0PD2/dunX//v1Xr159//596mc6UVpaOm/ePDU1NVwgbw+La0ejvz5I+u4rGDXAwEfqgBqoc8AZ/fXXX6SNN9BVTUvq++nesu8WzqiBX4ZRAzVC2NRAHeL27dtdunTB1amvpbR9zYCyO0u+OwokRg0w8BG6q4Hs7OwKp1m8cuXKnj17njx5Qi3TCdhqSEiImJiYorzM/OgO724k/mDhjBr4ZRg1UCOESg1kZWXl5ORQC1zk5+fv3buXbiN/c9RAUCv74hPTf3AUSIwaYOAjdFcDHTt2DA4Opha4SE1NbdmyJT3fKTh48KCTkxOKNcDX7vZprqeAJDFq4Jdh1ECNECo14O/v37t3b2qBi8WLF3t6etLtnQJGDVDLDDSA7mogMDCwdevW1MI3IPDj4+MNDAx2795NZdEJjhqIHh3wsjCB18IZNfDLMGqgRgiVGkAbExERQS184+XLl5MnT9bS0jp//jyVRQ8YNUAtM9AAmqqBI0eODB06tHv37np6evXr18cXbjp27GhpaWlra5ubm0ttQCc4amDmhODX1xfyWjijBn4ZRg3UCGFQA/v27YuMjIRz0NbWNjY2Jo6CQ2hoKDJp2I5eunTJz88PV0fY1MDq1asnTJgAlUYtM9AAmqqBrVu3enl5OTg4yMvL4+TwhQcPD49ly5a9ePGC2oBOMGqgtmHUQI0QBjWwdu1a/EF4Bjk5OSUlJeIluGnevHlqauq7d++oDegBarKbmxuujrCpgcePH9++ffvTp0/UMgMNoKkaQDNfWFh45cqVFi1auLu74wsP+PXVq1ecMTtpBRp4BCIoVkYN1BIXLlyYMmXK4cOHqWWGKhEGNfDs2bOrV6/CM7i4uPj7+xMvwQ1a0Ldv39LNY+Tk5OC64OoImxpgoCF07zcwc+bMkSNHUgt1hPXr1+vp6aFYGTVQS3z8+PH58+d1aK56wSJU/QYgE6Ojo6kF2iO0auDJkydQb4zHoxV0VwPw+O/fv0elOXv2LGJBaHzqBxrDqAEGWiFUagAeg3DmzBl4DDoPXg6EVg2kpKR07tyZnq+ICy10VwMgLy/P0NCQPfmfiIeHBxTly5cvp06dOnv2bM5MgLSCUQMMtEKo1MDnz5/37t2rq6tLPEa7du1KSkrgKIYMGbJs2TK6jTfAUQMR7Z0reBv5z1UDK1euDAwMZN4poBV0VwPXrl1TVFRUU1Pr0KEDDJszo/GsWbMCAgIuXLhAVqMVHDUQN7Hd6yJGDfx+mF6ENUKo1MCZM2fgMerXr4/Q08fHhzOj8YgRI0JCQm7fvk1WowkcNTBlpN+Lqwt4fQWjBhj4CN3VwLhx4xQUFKAJ3r59S2Y0Jmpg8+bNUANoFchqtIKjBlIW9iy7/eNQo0iMGvhlGDVQI4RKDQwcONDExOTGjRvPnj0jMxoTNZCcnNy6dWu6taOMGqCWGWgA3dUAagwZi5BHDWRmZjZq1Gjv3r3stegFRw3sSR3Ca95IjBr4ZRg1UCOESg14e3v36tULX3jUQGpqqqWlJd3uJh4+fNjZ2RlXh1EDDAKH7mogJCSkXbt2+MKjBjZs2GBjY7Nv3z72WvSCUQO1DaMGaoRQqYE2bdr06dMHX3jUwJIlS0xMTOimBvbs2QM/hqvDqAEGgUN3NTBt2jQFBYX9+/fDAIgayM/Pv3LlSu/evaGp8/LyqPXoBCq6uro6ipVRA7UEowZqhFCpgVGjRhkaGsKvIWwgagAKACCocHd3Ly4uptajB5s3bzYyMsLVYdQAg8ChuxooKipycnJCe9mrV6+goCBjY+OBAweiGpmZmUVFRdGzMsXFxYmLi6NYGTVQSzBqoEYIlRo4f/68g4ODlZUVAgZvb287Ozt4jNatW5uYmMyZM+fVq1fUevSAUQPUMgMNoLsaAFlZWeHh4fb29qqqqmJiYhoaGm5ubpMnT75x4wa1Bs2IiYlBmQJGDdQSjBqoEUKlBj5//rx9+/aOHTva2NgoKSnBY+jo6KAEZs6c+fDhQ2ol2sBRA7MntX9T/v2jP1cNHDlyJCEh4fXr19QyAw2oA2rg69evN2/ePHDgwPr165ctW7Zx40Y0Bs+ePaN+ph+MGqhtGDVQI4RKDYBPnz4VFRUhili7di08Rnp6+smTJ+l2V4DAUQNrE3t+ureM11f8uWrg/fv3T58+hXSjlhloQB1QA3UOogYU5KWzM0bwmjcSowZ+mWvXri1YsODEiRPUMkOVCJsaqENw1EDGyn68jgLpz1UDDDSkbtwbyMvLW1mO9evXP3jwgFqJThA1YGakcSJzHK95IzFq4JcpLS199OjR27dvqWWGKhE2NVBWVnb06FHKTXCxYcMGuk2hi1PS0dHB1RE2NVBUVLR///4PzFQjdILuauD+/fsBAQEmJiZa5YAVHThwgFqPThA1YGOmc2rPBF7zRmLUAAN/ESo1UFxc3KZNG2NjY8pNcAGPcenSJWo9epCYmCghIYGrI2xqIDU1tVu3bsw8BbSC7mpg6NChsBYYwJAhQ+Lj49f/yL1796j1aAMC1lGjRqFMGTVQe7x58wYOkc59R2iFUKmBHj16yMjIuLi4DB8+PCEhgfIU33jx4gW1Hj2AT8OlAcKmBlYy7xTQD7qrARUVlUaNGr179+7jx49oLD/9CE1mK//y5cvt27dh2K1bt9bQ0JCUlESZyslIdu/gcmjzSN7BiRk18MucPHmyT58+u3btopYZqkSo1ICUlFSbNm3ev39PT48BX3HhwgUEDG5ubgoKCtLS0rg0oEdH19N7JpbdWfqDr6CZGsjLy4uNjZ08eTJ01S/O/8SogZ+C2rt7926UNloWeLzS0lLqh1qD7mrAwMBg3LhxNGn1KwTXbOPGjfXr12cbdQX06eJ+7+zsrw+SKAsXtBogk7x169ZNW1tbVFSUnKSJiQmq3cWLF+GtqPVoBurA06dPly1bFhISoqamhnOG6nJ3d58xYwacIxw9tR7NwGkjHl24cCGiVVLUQF5eHsJxw4YNkLl8qNtCpQY0NTVnzpxJQ4+BU0ItJS06BxEREeobvLCs1JSR/j/Mc0YDNYDTfvjw4dixY7W0tLjPVkJCAjUqLS3tv70XwKiByoAHzs/Ph6KlCvobCIwHDRqES197dZvuamDWrFmohVDT9HT3d+7c6devH7laMA8lJSUjIyPSLUhCQkxaSkKUbT96OsoZKyM/3WULf8GpAewflQk+Ba0R64zLgQoXFxf36tUrur358+HDhxMnTjRp0oQ60R9BOLh06VI0unRrA3DaBw8etLOz46gubsTExNq1a3fq1ClEsdQGtYNQqYFJkyZZW1sXFBTQqg6jZh45csTe3h4XAm2qtLQ0bM3MzMzY2Bg54mKicBekrfX2tCw8FkMTNYB4dPPmzY6OjhVWYABPEhkZWVJSUtPSZtRAeVBJXr58OWHCBM4do/KYmppCgb1586Y2fB3d1QD+tpeXF5qBnTt3Xv6Ra9euIbSi1hMEb9++DQgIQPHBVNTV1UNDQ7OzsyHrunTpgky3xg0G9WxuZ6UrKcEal1BMTHR/2jABqgHIKbRMjRs3xrGqQEZGpn379pBf1GY0AFcZopA8f6mCTp06oUpQ29CA169fz5kzB1qWOr9KwNVPSUmp1ZosVGrg8ePHzZs39/b23rNnD+UpvoHqUdvCqzKKi4v19fVxFcTFxaEAEGqfPXv2xo0bxFfYWtRv39bRxEgDsgCLFqZajy/NE7gagJZdtGiRpqYmDloFELV+fn7nzp2rUfsENdCqVSsajgclQO7fv+/v7096lVYBPCFittoYuInuauDevXsjR47EKaLFhQ5F8M3B0NDw8OHD1Hp8B1p48eLFuHJQ9Obm5jAb8rZMbm6uu7s7TjjUr2Hxidgz+ya2b+MoJSkO3e/sZHTv7GyBqIEvX77AFXbs2BEH+imysrLwO8+fP6c2FigoZ8T91Jn9DNgSTU67rKwMp62rq0udWZXY2dnBDmvv7pdQqQE0sYhW8X/RSvF4DBgamfOMz7x69SoiIoJ4eSgVBDYk//Tp0+TSBPraFeRM2/HXwCYOhggbkNOrs+v7G4sEqAZQG/fu3Wtra4sj/hQpKSl46adPn1IbVwOoASMjozt37lDLQs/79+9jY2NVVVWpMq0SNTW1AwcO/Pa7X3RXAyNGjEBz6+TkhJZszJgxU36ksLCQWo/vQAuTYUPgZTZu3EjlsqcobdSoEfJH9PV6dHEuBP7Ty/HNm5ohR1pKYmjvlp8erOW/Gnjx4sXkyZPJ7AnVwcDAIDk5WVCBFDf5+fkqKirUaf0MNAAzZ86kw0OlU6dOEUdfTTp16nTr1q1aetIhVGqgd+/eCJ6aNGkSFhaGEJzyFN8QyAglK1asID1dTExMuF9xPHr0KDwb8gf3bP7wwhz4ioPpI0yNNBA5SEtL7EwZKEA1gNrYvXt3HK6a4K/BDVbfY0ANaGpq4ijUstCzZ88eS0tLqjSrAYz6/v371Ma/CbqrAWNjY2traxqOOjd06FAZGRmUHbwP9xgaaN21tbWRP3tS+7fFiazbfQ+XH0gbrqOpiMwGhurXT87nsxr48uVLXl4e6c1Qfdq3by9AsUVAgaCZrOyZZYXUr1//4sWL1PYCorS0FA0PqR7VBEJtw4YNZWVl1C5+K0KlBsg8JhCR1LKgefPmTfPmzVGH4WTXrVtH5bLZsWMHuQ8/Y3zw+5JFxFfMmxIqJiYqJirq72P7z92VAlEDCDq3bdumoKDAqprVpmvXrjdv3qR28TNycnIQ6TEvCRPevXuHdqT60RohIyPj98YPdFcDenp6PXv2pBZoAy6eh4cHLFxRUZF7jlS0u0uWLMFFlZGW2LS8LzFvknp1ckVBa6jJ/7V4MJ/VABqnpKQkVvWpCUZGRlu2bKF2ISCuXbsG506dUPWQk5ObPn06tb2AKCoq6tChA3VC1QbuoJZGyhMqNYAofOTIkdQCDUAkQ2I+d3d37t4hCKMXLVqE/HpyUimJPTiO4uXVBaZGrDqvo6lUeCxOIGrg1atXMCIcq0bY2toeO3aM2gVDTbh06VLLli2pcqw2YWFhv/dhAd3VwKhRo6ytrc+ePUst0wMEzebm5ig4Ly8vKosNrGjSpEnI19NR3rP+hymL0pP6Il9BXnrK6E58VgNoY/r2ZR29RkhISMyePVuwDwsQS0FvUSdUPSDF/P39qe0FRFZWlp2dHXVC1Qb1vJbuYwuVGujXrx/a3cuXL1PLgmblypXkttzUqVO5I7lHjx4NHz4c+RamWns3DOX2FUN6tkC+ipJc6tL+AlEDd+/eRaCPY9UIWVnZ7du3U7tgqAloBUxNTalyrDaampq/96ko3dXA0aNHraysWrVqtbkc8LmC6jKWn59vYmKCghs0aBCVxaakpCQiIgL5Lg2NeCYpeHhhDqugZaVGDgjmsxp4/PhxixYs/1JTRowYUaOeQb+dsWPH1uh+O8HR0ZHaXkBs3Lixps9lgLS0dC09RhUqNbBv3z4bG5uQkBDKTXBx8OBB/s9tERsbSzq+pKamcquBa9eukTeSmjc1y/tx0NL05axekIryMgunRwhEDdy8ebN9+/Y4Vk1JT0+ndvEzLl68mJSUxMxoTEhMTFRXV6cKsSb83iaD7mpg/PjxKCYEfGblsLW1zcnJodbjLxw1gECEymJz7tw5csOnU2CjotxYbgsvPBbNKmhBqAFEIZW9qV81iF0EqwYiIyOlpKSos6k2iMup7QUEZyqaGoF/yqiBXwcCXVVVFdKKchNcoGLw/x3UmTNnko7iKSkp3Grg+PHjxPC7d2x650wct69InseKy/9sNbB+/Xpra+u7d+9Sy8LNihUr/oPHkJSUFC41MHfu3LDKEdQTBHht8iyQJwzdv38/eat47MBWL64u4LbwZXGsF4uVFGRmRIXzWQ28ePGiR48eOESNEBMTQ+ELtn/+jBkz5OTkqBOqHqKiom5ubtT2AgIxKFw2dULVhnlS8FuIiYmhvENFVL+b2+8iNTWV+IQhQ4ZwBvosLS1NTk6WkJCQk5WaMznknx8HJO4SzBoURE2l3o6/hglEDaAe9unTB8eqEUpKStUfLJx5p4CbvXv3kpGpagRaH+F6UoCW7GHlCOqpNq6Br68v2kuos7y8PJL57t27hIQEcXFxhXrSy+dEfLn/bShidgryZT1I1tZQzFg9iv+9CGF7rOpTE0xMTAT+FPDUqVPk1azqIyMjM2LECGp7AVFcXPwfehHC/zK9CH+d58+fU96hImrJxKrg8uXLpBOJlZXVq1evSOb9+/e7deuGTDvL+ntSf+hg9ODcHBUllgLW1VF+fGmhQNQA/CrECo5VIzw9Pav/KgejBri5ceNG27ZtqXKsNnB0wtWLkLZMmTKFhK0uLi5kAg9c0dDQUOQ0djA8vGUUt4WvnNNVSpL19oiFidaza8v5rAa+fv165swZKHccpfq0atXq3Llz1C4EBFQXGbq1+igrK2dmZlLbCwiYKKpHTd8XSk9Pr6UKIFRqgG6gMsCUREVFETxER0eTzLNnz5LHB52CGt3Nn8XtK/p2cRcVFREXE+3V2fXrw9UCUQPg8OHDhoaGrHpZbSZPnsyROz+FUQPcoJKMHj1aVlaWKspqgED0yJEjwvWGIcAfhuTMLsfJkycF2AkFYZylpaWIiIiEhMSsWbOQk5ubS4ah7R3mRsYdIunOmVn69VmWLycrOXdyiEDGIkRBzZgxA0epJojIFy9e/Hur2n8jMTGx+s0qLoevry/nfqwAuXjxoo+PD3Va1SAgIOD27dvUxr8bYVMDZWVlp0+fptwEF6dOneIeGoRvHDx4kMxqBkEAD45zgHFhsZ6cVOzYoK8PvkuBlIQeSgqsJkFWRvL8wUkCHH3o7du3s2fPrr7pOTs716gXF6MGeEAw6eHhQZVmNYiMjPzFaSTLQ3c1gAYyMDAQyhr1EuALWl/yxcHBgXOXXiDs27eP3B6QkZHp0aNHVFQUvispyCTEdIRhf7mf9PH2ksy1gxsYqKOVAv4+tiybF9A8BYWFhf7+/jgNHKtqoDrhd0prfwLNalL9Dk0qKir0Get06dKlVcxsyY2enl6tvqgtVGoAwheKkHgMtL7cHgMtFvfoIPyE83YMmsA5c+bA2+K7tobislld4BM+319Wemtx4vROair1kC8qKhI7NpDlKwQ6T8Hly5eDg4NRbjho1SB4WL58ObVZ9WDUQHnQBOjr6//URWMFe3v7kpISarPfB93VAMJumDTc2YABA0JDQ01MTCZMmIDvrq6u8fHxL168oNYTELBPMh8grhCcDr7YWOhsSur74PycA5uG9wl3V1RguQBxMVEdTcWrOdMEqAY+ffq0a9cua2trNPY4XIXgX6AqhISEcI+fKnDg342Njas4bYAzV1VVXbFiBbUNDYCcmjRpEgRBFf4UrZSWlhZ0Q62++SZUamDixIlod728vAYOHNi6dWvEDJDpvXr1ghRYtWpVrc4OVQW4vi4uLqQOS0tLky5jGqrycRPbFZ+Yvm3VgKDW9nKyrNdnZKQlfJtbsRyFoNUAgEht1apVFW/5wjlra2uPHz/+yZMn1DZV8vXr17KyslevXi1YsEBdXT0/P//ly5f0CTwETlxcnIGBQRUeQ0pKClV6//79tdFY0F0NBAYGonRgS2DevHkeHh4FBQWoT9OmTQsLC7t69Sq1noAgZ2VkZESkAJCWkjA11DCoryohLkZyoPd9m1nl7RlPWbiA1AAB5telSxcdHZ3yjSts3tTUFGKLJhP/cAMhDC0I91GhcJaTk4OF7N69m1qbTqSlpaEZLj+FNNyoioqKt7f33r17a/u6C5UaaNmyZZMmTd6/f//s2TNUZkS3qDxobwYNGgRN8NuHdq8mnz9/zsnJKT8QvXw9aQV5qq0VFRXR1lAc3Kv5S87rSIJWA+DOnTtDhw41NDSUlZXltj5UYOhvVK3NmzdXpzc3dMCbN28QZqSkpERGRqIo4DNhtt26dVu+fPnly5d/+33vysC1ePjwYWFh4Vk2586dw1ndvn2bbydQNdnZ2Z6enpqamggVqLJmRzvwz3p6et27d6+9Vq8OqAEIfHz58OEDIj9XV1cy2W5mZibkP86evZYg+fLly+HDhwMCAnh6v0Pj62gpNbTVj58a+sPbhgJVAwCVHk0UNAGCFRwaYsvCwsLd3b1v37779u2jVqIf8O+IodF8WltbQxZAzSgrK5uYmKCRg7eCl6dDL4cKgaNB8OTj4+Po6IjSNjY2hkP38/ObM2cOf+6UCpUaQA2JiIjAl9evX0+fPt3f359Mt5GamgrvceXKFfZafAVncuTIEfjxCrUsAVFEY3vDvxb2KL21+LuvoIEaAGjsoVlx9ObNm+PoAK4DMguBUFFREbVSlcCzYc0FCxbAeMn/5UFLSys+Pr64uBhNNbVN7fDixYsDBw7gWsDpkUPjosB1t2rVCk0gToA/Trhq3r17t3Llyvbt28NmUdpOTk7QB/DPO3furH4/zf8A3dUAlKOzszO5QhDX0JKQorCu5ORkXE7UUbKaYEE7BLdO3tCVlZZs4mjYKajR4F4tkmaHX/x78qe7P7xMLHA1wAEx05YtW+AlYR6PHz+mcunN27dvUQ3QuNra2iLC2L59O3QAHboNVofz58+jtDMyMhAJ8fPlWKFSAyEhIVAA5D1sqF7I3KysLPhQNDYIcHEJyGp8A2HookWLzM3Nye1fbW1tOHc0q+QdH3ExUXFxVr6aSr0Rkd4Pzs/h7lRIEzXA4dmzZ6i6Fy9erJGKLSsry83N7dy5M7lDJiUjp65t1MCqib1La1Obppr1TSSlWHdHZGVlce3QINWSaUBnXLp0CQIRYTcOVx6cACTOjh07BP4AmgC3BueG0i4oKKjmg5hfhO5qAN5TQUGB9LFCubRo0QKmPmXKFHyBSjh16rupCBbU+A0bNqAoNdTkIQK+23P5RBs1UHe5ceMGiov/nr2OIlRqYPny5UZGRqdPn8b3Q4cOeXh4dOzYcfLkyXAX+I6aQ1bjD6WlpXCspPmRlJT08fGBMjh8+PCJEycQ2CDTrIFmS3dz0nlQSlI8MbYTDe8N/AqIlBBwBwYG4syhh6ADmvn16jFy0fgFWfM2Xota9HfvMUnNA3pr6bFG6ccKbm5ukA7Uxr+VM2fOdOjQ4aejmZmZmcG3IOqgNhMm6K4GINMiIiLWrl2L7xD4MPXGjRvD2u3s7BYsWECrJ9wHDx5EUcKkZ0wI/m7P5ROjBhj4i1CpgQcPHvTq1Wvz5s34/vjx47lz5zo6OsJj4HP16tV89vLZ2dmNGjVCI6empjZq1ChO51w0kGTqkHZtHPamDpk0vG19LdatAhND9eyMkV8ffBu4DGrg7RmyCaiLauDdu3czZsyAEhITl2hg2bjbsIXTV+cvyLjBnWavv9Rr9DJLx+b4d2iKIiMjf/ubQYitUXrYOQ7xU1BVEH/W9jMLGkJ3NQBu375979498h3iAHofpp6VlUW3m9tEDYDJI/woY64wMWqAgb8IlRr48uULPMbDhw/JIrzEgQMH4DHwWUtDPVYGmnxEMqRD/siRI7nvP6O1CwkJQb6ft+2VI9MeX5o3ur+PsiJrpAEfT6vX1xdSvuJxyr/vv0/GWOfUABrUXbt2kYGZNeub9By9ND6tkEcKkBS/6fqQ2E31Da2wpq6u7tKlS3/jiwafPn2Cd63+YEpQbz179nz06BG1vdBAdzWQn5+/Z88eaoHenDx5Uk9PD6X5MzWw8d+P35+6MWrgPwB1CC9ThyIkwSJUaiAvLw9OjVoQKGlpaWRuM5T8xYsXuXu3cNSAa+MGR3eMgVsoODKtTUsbSQkxCQmxQxkjia/4dH/Nlfwda9euPcuekKXOqYGPHz+SGVLk5FVadxwWl3KeRwRwpzmpV7oMmltPQRWNcVhY2G98pnPz5k3ssIounOVRUlI6evRoXemQ9Luguxpo06aNj48PtUBvYLG2trYozUE9m78qTKDa/vLpaca//3yfGJBRA/+BU6dODRw4sK7IRIEjVGrA09MTrp9aECjR0dHS0tIo+ZUrV/KMgchRA43tDbIzRsAtfL63LHF6Z9KBYNwg368Pkm6cmBE7rp1LEzsPD48dO3ZgqzqnBt6/f08icr0GtuPm7+Np/sunSYsP2Tm3wvpOTk7Z2dnUXn6Zffv2kakiasT06dNx/tQuhAO6qwFE2y1atKAW6A1HDXQNdbl79oexx39ITzf/++l7dwdGDfwHjh8/3rVr123btlHLDFUiVGpARUWlY8eO1ILgePjwIZmXyMTE5MyZMzyvv5ZXA0hn90cZG7DeUra20J4+LtDOUpdMX2RpaVlH1QBcopiYmLiEVJPmIfMqeUbAnWatvRgQPg7/UVFRcdWqVdRefpmlS5fWdCpU0LZtWxqOvFKr0F0NzJ07V15efv369dQyjeGogfAQZ54Jy39IjBr4ZRg1UCOESg1MmTIFIYTA68atW7c6deqEYvf39y9/07tCNVB2Z6mNBWsoa3FxUQV51k0FgqSkpI6OjpmZGXkpkagBKAx4G2SWZ+rUqeSFtHXr1iHIpnJ/ZN68eeRMEhISKlzH2dk5OTmZrBMVFUXl/oibmxvprXn//v1Ro0ZRuVyQJ6dS0nItA/vyNPwVpvnpxd2GL8QmIiIiODFy9F8Hf7ZGjwkINjY2deW9698F3dUAKn1ERISqqmpkZOS0H1myZMndu3ep9WgAowb4BqMGaoRQqYFjx46Fhobq6uoOGDCA8hTfSEpK4lu0x1EDrVq1Kj9ET4Vq4F1xorW5DjKBvo4K+QKMjIxw8lu2bGnTpg0WiRrAH9m+fTsyy3P+/Hnyyn5JScnOnTup3B+5fJnqnHjlypUK18nMzOTcgcjPz6dyf2TPnj1kqq0PHz6cPn2ayuViwoQJOGFpmXpeQf14Gv7KUo+RrPmcwIIFC8jRfx2ElGSfNcLe3p5RA7VKjdVAUFAQuTblgdzbtWsXtR4NYNQA32DUQI0QKjVA3tyrEHgMGCm1Xi3z8uXLfv364aBaWlrlh0WpUA0c2TLKQJclAlq6mpfdWTJncgh57ZDzpGDQoEFYrENPChCt4YRFRcXsmrTiafUrTDPWnPUNYT0NQaGlpqZSe/ll1q5dS2aXrRE9evSo1YH/aAjd1QDqBNH1FULGHKUJjBrgG4waqBFCpQZgR5R3qAjOm4d8ACGpoqIiSj4uLo5nDHyE1EQNNHMxPZnJmsHk871lMycEk5cM50S1J77i2dXF0ZMG+Pv7kzk46ly/gQ8fPpBBlrT0zAZN27ggo5in+f8xFY9P2G/pwKqr7u7usHFqL7/MsWPH3NzcsNvqA+G4atUqfg4YSgforgbqEBw10K2Dy72zs6m2v3xi1MAvw6iBGiFUaoA+7NmzB20h2hUjI6MzZ85wv65248YNHx8fXJQQv4YleTO+PkjK2TbaykwbOXKykucORFG+4vG6fz9ce//+PRmroM6pgbKysnHjxomKiopLSDVu1n76qtPlFMD3FLf2gl/4GPxBcXHxPn36PHjwgNrLL/Ps2bMhQ4aUn6etCrS1tQsKCqjthYa6oQbevXv3qhxv376l1XBRp0+fNjMzQ2kO7+v1tjjxe/PPkxg18MucPHkyMjIyMzOTWmaoEmFTA1+/foVzoNwEF8jk5xvkr1+/HjVqFBmcPyAggLt1wXcSOXRp1+TOmbjiE9ND/RpKSYqLiYkO7NHs071llK9gqwFqmzqoBnAhioqKyPxAKuq6Ib2jZ/x1dn56BXcIZq+7FDlxtZKaDsSTjY3N9u3bqV38Jo4cOYL6j53jTH6KrKxsQkKCEA5OXAfUAGQ1rs2McixfvpwzRiEdOHTokLS0tKioyNRR/t/b/vKJUQO/zK1bt9LT04VQvP83hEoNIELIzc1dsGAB5Sa4WLVqFfeAgHwAvsvLy4tMdw5BkJOTQ7oxnj9/HtEnMnuFuf2dMbJbqIuSAmvIwoY2+rdPcz1krONqAHz8+DElJUVFhdUfQk3LoG2n4WPj98zdcJWjA+alFUYlZof2nqahY4x1lJWVJ0+e/Ntb4rKysvj4eJT5TwWBlJRU+/bti4uLqS2FCbqrAXj8xo0bKygoGBoa6urq4kTNzc0NDAxQvdq1a0ef9gAxx65du1CUCvIy86M7fLfn8olRAwz8RajUABpgBwcHJSUleAwtLS18QWwK1wGPER4efv/+fWo9fgEDR/tN5qqH45o4cWJGRsaiRYuwCMwbaNpb6YqLi+G7oZ7qluR+/9zhmvK07qsB8OjRo6FDh5IJ3yUlJW2cWoT2iR4wKWXkrO0Dp6zvGDnd3qU1EUxycnKdO3fmzObwe3n27FlcXJylpSW5FhWCk+zYseOpU6eEcJICQHc1MGrUKFlZ2alTp65cubJ///62trb4kpycHBQUFBUVxc8+QVXz4cOHpKQkFKWutvKaBd2/23P5xKgBBv4iVGogMjJSQ0MjNjZ2+fLlXbp0cXd3h2XBNn18fObMmfOK773EEZVu2bLFz88PThZXAbGpvLw8Gbqfg3w9aS8Pi+R5Xb/PUEDSH6EGECmVlJTExMTY2dmJibF0Dz7VtQwaWDbRrG8iIsKa0FlUVNTY2Hj48OEQc9RmtQC5Fp06dSLShBsIERcXlxkzZuBUqbWFD7qrgcDAQHt7+48fP759+3bevHkeHh4FBQWfPn1asmRJSEjIuXPnqPUEDYQnqjKKEmJ/c3K/H0yaJzFq4Je5ffv25s2bmScF1USo1ICXlxcafvh9mOSECROCg4Ph32FZaI0Q9tVoYv7fCDwVQhq4L55X3RQVZBrbG44f0vrs/qiy20t4fcUfoQYIr1+/3rlzZ/fu3S0sLMhMThxMTEwQ3cET8mc0iBs3bkApjhw5MiAgAGKxZcuWPXv2nD179pEjR4SwrwA3dUANtG7dGl9gz+np6U2aNCEzl2dmZsK7ZWVlsdcSMJ8/fz569Ki1tTWK0tPZNG8365WhShOjBn4Z5p2CGiFUasDb2zsiIgJfSktLExMT4T3ISDupqamIKy5evMheSwC8efMmNzcXZi4lJYXLoSgv0zGwUUpij8NbRj29HM/rJUj6g9QAgJ+8efPm7t27ly5dOmbMmCFsFi1aBJVQS08HqgDqBBUDV+TUqVP37t1DhEn9IMTQXQ2gupibm5M5P9AGwJ6TkpJw8WbOnGlqarp//36ymmCBpPX39xcXF5eTlRoR6V3VlEVIjBr4ZRg1UCOESg0gzkMITubD3bx5M+KHDRs23L17d+zYsUZGRgJUA4Tz58/DUUiIi7VpaXM9N5bXOfCkP0sNcEDTC5/5iA3PDA4MAoTuagB+X1paOiUlBd+LioqCg4PRdrq6uurr63NUv2BBbT527Bj0vpiYaDMXs7w9Vd4YQGLUwC/DqIEaIVRqYN++fZqammT8/NOnT/v6+iKcwH/X1tYOCQkR+FjmvXr1wrVQU6k3f1qVfY1J+kPVAAM9obsaKCsrW7ZsGRmKC98PHz7cuXNnZ2fngIAAZNJhrCjo3PHjx6MQdTQVF8/oXHan3MM/nsSogV+GUQM1QqjUwNu3b5cvXw6/hu+lpaWZmZnt27eHx2jXrh1Uu2BvCCcmJsLV4lpYm+sUHovh9QzlE6MGGPgI3dUA+PDhA7nvB9BekltMT58+hTggmYIlPz9fR4c114iTnf7VnGm89lw+MWrgl2HUQI0QKjUA4DE4cQLpTgiPgU/B2te9e/eUlZVxIZQVZRfPCPvMGWKoisSoAQY+UgfUAJ159eoVGdFCRlqib4THl/tJvPZcPjFq4Jdh1ECNEDY1QE9ycnJERUXFxET9fWz/ucs1qEAViVEDDHykDqgBqPvt27cPGjSoZcuWrVq16t69e3JyMoQ2HbqfxMfHo/hERUWaOhk/OD+X15grTIwa+GUYNVAjhEoNwC28efMGZhUZGQmP0aZNm969e6empj558kSwHoOoAXFxsa4hzrw+obLEqAEGPkJ3NXD37l13d3dxcXF5eXkVNkpKSjIyMtbW1pmZmQJ/LWTy5MkoPvl60gnRHXktubLEqIFf5uTJk3379qXVfNZ0RqjUQGFhYZMmTSQkJLg9hrS0tJOTU25urmDHmJOUlBQREbGz0n13Y9HXB9W4j8ioAQY+Qnc10KdPHykpKX9//2XLlsGYwZ49e0aNGoUW1MvL68KFC9R6AmLp0qWs4pOTmh3VjteSK0uMGvhlHj58uG/fvqKiImqZoUqESg107NhRQUEhJCRk1apVxGPs2LFjwIABenp6cCO3b9+m1uMjHz58uH///rVr1wwNDXEhFOSlJw5tk58VdftM3JuiHwcf5EmMGmDgI3RXA2ZmZm5ubu/evaOW2ZSVlSUmJsK0MjIyBHt74NSpUyg+SQnxGtz9Y9QAA38RKjVQv379oKCg9+/fU8tsPn78OHXqVPx09OhRfk5jiGNBuaakpECIkC6EHORkpZo2Mo6fGgpN8MPcBNyJUQN1DbRNL9mgzeJnTfst0F0NQNH36dOHWuAiMzPTxsZm7ty5b968obIEAS65oqKiiIhIIzuDp1cqGVCMJzFq4JdBQeG60+H90jqBUKkBNTW1MWPGUAtcpKamGhgY/PXXX3x7F6m0tPTkyZNDhw5VVVVF+QMlJSVRUdaw/PAYYmKsL4oKMmHtGu9NHfL6ekVDljFqoO5QWFi4b9++VatWTWODBnXr1q1nzpx5/fo1tQbtobsaGD58OBpLnnvCHz58WLJkiaur686dOwXegrZr1w4lWF9LaUvV0xNwEqMGfplbt25t2LCB/6OZ1lGESg0geGjSpMnNmzepZTZQ7dOnT3d2ds7NzeVPxPb582f4Vi8vL0lJSZZ/qF+/c+fOMTExxNhVlGTbtLQxMdQgmsDaTBveo/TmYl5fwaiBusDbt2/RErVv315DQwMXiAOZCWn27NnXrl0TeBe36kB3NXDixAkjI6OuXbse5gL6C1IgICAgPT2d5ECDUxvwHZwDqwTlpEZEevEac4WJUQO/DPNOQY0QKjVw4MABMzOzAQMGEM9AQPBgZ2cXFhYGr01yyHQntUdJSUn37t2lpKQkJCQ8PT1xAi9fvkR+69atcS0sTLQOpo9Yu7Cnn5etojxrCh8vd4uL2VN4uxYyaoD2FBYWzpgxw8DAAJemQtC4hoaGolrS/14m3dXAnDlzUNCwKOh6DoaGhmJiYsbGxtSyszP8HbUB33n48KGSkpKIiEjrFtY/WHJliVEDvwyjBmqEUKmBqVOn6urqIiyjXAMbhObwGBYWFtSys7Ovry+1QS3w+vXrBQsWaGtro9i9vb0PHjzIeTxBrgXUwLkDk8ruLD2zb2LHACcpKdbMBWMHtXp+df4PvoJRA/TmzZs3uCjy8vK4LlXj4uJy9uxZmvckoLsagG1DTVcHagO+U1paiuJDIULd/2DJlSVGDfwyUAMBAQFr166llhmqRKjUwJgxYyiPUCWBgYHUBrVAfn6+l5cXyhyRDAycM5Qq4FYD8Aaf7y3bnzaskT0rstTSUMzdNe6HEcwYNUBvVq5cSQairQ6dOnXi6dxKN+iuBm7dunW5elAb8J0PHz6Qi82oAb4BNUDuvlLLDFUiVGqgpKSE8ghVcuXKFWqDWiAtLU1BQQFlPnr06KdPn1K5bMi1aGirz5np9N2NxFlR7TTVWfHlzPHtPpQs+u4rGDVAY06fPu3m5iYmJoaLUh1kZGSSkpKojWkJ3dUA/SFqQFRUxN/b7rsZV5EYNfDLQA3ADhMTE6llhioRKjUgcF6+fDllyhQUuJqaGmQBzwCI5Fo4NzTi9gkH0ofbWekiP7i1/ctrC77/xKgBGhMbG8vz1uhPcXJyojamJYwa+FWIGpCTlRrau+V3M64iMWrgl2HUQI1g1AA/uXbtWnBwMClwVFQql93d7MSJE5AI+IlHDdw7O9vH0xL5rk7Gzwq4ug4waoCulJaWhoWFkfdFq4+EhITA59SuAkYN1Iznz5/v27cvOjo6IiKiI5sRI0agBOXlpMYM8P1uxlUkRg38Gk+ePCF9Szt06JCbm8v9UJahQhg1wE+uXLnSpk0bFDiKPS8v7/Tp0+PGjXN0dNTQ0FBRUREREcFPutrKK+ZG3MmPIz7hy/2kEL+GyHdxNBKIGrh//35aWhqCXRAfH3/+/HnqB4ZKKCoq8vb2xuWoKYcOHaJ2QT8YNVBdPn78mJmZSYZAFxMTgyokkOdGkhJi4e2bfDfjKhIN1AD06bp168LDwxFhu7AZPXr07t27BTuUU9Wg1d+wYYOzs7OkpKS4uDi8Kgof1wKyYMCAAbdv36bDLFaVcfny5QULFpCiBmgtFi5ciGCR+rmWYdQAP0HLigqJAreysgoNDdXX10dFJSKAA5bgQhysdXevGwyfcHZ/VFMnY+TzXw1cuHChRYsWMjIysCm4MgLMytzcPCUlhZHalXHt2rWWLVuyL2bNOHjwILUL+sGogZ+DZgaNDdpLJSUlFBZsGw2SrKwsSg2fsBz2VWYNOdCzs2tRbuyXqucjEZwaINO7oU21sbEh58wNvICTk9OxY8fodoviy5cvt27d6t27N3WiLB0gJiYOTSaObyRPV1c3IyODb8PMVZPPnz8/efIEZy4tLU3Okxs1NbXo6OjHjx/X9ntHjBrgJzCfJUuWcDf/aGjhKCBk27ZtS3LYwQRrBXU1+RkTglfMiTA1Yg1c06eL22vumQtqUw28fv160aJFenp6rBOqCHg5BAxo9urcCLt8AFKevDZSU7Kzs6ld0A+6q4GnbKgFLt6+fQs/ywfvjxYUTVGvXr1QTLBweXl5VAIEdgUFBZ8+fbpy5cqgQYPYV5ml94FvM6uLf5cbRYQ7CUgNwKSLiooiIyMRB7BOtBK0tbXnzJmDsqU2owFQ08RnQQbIyMpr65u7eHXyCxvtGzrEtomvsnp9KANy8rgW9Lm9gau5d+9eW1tbnriQGyiw1q1b5+bm1upQZUKlBlB1nz//bl8cXr16hZ/4MyTc5s2b1dXVySWGx0C1vHjxIqTh6dOnkSMtJdHMxdTHw1JWhjVMoYaqvLaGogQrMhfduqr/p7tccxbUmhp48eLFuHHjqvOiPOpnfn4+Iwh4KC0t7dy5cxWmXSHQgAKZN6ua0F0NdOnSpUOHDtQCF6tWrWrTpg0fhiBE64KiQWwHgY9me+bMmY8ePaJ+Y7Nx40aUIIxZTaUe9L6crNS4Qa1e8Iwiwp0EoQagaR48eDBs2DBWlfwZcGRxcXE0uUn48OFDOzs7nJW4uKSukXWHvjFzUq8syLjBSSNn73RwaVNPQRViAQ512rRpdLi3Ae955MgRJycnUqRVA4d7/vz52nO4QqUG2rVr169fP2qBi7lz58JjFBcXU8u1Bgxn8eLFsrKy5OLCg+Gg5DEWdC1yIAKG9W55N3/WsN5eZCBCgoO17o2T03/wFbWjBhBEwX/q6+uT41YNbApq5v79+9TGDN+Iiooi75FWHzMzM2pjWkJ3NRAYGAhfSS18A7U5JSXF2toasReVVTtAzh8+fNjExARlZG5unpaWVr6lGTlyJH6FFOga6mJmrInvVmbaW1f3/4db43MnQaiB9+/fr1y5svp1t1GjRvBcAg8IEM/Bs8MfiYiImtu5j5y1g1sHcNLs9Zfb9YiSk2c9x4GPy8nJobYXHLdu3QoNDUUoQMqzavAHx4wZ8+zZM2rj341QqQFvb++IiAhq4RtooRMTE42NjWu7fxxafYQojRs3RoEjcATa2tqzZs0qKCiAM9m1axfy5etJTxvt//n+shOZ41q6mbNqwP/+JyUpnhzf9QPPVAW1owYQ69eoB5ySkhLTh6A8aDsdHR2raeNAQkIiPj6e2piW0FQNlJSU7NixA60vmiUHBwd84Wb58uWQ+fD7OHtqg9rh5cuXaI1QQGhHx44dS0Ya54GoAS0NxcUzO8+f1kFZkRUT9O7idid/FseqS/JmnMmaSC3yXQ3AQ8EZEQ9VTVDFe/fu/eDBA2oXAiIjI4P01VDT0h8am84jAniSR9vuWBMmFxwcLNjnBbiOCQkJ5F2yaqKsrLx///5auo8tDGqgsLBw8+bNcA62trYeHh7EUXBYsmQJMg0MDGp10CFAJlRDacvJyVlZWWlqssIDaWnpgIAAOLRRo0ZhUVFeZvKItvs2DB3e10tbQxE5QF1VPjdzHMdjUKkW1AAq56JFiyBAyXGrSVBQ0I0bN6hdMHxj9uzZKioqVBn9jJYtW9LqCWx5aKoGNm7ciEqvq6sLQ5KSksIXHhCvw7Tu3LlDbVA7oDkkHe7gSfPy8qjcH+nTpw9WMNBV/XvzyMuHp7b1Yq3vZKd/bMeYf+4svZA9eW1iz64dXMI5bxzwXQ2UlZXhKDhEjbC0tMzMzKR2ISAQ5JEp4Nr3nMLT9pdPU5OO1TdgvbRtaGjI/Z43/7l37163bt3YpVgDxowZU0uTnwqDGlixYoWZmRk8A9yFjIwM8RLcmJqaTps2rcIuBb+R+/fvkz5GECWQBTgi7Ih0NK5fv76Wlha+SEmKO9jomhlrSEqIY1FCXExcTFRSUnzzyn7wGN+lAFItqAH4NE5Xp+oDm8rPz6d2wfANtO49evSosI8wD2iwDh06RPPuFzRVA1D6UPRoIB0cHNAe4wsPaN6gVWu1cBFSnz59Gs4FoMmvcIjp0tJSR0dHlKCZsWbhsZi3xYnTxwfBthXkZWLGBC6a3pkzR1nrZlaUhfNdDaCNGT16NA5RI1DFEUN8/vyZ2gvfgeNG2YqIiMjIys9cc5an7a8wBURMwJmrqqrypzZXRk5ODppeUozVx83NjadLyu9CGNTA5cuX169fDyNC64t/ynYSP5CRkQGVVtvu+Nq1a7iOKO3AwEB8f/ny5bZt24KDgyvsuisjLeHauEGof0NdbdaQdiP7eT/nfr0QqRbUwNmzZ0l9qBFiYmLwVLXkoOo0V65cGTFiBKfTaHkQz3h7e69du5bmkxQAmqoBDqNGjUJLTC3wFzSE8CAoHWVl5ejoaCr3R44cOQKtICYm6u1p+e5GIgw4Lamvphrr8byRvpqaSj00Zqwa8b//+XhYjoj0ZqX+/iOGDUAFIvj5+ZGb4XBYV69epXLLsX379rdv3+KIcC4IIqncESNGjhwZExOzbNmydevWcXzEjh07kMNh7ty58CDkNGoEzi0hIYHaCxcQauRAt2/fTk1NpXJ/ZN++fWSdmzdvUlnlIBH8p0+fLl26hMWUlJSdXCC0IrPAWTfy4mn1K0sjZm7F+qjNUD/k6AIB1aaaXbS4kZeXr6X+xkLVb2DgwIECvPoQJfb29ihtxN8c73/hwgVUbxcXF3ZHAhFNdflmTU17dnKdOznk6I4xW5L7OVizhiXuHNTowYU5ta0Gjh49CsGE/dQUtBDv3r2j9sLAxbNnz+C7mjdvLicnRxUWG+gAKysruOi8vDy6vfxcIXRXAwUFBRCz1AJ/gRpAtIHSQaw5c+ZMKvdHyIDk8nLS8dEdiAFvWdVfT4el9BXqSZM7gQRvdws/LxtW8mno19YXDS0Btk3qENTAuXPnqNxyJCcnv3r1CkdEGxkUFETl+vn5+/t37NgRgmns2LGcNyzQ/COHQ3h4uIYG623mmqKrq+vh4QFhy0Pv3r3JgVDLu3fvTuX+CEc/5ebmUlnlIHN4fPz4EVoHi/g7ZHhHgo+PD+olTqO5f2+eVr+yNGvtBawvcDUAhUTuCdcUKCdqF78VoVIDUJaAWuA7HDXQq1cvnlejg4ODIQVkpCXmTQk5vW/C7TNxpbdYfQZ3pQyyMWfNgwd98PjiXEoH1JoaOHXqVJMmTbCfmrJ69WqmI2EVnDlzZsOGDbNmzYIrBlOnTl2xYkV2djYfBhT5XdBdDRDQEKKlLE8tPWcl4BIeO3YMpSMjIzNs2DAq90fIEKTqqvVO7Z0A6y29uTh+WgcpKXFJSfEpI/2njwuyNNUWE2N1Om3VzOpqTjQr5SZcvXzy6jcWLFhA4kioAfwdKrccqFLkpv2DBw+uXbtG5XJRVFTEKQ2EmFQuG6gEzrAnNWLo0KFoy7E5D4h1yIFevnx5/vx5KvdHOA7rxYsXVFY5SCiMcn706BGVxQXkdv369XEato18eFr9ytK4BVlYX+BqYPfu3YgJ2EVYA6C97t27R+3ityJUagB8/foV4RrlI37kw4cP1Eq1Q3FxcatWrVDaiBS5explZWXh+iJfR1PpxVWueYkeLl82q4uGGuu9/zmT2r/hHnoIqRbUALYNDQ3FfmoEIhY0bHWlVRMUqHhv374lY+TAN9a5Byt1QA0kJiY6OTlZVkRtj/mM5srAwACK3tfXt7wFog1TVVVF8ZkZa364yZqH9E7+rF5hrKeG5g00D6aPeFm44PLhqbHjggx1VQXYb+D9+/dz5szBIWqEjo7Oxo0bqV0IAlgUaVOlZerxtPqVpbadWX22cVEWLlxI7UUQIED09/dnl2INCAkJqaWXDIVKDcCIEJ+hyaR8xI8UFBRQ69UOuILjxo1DaWtpaSE0JBaNmoywQVycdadwYI9mlB9gp4cX5vYNd0fAoKIkm50x4sv9H0ctqwU18O7duxkzZmA/NcLT0xNxBbULhj8UuqsBuHVlZWVJSckWLVpQN7654ASptcTz5887duyIAoJtL168mMr9Ro8ePcSAqGi3Di4w3U93l21e2U9dlSXz27VxvHo0mpg09P7NUzP3pw2jLFwQbxgixCed86sP7P/EiRPULgQBApFu3bqR0w7uPomn4S+f4lLOa+mZYWU9Pb0DBw5QexEEcLjDhw9nl2INQONRS3dihUoNTJ8+XVFRER4NCp5yE1zUUs8MDqi0W7dulZaWFhUV9fPzI8MbJCUlkUd1VubazwriKT/wcPk/d5auWdC9vhar25Cni0nBkWmcn6hUC2oA3mDnzp1GRkbYVfWJiYmp8P1qhj8JuquBRo0aIdQ7evTomzdvEOPyUNs93tE8b9myRU5OTkREBM708OHD1A9sCydvmkpJipPHBFeOTGvuaiYi8j9FBZmFsZ1KfxxI5NO9ZdR3vqsB8ODBg65du7LMunrAnU2cOBElTG0vIDZu3AjPjvORrac4bkEWT/PPk9p2HsWayEhUFFeq9kqyOsDhbt++vUYPC+Diay/2Eio1YG5ubmpqevLkyQo9Bh/udd+5c4e8ZCghITFs2LAbN26g/OFAkHNoy0iOQ0A6vXdCs6ampDMBZMHH20u4f2WlWlADAGo1Kiqq+kMOIDA4c+YMajW1PcMfCt3VgIKCwoQJE6gFQfDw4UPOfDlubm4IspH59u1bfEfDg8z4KaFf7iddOxrdKbARWS08xPnOGWqu0gqSINQAgH8kB6oOoaGhNBmLtHPnzihnERFRS8dmiP55FAAndR2aIC7BuosAibZ//35qY4EyZcoUnj7GlYFmY9u2bbUnbYVKDUhKSs6aNYtaEBDwqra2tuTiWltbE0Xr6WzKeRDw8daS7asHWpuxXpkBkeEed7kGK/ueakcNAEjPgIAAcvSqUVdXz8jIoDZj+KOhuxqAC/Py8hJsX9Zz5841adKESOn69evPmzdv5cqVpINbAwO1p1fiV8/vpqPJMng0Wy5ORtkZI3itmjsJSA18+PBhxYoVSkpKRMRUhri4uKOjI0JbajNBc/fuXUNDQ5wYgitNbf0+45Nnrbs4d8PV+elF8WnX56RemZp0zL1VuIQkawAQtATDhw+nthQ09+7d69SpU9VzRLHiQhmZ8ePHP378mNqsFhAqNWBnZ4di//jxI7UsCMrKyhISEiBMuW1t0oi28BWPLs5dv7hXWHBjWRkpZIqLizZxNOS5Z/A91ZoaABDNrq6uMBly36I88Hj6+vqzZ8+u7SGbGGgC3dXAkSNHcHLR0dHsfpo/8OLFC/7MSIajZGdnw6WSRwYoLzSZ5Iujjb58PWogKmkpicYOhjB1CH9eq+ZOAlID4P3796mpqU5OTmiByrsA5EArBAYGQv1QG9CD9PR0HR0d0glLRlbBxskrqNuEodPTe41Z3iKgr5qGDvkvOPn27duTURlowrNnz+DBcfIVKjApKSljY+OZM2eiMlMb1A5CpQZ2796tpaUVHx9PvAQ38Bi1/WyRAwQBQmoHB4fKbsgjclBSkAlsZX+i/IDEnFSbagBAsEI9GxkZycvLc6oorElaWlpDQ8PX15fOk/Ez/HborgZ27drVqFEjtF4R5RgyZAg/u7niWMOGDTMzM5OVleVpSmWkJY301Xp2cr10aCqvPZdPglMDhAsXLgwYMMDR0RHCX1lZWVFREZaPZsnNzQ1xQG2/gvXfOH78eOvWrSsb8Avxjamp6YIFC2glBTikpaW1bNnS0tJSW1sbpY0y19PTs7a27tKly+HDh/lw0YVKDcCg7OzsVFVVKTfBBVo+fj7/giCYPHky1fFFRhLRAr7AcyB+0NNRbupkPHdKyONL83j9A3eqZTVAQMQVFRWFKurCxt3dvWfPnps3b2a6DQobdFcDkZGRaCwrA2dPrccX0NhAnTRv3px0dFdVlmvsYNjSzWJA92ZbV/Xn6TZYaRK0GiDcunULsUtMTAwcQWJiYlZW1nt6D5z5+PFjBHxo2CwsLBBtq7FBs9q4cePw8PCcnByavwwNEbZq1SqUNsoc+uDy5ct8u5stVGoAGos4hwqp7VmLuMEVRxOLkleUl+nV2bVPF3c/b9sAX7sxA303JfW9cXIGr2con/iiBhgYCHRXA/DycJ2Vwf+ebsXFxe3atYMakBAXGxnpfSF78pNL318Zqlaihxqoi6C9f/DgAQTZkiVLZrNB+3r+/Pk6MeqnABEqNZCdnU15h4p48eIFtV7ts2LFCshWlHz3Di5Pqr4HUFli1AADH6G7GqAbCxcuJLOUertbXj8e+/VBOQP+aWLUAAN/ESo1QBM+f/48ZcoUKSkphA271w/5zHnBuEaJUQMMfKQOqIGvX7/ev38fQTkPd+7c4fO7Bm/evOnRowfKS1VZbudfg/65++P0o9VMjBpg4C/CpgbQEt+7d49yE1zcvXuXbyb29OlT8mayno7ymawoXidQzcSoAQY+UgfUwPLly0NDQwPKMWjQoGvXvpsKHygoKCATE7g1blCSV43HfhUmRg0w8BehUgMwosTExJCQEMpNcDF8+PAHDx5Q69Uy+fn53t7eKHYvd4vC4zG8TqCaiVEDDHyE7mpg9+7durq6Ojo68GVOTk4aGhqtW7fGdyMjI9j2nTt3qPX4wuHDh8n0X+Htmzw4/+Pco9VPjBpg4C9CpQbS09PhMfT09Nzc3KytrfEFCr5Ro0bwGJMnT+bbq/MZGRnGxsYo9uF9vX7y4kAViVEDDHyE7mqgR48eSkpK+/fvz8vLi4qKaty4Mb6fOXOmV69egwYNqu1Rx3lISUmBc0F5TR3p/7Iwgdd0q5kYNcDAX4RKDYSEhKAZzs7OPnbs2MCBA1u1anXo0CF4j3bt2k2YMKGW5oXi4f379zExMZKSkqKiIiaG6s1dzX08LYNaO8SMCdia3P/9DdYMZ9VKjBpg4CN0VwOBgYGenp6fP39++/btvHnzPDw8CgoKvn79unHjxqCgIH5Oq4MTGDt2rLi4uLSUROa6wZ/v/6duQUiMGmDgL0KlBry8vCAIvnz5goYfzX9wcHBJSQkWly1b5ufnV1RURK1Xm0B/ODg4oMy5ERMVVVKU1dNRDvSxP7WHNbPJz9OT1H9Lb1E7ZdRALfP8+fNdu3ZBQbq7u6OQXV1dR44cmZGRQc9RTGqDOqAGWrdujS9QAFlZWU5OTpD8WMzMzIS97d69m70WP7hw4QLpNODepMGlQ1N47bb6iVEDDPxFqNSAt7d3REQEvkABwKawSMbWTE1NNTExqe1xNt+/fw+LdnR0JENnEuws6ttb6YqLUYP9SYiLmTfQXBjb8UPJz24SPEn795/v41QyaqCW+PTp08GDB1u0aKGqqiotLU0Gl8OnrKysioqKjY0Nmklq1T8auquBqKgoLS2t169f4/uJEydsbW1nzJhx9epVqDZyP5Csxgdg5GRugqG9Wz68MJfXbqufnm3/9+v3Vp9RAwy1jVCpgWHDhtnb25N4bvv27WiYFy9eXFBQ0KNHD3iMy5cvk9VqA+gP+FO0H5yxSnuHuZ3fP+lN0UI0/PfPzl40o7N+fdbEp1hBTaVe7LggXufAk56m/fvp+6MNRg3UBi9evIiJieEem5kHXCwlJaUhQ4a8e/eO2uYPhe5q4NatW1JSUlAA+H7nzp3u3buLiYnhsoGwsLAbN26Q1WqbN2/eTJ48GSUlKyO5ZVV/XqOtUXq+k9opG0YNMNQ2QqUGLl26hAhv0aJF+A4R0K5dO+IuQL9+/Wp1dig4KFLUaD8AviTEdCz7cZ7iR+fnDOjmCReGX63MtHf8NbCqMUsYNVDLvH//PiEhAaX6U2RlZQcOHAjBR235J0J3NQBycnJOnjxJvhcXF0dFRXXs2BERwIULF0gmH4DsCA8PR0mZGWn8XfUUhT9NjBpg4C9CpQY+f/4Mj3H27FmyCC8xZswYeIzRo0eXlJSQzNqgtLR0+vTpKGdxcXEjIyMTExN89/OyvZA95csDaiJjkl4VJowd0EpCnDWbUcdAp9tVzX7OqIFaBE17bm6ugoICSrU6GBgYrF27lm8TX/GfOqAG6AAkZGxsLOuWkYJsxsp+nHnK/0ti1AADfxEqNSAo7t69S+Y4tbe3j4uL8/X1ZTUg//vf0D4ty7+NXHxiupebBX410FVZv6TX1x/lwvfEqIHa5O3bt0FBQeyrVC1ERUVxWQsLC6nt/zjorgauXr1aUFBALXDx4MGDS5cu8bO35+rVq4mK7N/NE8b83wUBowYY+ItQqYErV65U2Fjevn378uXLtTd66ZYtW1DI8vLyI0aMwLEGDBiARaCiJJu6pHfprR+mNCu7s3Tjsj5yMqzJz0b193lzfSH3r98TowZqkwsXLrAvUQ0wNjZev349tf0fB93VQFhYWEhICLXARUpKCmRabm4utVz77N6928rKCoUlJSk+ZqDvs4IaTlbESYwaYOAvQqUGEO1FRkZSC1wsWLDA29u7ltrRr1+/Dhw4EIVsYGCwefPmDx8+TJ48GcGDrKwsMlu4md/Mm8njB84dmNS0IWt4ouDWDgVHpvH8SiVGDdQmCxcuRHnWCGlp6dGjR/+pjpruaoDzhiE3MLbly5ebmZnt2bOHyqp98vPzfXx8SJ3QUJPPXDf4P85TwKgBBv4iVGqA84YhN+/evZs9e7a+vv758+eprN8K1ICnpycK2dLSMi8vDzkwZ4gSLy8vcXFxKUmJtYk9/7nzg7u4c2ZW7zA3bOLhbHIicxz3T98TowZqk65du6I8a0rnzp0fPnxI7eLPgqZq4MKFC4sXL541axbCcXNzc3zhZtKkSW5ubqampkeOHKE2qH3u3LnTo0cPtNyqqqoosqBW9s8L5vNab3USowYY+IswqIHTp0/DhcE5mJiYODo6EkfBYcKECWhELSwsrl69Sm3wW4EaIKEC1ADOBDk32KxYsUJXVxf5bo0b3D79Q2/BO2fienVm1IAgad68OcqzpgQFBeHKUrv4s6CpGkhPT4fzQnsvKysrIyODLzzY29vHxsbyU6O9f/8+NTUVGgVmLyoqKi8ndSBt+H/pPcCoAQb+IgxqYPXq1XZ2dvAMcBdwZ8RLcAOJkJCQ8OrVK2qD3wrUQL9+/VDIBgYGGRkZVC47hAgNDZUEEuJTR/pz9xY8d2CSqxPrSYG/t22lo5kxaqA2IZNM1pRu3bq9fPmS2sWfBU3VAKwoOzt7z549zs7OTk5O+MIDfr1//z6f3/58wWb27Nnq6uootQAfu5fXFvAa8E8TowYY+IswqIGSkpKsrCx4BgcHhxYtWhAvwc2hQ4eePn2KZpva4Hezfv16FLKCgsLYsWPLysqo3H//3bVrF5m+SEtdgTMg8ae7S7ck91dWZPUqYPUiLGJ6EQqAtLQ0lGeNkJOTmzp1KrX9Hwfd+w1ERUUNHDiQWqAHRUVFnp6eoqKiMtKS00YH8BrwTxOjBhj4i1D1Gxg1atTEiROpBT5y48YNNTU1uIVGjRodOHCAymV3WYA+kJeXxyWY8W3wwZunZrb1skGOjqbiXwt7fHcOPIlRA7UJYk5JSdZrHdXHzMxs8+bN1PZ/HHRXA5BvcXFx1AI9+Pz589atW8njQDWVejWe2phRAwz8RajUQEpKyuLFi6kFPvL+/fvRo0ejnKWlpTt37sz9aDkvL09fXx8/WZhovStOfHU9YcKQ1jLSEuLiYh0CnAqPxfC6CE5i1EBt8vHjx5EjR6JIq4mUlFSPHj1evHhBbf/HQXc10KRJExcXF2qBNpSWliIEIa8PpSX15bXhqhOjBhj4i1CpAWtr68DAQGqBj3z9+rWwsLBFixYoajk5ueDg4FOnTpGfysrKmjdvLioqKiYq2q61Q+egRkoKMljN2kxn26oBn6p4NYlRA7UJLtm1a9dsbW1RqtXBwcHhzJkz1MZ/InRXA3p6ej4+PtQCnUhLS1NWVkbZNbI3qHTwkAoTowYY+ItQqQEVFZWwsDBqgb/Afnfv3k06FUlISECXTJ06NT8/HzHo1q1bydhlEuJikhKsMYlVlOSmjfLnmcWANzFqoJb59OnT3r17dXR0ULBVg8u6cOHCP3hYYkB3NZCcnAy7WrZsGbVMG169emVlZSUiIgK936qF1dWcSsYPKZ8YNcDAX4RKDcCRqaqqrlu3jlrmLx8+fEhPT7e0tESBs5yDmBjcl6SkJPcExwCaoIO/U6WdBzmJUQO1D7xuTk6Oq6sruTQVUr9+/X379v3ZUxYBuquBvLy87t27S0tLd+jQYfiPzJgxo1anIfkpMHtFRUUyWZm6ar1FMzqX/TjASMWJUQMM/EWo1MCRI0dCQ0OVlJTCwsIoT/GNWbNmPXnyhFqvNrl8+TKOjnOADhD9Nk8uvkAZwJXhE4tGeqrrF1c+QwFJjBrgF48ePYqKitLU1JSRkZGSkmK9FCopie/y8vLIf/PmDbXeHw3d1UDnzp3R4lYG9Bq1noDACVhYWMDCUYiqynKxYwN/cusPiVEDDPxFqNSAn58f5R0qgm8Tn75+/Rq6ZO7cuT4+PjBwQ0NDNze38ePHr1u3btiwYWhvcEW8PS0Lj0Xz+gfuxKgB/vLq1Su0iAsXLoxjk52d/cffD+CG7mpgx44duDaVIdh7A4SbN292794dcQDK0d5K9+dDEjFqgIG/CJUayMjIoLxDRfDn3kDVPH78ODAwUFRUVFFBZtKItlU9L2DUAAMfobsa4PD169fS0lJoNxo2mW/evBk1ahT0vriYaFhw46omLEdi1AADfxEqNcABHuPDhw+I0elmVp8/fz506BAZksjMWHPjsj48Uxh8T4waYOAjdUANwKrPnDmTnp6+ePHimJiY5OTko0ePPnv2jD73cHCGV69eJaNea6orzIpq96owgdewOYlRAwz8RdjUQFlZWV5eXlpa2sKFC6dPnw7LOnny5MuXL2Gn1BqC5sWLFzgxRUVFXJegVvZXmDkMGWgA3dUADHvjxo1wZ3Jycpqamjo6OkpKSvb29rClmzdvUivRgI8fP27evNnIyAilaW+luzNlUKV6n1EDDPxFqNTAu3fvEDDgz8rLy2tpaWlra6PRdXFxiY+Pf/ToEbUSDSgqKurYsaO4uLiigkz0mIBnFU6BxqgBBj5CdzVw5MgRKAAHB4dRo0YlJSXBzmfMmOHv729mZhYbG/v06VNqPRrw/PlznJKCgoK4mGh4e+ei3Fhe2yaJUQMM/EWo1MDu3bt1dXWdnZ3Hjx+/fPnylStXRkdH+/j4mJqaLlq06A1tOofD2Hfu3GllZYVLY2GilbNtNK+jQGLUAAMfobsaGDRoEOQzzObt27ckp6ys7PLly+Hh4fBuZPJQ+nD16tXg4GAUqLpqvcTpnSoelYhRAwz8RajUQNeuXTU0NLKyst69e0dySktL8/Pz27Zt27x5c1rNRfvs2bMJEybIyMiIi4utnNf1461yryMxaoCBj9BdDQQGBjo4OJRvJletWmVhYQGbp5bpAZRKenq6mZkZytTb3eLy4am85o3EqAEG/iJUasDLy8vX17e8Kc2ZM8fY2PjixYvUMj3IzMwktwe6dXC+U773MaMGGPhIHVADrVu3pha42LFjB6xo165d1DJtePLkSf/+/VGm8nJSmWsHV/C2IaMGGPiLUKkBb2/viIgIaoGLtWvX6uvrnz17llqmB3fv3sXZ4uqoqdSDu+Cds4BRAwx8hO5qoF+/fmpqasXFxdQyG4TgUPomJibcM4cKnPfv3x85ciQmJqZJkyYoU+DsaDhjfNC5A1E/aALaqIFnz56dO3fuFBsqi6E2getHUefn59+5c4fK4gtCpQbCw8MtLS1v3bpFLbP5+PHj2LFjjYyMLl26RGUJmk+fPqFRX7FihZeXFxm32NJUa/RAn72pQ19z3khi1ACbR48enTlzBrZTVFREZTFUBCrV7du32R791PPnz6ncakN3NZCTkyMiIuLs7Lxz587Hjx9/+PDhwoULM2bMMDU1RRBAE9v+8uXLtWvXOnfurK2traCgQEYeBWJiogryMrrayuMG+X7vQyBoNQDPuHv3buI0dXV167OxtbUdMmTIsWPHqJVoyevXr1FcOE/UB1QAKyurdu3aLVmyBK0snYcMe/jwYXR0tIuLi6GhIYoaZW5sbOzr67tq1SpUaWql2kSo1EBmZqakpKSPj8++ffugd9++fYuGZOLEifr6+kFBQXzWYZXx6tWrhIQEc3NzVVVVaWlpMro5PuRkpbTUFZq5mJ7cPZ5RA7h8sG6oJXhI4qYMDAxQjefNm0eT60gfnjx5gkDU1dUVRUTKCk6mVatWSUlJCFOplX4G3dXA58+fJ02aJCoqilNUUlJSVlZGcwv7MTExgT6gw4xSOIeUlBSUPs/EJNxISYo72enn7horcDVQUlLSp08fRUVFnC3xQQR8hw/V0dGZMmVK9WsP3/j69StCajgCOTk5nCfnzPEvZGRkNDU1UXrQxdTadGLDhg02NjaosZzx6gliYmKysrLwdMePH6dWrTWESg2g9g4bNgzFy+0xpKSkrK2tUdQCV42oycXFxYGBgai33AbIjaioiKqy3PypoW9vpgitGjh48GDz5s1h77iUpFgIsCNYk4ODw5YtW6hVhRs0QAcOHEBoV6GTQTVzc3OrZoWhuxoAMGDEskOHDm3UqBFsG1VkzJgxfBtv/KesX7+eFD1Aux4bG3v58uXCwkJvb28q9xtKCrJZG4YKUA3k5uZynmJUBiqQn5/f7du3qW3oQWJiIhnavQratm378uVLagMagGZp7NixZISZKoCUQR2o1UsvVGoAfPjwAU3FgAEDbG1tNTQ0YImTJ0/medooKF6/fg1dQi69vLx8u3bt4NwePXoEfUAyFeWhElhfJCXFwzv6/PuPMKoBOENtbW1WKVQOpN6MGTNKS0upbYSVhIQEqkQqB0IhOTmZ2qBy6oAaoDP3798n05ZDw3bq1OnKlSvUD//+m5KSYmBggJ+83C0aGKhD7wMnO4MnhanUGmz4owbIaIn+/v440E9B8A1P+oYeb2bjzHfs2EGd2c9o06ZNWVkZtaVAgWBft24dGX32p0DXHz16tPbCVmFTA7Tl06dPkZGRuBaI4aBUYPucxiw0NBT5YmKi145G9w13l5WRxKKGutqSRfGciiEMagB/Njs7u3HjxvinP0VfX3/t2rV0uEMsKHJycqiy+BkISwoKCqjNKqFuqIF37949fvz47t279+7dg46GvqZDDUAIQhQ9ms/w8HCeG+yXLl0iddqtUYNHF+a6NGQNU1hPTmrkkIiPHz9SK/FLDbx69Qo6mueeWxWYmJisX7+eDvfeb9y4gfCOOq2fIS4uvnr1aoHfDQbnz5/38vKiTqsadOjQ4datW7U0dK6wqQEU49u3b7k9BqQtHTxGVlYWLgSiAug/7vlXIWHJOCXW5jpPLsf/+3D5oumdZaRZ3Y+cnJw490GFQQ3ACnr06IG/WU2aN29+8uRJOpg8/3n+/DkZ/bY6QIC2bNmSM2xPhdSBfgOXL1+eN28e3CUaV3g0BLiTJk06dOgQNAG1koDYvXu3lJQUbNvOzg4nSeV+AzbcqFEjFK6Ph8X7kkUnMsepq9bDopWVVW5uLrUSX9QAnOOZM2c0NTVxlOrTrl27a9euUbsQELj6ERERPA/DqkZXV1fgQ1bjOkZHR0uz57muJtAxGzZsqKUbG0KlBlCG+fn5M2fORAWGx3B1dQ0KCoqNjT1+/LhgO8SgMjs7O+NCKCsrx8XFUblsrl696uHhgZ88nU2es4coLr21OCyYFUsgpIuKiiKt3R+vBlBE8IdycnL4m9UEEU5MTAyiHWoXwsSwYcNq5BtRl1auXEltXBF0VwN5eXn29vby8vLm5uYubGAMOjo6pqamq1atqlrp1DbDhw+HE5eQkKjwkQz0io2NDQo3MsLj463FX+4njR/cCotaWlqLFy+mVuKLGvj48WNKSgoOUSNwVtu2baN2ISBu375dUxGDqhwfH09tLyBKSko6depEnVC1GTRoUC05NaFSA7A7a2trOD7E38RjODg4oBZBhW/ZskWAj5kLCwvRdMF9I5x99ux7bwBw9uxZnCeuUeegRmTCs68PkvKzotRUWPFDQEAAmYj5j1cDT58+HT9+PP5jjQgJCfnjO1KUBzUZjSBVBNUDrVVwcDC1fUXQXQ3Aq8KwR40atX37dsTf4MSJE4mJiW5ubvBugh2Z2NHRUUREREFB4e7du1QWFxs3biSPjccNalV2e8nXB8tP750gIS6GkLFfv37USnxRAy9fviRPK2uEpKQk6kTtPbyoDhkZGUpKStQJVQ+Is9DQUGp7AZGVlQUJS51QtUGj9fDhQ2oXvxWhUgNt27bV1taeMGFCZmYm8RjHjh2bO3cuGlE0wxBq1Hp8Z+nSpZACUlJSkydPprK+sXv3btK1sGenpq+/vYr8rGB+SFtHZDZu3Ji8+vvHq4GCggJcI/zHGoFGkeavRtcGUJAqKipUEVQbBKhVjENAdzVgaGjo5+fHo+g/ffq0cuVKNKIIebmfwfMZfX19lB38PrX8I8uXL69fvz5WWDE3ggwx9vRKvKGuKnLat29PrcQXNfD48WNPT08coqaMHj36Pwxh8RuB35SVlaXOpnpAn8FdUtsLCAhBculrBHQMz5g5vwuhUgMaGhrdunXjcQuwrNmzZ+vq6u7bt09QHQhiYmJQOeXk5Mq/GgcnYGJigms0cWibdzcSiRp4W5w4dSSr26+lpeWOHTuw2h+vBhDdkXKoEQh5aTgobW2zevVqeXl5qgiqDYo3Pz+f2kU56K4GzMzMOnXqRC1wAeEPmZOQkMCZm4T/EDXg6upKLf9IXFycqiqr7U9fEfn53jK22I+3MmW9NsN/NUCeStaUoUOHkluUgiIyMvKnLxaWx87OjtpeQGzYsOGn70eVh1EDvwU9Pb0BAwZQC1ykpqYaGBjgU1BvnXDUwO7du6msbyxYsIB0lU1Z2KPsDjV30bsbi2ZFtUOmUKkB4gxrhHCqgaVLl6LZpoqg2tRtNTBnzhw41ry8PGqZzevXr2fMmNGiRQucvaCUPiCzE8GMKwygEViT7jCn9038+oA1MnHBkeh6slJw+t27d6dW4osaePHiBRkLvUZISkoinBLgrRcwa9asGnUpAnC4Am/2EIDa2tpSJ1RtYKj379+ndvFbESo1MHnyZGtr63PnzlHLbGACo0aNatmy5fnz5wXV/3zevHmi7JFzePq1vH//vn///nALUpLiOdtGc0Yxf3FtQa8wN1w4R0fH7OxsrPnHq4ErV678h7hFV1f30KFD1C6EBrR9ysrKVBFUGysrq3v37lG7KAfd1cCpU6fgWOHOIOo5TJo0ydzc3N/ff9myZSRn+/bt1AZ8JDQ0FOaNVrN8b7tnz56FhITgVxUl2VunZ8K2YeRzJ4egrFVVVbl7FPNBDXz48CExMZFVF2qCoaHh5s2bqV0IiKNHj5L7K9VHRkZm+PDh1PYCgjOxdY0IDw+vpecyQqUG0DDY2dn5+fkRz0CAFDAwMOjcuXNycjLJyczMpDbgFwcPHoRDQCALz8D96LOgoKB169a4QE0cDUvyZhAp8PXB8uLcWBND1g0DX19f0t3hj1cDDx8+HDJkCP5jjWjVqtXlcq90/fEgJK7mcCYcxMTEfHx8qnhvnO5qYMSIESoqKvgbMGYOyIFdqampUcsGBoirqA34yJIlS6DocSbe3t5Pnz6lctnk5uaSTsJe7uaPLs6Fed85M8u8gRZycAm5tQsf1ACCoePHj9f0IVObNm0EPuDju3fvIEqoE6oeqBt79uyhthcQ8PXjxo2r/ugOBFSAWroTI1RqoE+fPkpKStDolGtggxwRERFNTU1q2cDAxsaG2oBfvH37FlEsTkNPT4+768DevXtJn9P+3TzJYANI/9xZOn1ckJgYq9dhv379iGf449UA/mZKSgoEE8seqk1UVNSLFy+oXQgTkZGRaH2oUqgGaALmzp1LbVwRdFcDCxYs6F49qA34CKqgg4MDKeWpU6dSuWzWr19PhNvk4X5vilidhLt3aComKiolKd65oz/3MH98UAMApzpp0iQcpZrAby5cuFCwjwkISUlJ1fcOsI2goCABdiXhcOzYMVdXV+q0qkHbtm2LioqY0Yd+nbi4OMojVEnfvn2pDfgIuUUHmejh4cEZzGPFihVaWqw4ITG2E6cL4aEtI8nrhRYWFpxxiv54NQAKCwtDQlj3UKsJPPDBgweFc/QhVIPqv1YAGdqoUaOq7z7SXQ3As7+sHtQG/CU7O5sUtI6Ozrx58z58+EDyZ8yYQUYs3ps69M7pWT07uUpLsUYWM9RTPfP3IrIOgT9qAM3M+fPnSavwU+Ct4C4F+zYBB86Aj9UBskzgQw8RcCkXLVqEWkGdWZUgVD1w4EDt9YARKjWAEJzyCFUikPFq3r9/7+Pjg2shLS2NWg2TROaUKVNIhLc/bRjpYLRidoSxgTpyFBXkJ44fzen2KAxqAFawfft2aCD805+ioaGxbNkyQXULFTjQQGg+qLL4GVJSUkeOHKG2rAS6qwGag+tBHnRBEMjKyrZq1erw4cNwNAMGDECOhmq92HGB1uY64uKsm8ZyMpKzo9p9ecrqHsyBP2oA4FR37dpF3oOoAjgmd3d3nm6bguXRo0fVfO9ow4YNtRRe/wdev37dr1+/n74hCdtDyFir42gJlRqgOYh9yTM7aG5zc3NIAdLFxMZM59yBSdeORvfv5ikjLSEiAksUcXV2fPH4+2RLwqAGAAKAOXPm/LSLHBTVsGHDeMZxEjYgnnr37k2VSJUsXbr0p3dQ6oYawN/4VA4UBB1cP5pwCAJxrgmCtbS01NVZ0p4DfpKWkpg5IZh1G1CgMxqfOnUKkoUMqEzOjQNy4Kd69erFn0n3a8STJ0+6devGXcjcQMFALpw4cYJam04gdtHW1i7/eA9/BO2Bk5MTJFptX3chVAO09Rg4h7179xoaGvJUCXWVemrK9cS+ZUpKiLf1tr12IkFoZzTevn27ra1thZ1vUHTGxsYrVqwQ4MiS9AEVe+PGjWpqauWdDEABwjdWM7qjuxqA8Tx8+HDt2rUDyzFmzBiBD6RP+PjxY1pamo2NDcqR5yG3hISYfD3plu4Wl/6eQp4IClYNgFevXi1evLhJkyZQLQoKCjhnRUVFtFje3t74F9RK9AOFjErv4OCAek9OG9pFRUXFwMBg0KBBL+k0lzEP8N0DBgzQ1dVVVVUlp40vVlZWkydPrqUBBngQKjUA54hSXblyJeUmuBg3btyDBw+o9QQHlEphYSFCOtLbke0nKKAGZGUkVZXl5kxqz/IVT9OEVg2AO3fuTJkyxcLCAiYPwwGwdyMjoz59+gh2FFq6QWpUZGQkGn4UETwMPCQKDUU3evTo6s9GS3c1cPLkSbhRWVlZDQ0NfEFV4Ia8hksHcD2Ki4vnzp0bGBiIVpaEsPr1VcKCGi+d2YXMREITNcDh9u3bycnJuPDp6ek0mb/4pyAaOHfuHMoKp42wOycnhw59BqvJ8ePHyWlDqnO6mPABoVIDBw8e1NHRkZOTg8fQ09OjPMU36PMqGvQrxHfz5s3hK8TFRbU0FEyNNbzcLaKGtTm+cyzlK4RbDXCAyScmJi5YsODQoUN1yN75DyI9tIlLly79f3tnAl7TtYbhmmMsoqi5Sk1RramoIqipYiguNUuraAxRbuMqyq2hVJUgBL1KuRRtTclFWk0FLdrUUFOpG5oKGiSSRrRJ3Ff+bTs5idxU42TH+d8nT57svddee6211//93zpnnxMU8uDBg3/2MXCru4EOHTpgc1hakbe2b9/+bUqy5FGg9EHlJ0yYkDt3bpd8eTZ9+FriL7e+hTDFj2XcgOIkOJUbeO6557Djo0aNIqCCgoIMpbhN1v4bQztI6j169ODWPFaxxNL3+v133/Tfk7/C/M6PugHFgVjdDbi6unbs2NHYyA4cPXq0c+fOjOmTNcse2DY+RWzLj7oBxbE4lRvInz//gKz4vPE9EBISUq9ePW5Nz071Tu19214o+FE3oDgQq7uBVq1avfjii1n7n4v/FIGBgfLxGM9eTc59O8M+vPlRN6A4FqdyA3Tz5ZdfzhavJ+/YsUO+3Xzi6Beif7z1j4ztf9QNKA7E6m5gy5YtlStX9vPzyy6fJPH398+dO3d+lzyLZ/a5HrbAPrz5UTegOBancgNr1qx58skniSbrfz+d6QbGj2x/9cT79kLBj7oBxYFY3Q3Ex8cPHTq0QoUKnp6eb6RkypQpp0/f+TCuRVi4cCED6lqs4Mblw+xjW37UDSiOxancQFRU1IABA8iygwcPNpTiNm+//faFCxeMchbAdAOjXml58chse6HgR92A4kCs7gaCgoLkG17z5Mnz2GOP1bSBqNi9e7dRzjKIG8iXL/faxYPtY1t+1A0ojsWp3MDGjRvr169Pf/Pnz09kGWKRTL169U6ePGmUswDqBhRLYXU34OHhkTNnTm9v782bNwcHB+9JiQVfDBQ3AB8t8LSPbflRN6A4FqdyA3S2SJEiPj4+W7du/eqrrwyluI2lnicwnyJUN6BYAau7gZIlS3bt2tWC3453N9QNKFbDqdwAWjZo0KBs8ZjRgQMH5NaoG1CsgNXdQI0aNfr06WNsZAfWrFkjX0usbkCxCE7lBipWrDhixAhjw9p899137u7u3JohfZuFh860Fwp+1A0oDsTqbuCjjz4qWLDghg0bjG3Ls2nTJvlfxuoGFIvgVG5g0aJF5cqVCwgIMLYtjOkG2res9cOXb9kLBT/qBhQHYnU38P333xMwRYoU+UcqaPHZs2eNcpZh8+bNkt3nTO7x25n59uHNj7oBxbE4lRvYs2dPkyZNypYta8iEDb6+vpZ6B8F0A22a1zxs/h8T2x91A4oDsbob6NatW967Y8EVgOkGxg1vF3n0Pfvw5kfdgOJYnMoNPP/884Y6pAWrC6OcBTh//vzQoUO5NW2a1bi7G7hslFY3oNxnrO4G1q9fP+PunDp1yihnGbZu3SqfGlI3oFgEp3IDq1atMtQhLSz1fQOmG2hSv3La32L+64abSX8YpdUNKPcZq7uBbMfevXubNm3KmI5+tXVazwkvuXkl0CiajLoB5X7jVG4gG3Hx4kUvLy9uTfUqpXd9NjaVVvjfjPzEKJqMugHlvmI5N0BGDA8PDwsLu3HjBpsEDFM/TShz/fp1Ocs6mG6g+wt1T3891T68L/zrZvTXRtFk1A0o95sH2w0gFGeTSUhIYDMiIsIQiFRQxlIhFhcXN3nyZG5N+TLFtq8ZmXR+sb1cqBtQHIjl3MCZM2fGjRs3cuRIPAGbNMvjLvTp0+fQoUNylnUIDQ1t06YNY9qxde0TIVPsw1vdgOJwHmw3cOLECVbYY8aMuXbtGptTp041BCIV/fv3xxDIWRZhyZIlRYoU4e7Mfqt7zGlfe7lQN6A4EMu5gcOHD3fp0qVdu3Y//fQTm97e3k/fnV27dslZ1uHcuXMDBgxgTBs8VTF0x5v24a1uQHE4D7Yb2Ldvn7u7e6dOna5evcrm4MGDDXVIC6yDnGURgoODGzZsyN3p3LZOGi8lqhtQHIjl3EB0dPT27ds3b97MH2yy1Gbzbly6dEnOsg6xsbGTJk3Kly9fwQL51vkP/v2cX4rwVjegOJwH2w1cuXJl06ZNAQEB8fHxbO7fv99Qh7SQ1w+sQ3h4uKenZ65cuUqVKBK01jshfFEKuVA3oDgQfYow81m3bp0k+GEDml088m6K8FY3oDgcfYrQsiQkJPj7+5cpU4YbNGVsp6iTc1PIhboBxYFkDzcQHR19JC2s5vSF48ePv/DCCwxr5QolfghO+RVj6gYUh+NsbiApKenKlSuGRqTEms8dP/vss9wgj+eftP9+YnUDigPJBm5g2bJlrVu3bpgWISEhRiErER8fP2HChMKFC+fKlXP1wpdvnF14J7zVDSgOx6ncAEHk6+vbsmVLQyNSYqn/aCxERka+9NJL3KCypYvaP3esbkBxIFZ3A/7+/o8++miePHmaNm3aLxWW+mYxW8jxVatWZWSHDWh+9cT7d8Jb3YDicJzKDbz33nslS5YsWLBgixYtDJmwISwszChnGRITEydNmnRr8ZAz5+YPX/vjZ5tHB9QNKA7E6m4ACStevHhAQMD58+cx0XbIdxJYkAMHDsirf882eDzikM2jA+oGFIfjVG7Azc2NgAoKCoqIiDBkwoY//rjz1X7WYe3atVWqVOEeeQ1sfu3UvDtyoW5AcSBWdwNFixYdM2aMfK9INiImJqZ79+6MbO5cOc/sm3YnvNUNKA7HqdyAi4vLlClTspdisHh45plnuEeVyrum+AJTdQOKA7G6G6hTp067du2MjWzFjBkzXF1dGdwFU3v9/vPtzxmqG1AcjlO5ARbZffv2NTayDwMGDMidOze36bUBze+8WaBuQHEgVncDwcHBmP1Zs2bFpiIuLi4xMdEoZz22bdtWo0YNBrfhU5Xu/PsidQOKw3EqN7Bly5ZHHnnEz8/PkAkbrKwYgYGBNWvWzJEjB3dq6ay+f8gXD6gbUByI1d3A559/3qhRowIFCrySCh8fHytHxeXLlz08PMTvj/RsGR+2QN2AkiU4lRvYvHkz+bJEiRKGTNgwfvz4iIgIo5z1mDdvXunSpTEEhQu5bF3pFX92oboBxZFY3Q0MHDiw7N0JCgoyylkSlim1atXKmTMnQ7xqgedvZ+arG1Acj1O5ge7duxvqkBZHjhwxylmPuLi4IUOGFCxYkJtVonihDUuHxJz9t3EsGXUDyn3F6m6AfE+avBvnzp0zylmV+fPns0xhiIsUyv/BnP4xP/mpG1AcjFO5gcDAQBGHNLl8+bJRzpIgaD179syXL1+Ohx4qU6roglmv2UqcugHlvmJ1N5DduX79upeXV4ECBRjlkq6FF80cEBm2wziWjOkGxo4di5DtUJTMpnbt2s7jBrI7P//8c+/evfPmzcstq1ix4rZt24wDt91AlSpVsDXGrVWUzOPdd99lgqkbuI9ERERgCG75/Rw5Hi1V7J8TvWy/AsV0A6VLl65ateoTipLZuLi4qBvIRoSHhw8dOhQP161bN/nnbYK4AYxCpUqVjFurKJlHuXLlLOcGgoODp06d+uZdmDZtGmto+e+l2YULFy54e3sjyrly5WzRvNmZM2eMAzZuQFHuKw+wG0AQpkyZYghEKt55552dO3fGxMQYpbMDkZGRAQEBu3fvNraTETegKPcVa7kBf3//Ro0aVU+LsmXLklPr1KkzceJE25xqfS5evDh79mwPD4+FC+cbu5I5ffr06tWr/RTlPvPpp58ac+6BY+bMmXXr1jU0IiWlSpUqUKBAgwYNpk+fbuUPFGSEkJAQ414qyn1j6dKlhw4dMubc/SRDbuDs2bN79uwJTovt27cvWrSoa9eulStXnjVr1pUrV4xzsgNxcXE//PDDpUuXjG1FUTIDLDWZ0tCIlAQGBvr6+rZt2xbFQOZiY2ONcxRFyVIy4bmB+Pj4Y8eO9e3bt0WLFpb9r0WKolgEXDhrnfbJWPC/FimKc5I5TxEmJSXNmzfviSeesPj3DSiKYgUSExMnTpxYuXJlK3/fgKI4FZnjBmDjxo21atVat25dtvuHRoqiOJ4VK1ZUrFgxJCTEyl9nrijOQ6a5gZUrV1aqVGnLli3GtqIoyt2ZO3duqVKlQkNDjW1FUbKUTHADSUlJMTExo0ePLl++/M6dO429iqIoaYFiREdH9+7dm/XD0aNHjb2KomQpGXIDcXFxly9f/jUtLl26hLsfMWIENn/YsGHh4eHGOYqiOCuxsbGRkZGGRqQExfj6668HDhzo6uo6fvz47PUpJEV5gMmQG1ixYkXbtm0bpUWdOnWI6sKFCzdu3Dg4ONg4QVEUJ8bX19fd3d3QiJS4ubkVK1bs4YcfbtGixeHDh40TFEXJajLkBlavXt2pUyeiN006dOjg4+PjmK9HUBTF+vj5+bVv394QiFR4eHhMmjTp9OnTRmlFUSxApj1FqCiKoihKNkXdgKIoiqI4O+oGFEVRFMXZUTegKIqiKM6OugFFURRFcXbUDSiKoiiKs6NuQFEURVGcHXUDiqIoiuLsqBtQFEVRFGdH3YCiKIqiODvqBhRFURTF2VE3cC8kJSVdu3btypUrf/zxh7FLURQlJQhFbGwsQvH7778buxTFqqgbuBfi4+Pnzp07cuTIsLAwY5eVQIAuXLhAI43tTCIqKopqExISjO0HGqfqrHKfwASsWrVq2LBhBw8eNHZZjN9++415fv36dWM7M2ClRJ1OYoBiYmLo7I0bN4zt7Iy6gXvklVdeefLJJ635L1l37NgxatSoTBeglStXomtXr141th9oRMR//fVXY1tR7ol//vOfTzzxxOeff25sW4zg4GBvb+99+/YZ25nBpk2bhg8f7iT/o3LLli0jRow4efKksZ2dUTdwj1jZDfj7+5cpU2bz5s3GdiYxduzYQoUKhYeHG9sPNOPGjStSpMh///tfY1tR7gmLu4EVK1aUL1/+3//+t7GdGbz77ruPPPLInj17jO0Hmvfff79kyZKYKmM7O6Nu4B6xdQMnTpzADkdFRWGH+YM19O7du2VZ+dNPP5GVP/74461bt0ZHRyefeou4uLj9+/dT7NKlSyziica1a9cypWJjY40SySQkJPzyyy87d+7cuHEjK/7Q0FDbpfmxY8e43JUrV7777rt169ZRjD1UwqK2WLFib775JmcFBgbKS3ZJSUk06euvv2YnftZsoXDq1Cl20oWwsDD+WL58OSf++OOPcvTcuXNcvUuXLi4uLv/617+kMXLIlvPnz3/xxRecRaf4Y9myZTTvwIEDxuFk4uPjGZOgoCAqCQgIoO/mq/EcojAiQpfpxSeffMKmDEhMTAwlOYUKOffMmTNyCly4cIGOM/JcnT8++OADWi4FOItmMPifffYZ98juZX+6zyBQIX05cuSI+QjIzz//zJ4XX3wxf/78S5Ys4aLbt2+XQ4wkNVMnQ/Tll19yxcTERDkEP/zwA5eOjIzkzq5fv/6rr77ib+OY4qzYuQGiA0Eg0JhI/EEyDgkJIV44hPVkXolWEOYELDuZtN9//z1TjjLHjx8nzNEKNi9fvpxc3x2YihEREUxLmbFoAspgHLt5k8UrU51qqY1KaA+1MUVHjRrl6uo6ZswYzmL2oksUpnnMYfbQQsowz6USQB+2bdtG0BEmlCfGaS3hI0fZT9sGDBiAk37nnXekTjlkC6FHtZxFp+g+avPpp5/auQdi7ezZsyJ9CMW3335r+3YGR+ngrl276DK/N2zYsG/fPuL9t99+IwxpEmfRTtslO6PBtThKI/njww8/ZLSlALUhOIw8moPOpH4ajECmeQwgA3vo0CFR1IsXL9I8T0/Phx9+eNq0adJZuWtAJdxQCnAVfjNcplbIvWCQzXtBk+RQ1qJu4B6xdQO+vr6PP/44abJ3797NmjWrWbNmkyZN5syZw+R49dVX2UNJdrLHTEhM4uHDh3fs2HHq1Kk9evRo3Lhx7dq1n3nmmYULFzKhpcyNGzfIfMy2Z2/z/PPPv/322yRLKYAtrVKlCoLSvn37unXrdu3addasWTSsevXqefPmfeqpp1q3bk1Wu3btGoWPHj2KS6AGdj733HO0iqqIN6mKqK5VqxYR0rdvXxpDa+vUqfPaa69JtBBdvXr1Yg2RK1cuzqWGPn36yIm2kETbtGnzj3/8Y/To0e3atatXrx51tm3b1sym+CFMD1VRAzRs2JCWE4FyFI1Amzw8PKZPn96iRQtOHzFiBNaB/k6ePJkKOaVVq1acRR9RKzmLMO7QoQMX5VzKuLm50fj+/fsjFjNmzHB3d2/QoAF7OIURkFOAG+fl5UVt1NmyZUuMDlogdo279tJLL1WoUIHOMuYUYJP9CCWBzfjcanrr1s2bN6d5+BWRBqDZ3OilS5fSZW4H3cRtyCHFabFzA4sWLSI8iVkmElOImdmoUSMSJzFCuBGVxB07CWR57odZN27cOPazB3lhQjLHmNLMbfEQAsJCIDDJk3XiFkQ6UWM+2LRgwYKqVaviJAgWJidRxgoedeJa+fLlI2qY0ggIdZLDRo4cKUJBC6nKx8cHMy31kL1o8Lx580SXOB3homHkSI6SZbECiFKePHloJDV069ZNTrSFzI0uEYB0DQ2kJEJBbbh2KYAG4gD69esnzeCKCAvqZBoCQnXs2LEEGsNC/KIViBu24L333qNrnALsJAaxHXIKqbdnz54MMt154YUXZJxpHrKAgFMJ8suev/3tb3bvm2Ag0Bapk2LUv3r1anzV3r17Bw4cyKjSWa7FUTolCs+9+89//kP75SyGkeaxEpPHCxB5poR5LxgBCidfKotRN3CP2LoBAj5HjhxMLyKEpDJ//vynn366UqVKTBHmFi6BBSvTvVy5cuQ2OT08PJxDmEp8A4t4woAyxFXFihVJMBhMIBMzQStXrvzWW2+tWbNm8eLFzBtSMiZA8takSZO4LldhPxOUS7MyICUPHTq0WLFi48ePp1oSuaQrSdWEMTsx48xp2kOAyQQligoWLEgjCY+VK1euWrWKQCpZsiT7MbmsvMmRnTt3dnFxwTdQg5ngbcEd16hRg44TpRQjnmfPnl2oUCGuK8qFBWas0CDUkEqwR2XKlCECZQ2N1ybvFi1alHxPov3oo49w0JzIGoJLcyILCBYBrGPoHZWwFOAsAomRJ3nTI5bylCG1586dmyAk0hALoo6wLF26NH0Xp0Uz6CansIfy/v7+qAOSRIM5yj2isyhj/vz5OUQ7WWQQ5AQ/qoQc0DWW/kgt9wvbgevnLPj73//OdevXr9+9e3duB2VOnTolhxSnxc4NkPjJvswcsibOGHPAxCOo+U0uYWohF6gHsUkSonxsbCxSU6BAAYLC29ub6Urs4MgpYIY2YOtREqb0hAkT0ArmLROYajEN8goBqw4mJ1pBbBIRlGHBymKDxO/q6vr666+LVmA+vvnmG+onctmDDuBaSpUqNXPmTMnENO/RRx+lR2gO6oE5GDJkSJEiRUixKAmxQLDIawNcmhokpuwgQxNKZcuWxY4Tg5hsNBP9IZDldQhyLXu4tKgNfyMs5N3jx4/L4ptOyVUYN+QOrUB8cAOkZxYGtIqzGPnChQt36tRJ1JJkTL/QAUZg7ty5LEKon0TOgqRatWqMD/qJ7NBZapAVFCBKrHyQZVSXwUel0SIWWtTPKgUZHDRoEDLO6dJZmpeYmMhShNvB5VAkdIB1F/cUcRP9nzZtmt29sMg7zuoG7pHUboAlvrzNTJYiEh566CFuNqtDgoSESqoguzD1k8823ADxwIJSMiVlyPrkQqYOQU76IZMRqMiHvDvAHiY0k4ycfezYMfaIG2CPGHNmoTjTNJ8b4Crmi2DUTyQjKMx7eclR3ABelXhjk2LMbMSFPBoREXHr/Aw8NyBuAAdDkIhOkX0JNrpJXmcTy0yCpAZ50YyjDBqBgQCxKW6ACMdHnzt3jj00g5IEc2hoqCRygo1lCiPftGlTeUxJ3AChxR/ibDD7DH7x4sVRLqKaGpAbBo2VgaRn+k4AY8KkPL9pOVozevRo850au+cGuKcoJkaH0JVBRo9QUoYIoZc94gZYzciLEObtUJyZNN0AKUrezGJWk5mYru7u7izuCRDmPBmdNEb4U0DcAPaX2SUvCjKpyI4EONPVfC8AYWG6Ih2yhzIsKqizevXqZCb2mG6AJTKbTE6RAryF3XMD1LB//36JX+rBGT/++ONkWdEBcQPU/O2337JJPdTPioVpb77Q+H+fGxA3QBSTgCWuuRweGoXEf8hmWFgYQyQRhBHx8vJCoJARrsgecQPIEQswCVJKIhQIsvkmC2XwClWqVJF4FDfA2oPOSpijBoxzzpw5fX19o6KiOAvHj+uiLzJKQGEWRW+88YZoBYOG3eGG4oFkNZL6uQFKoqvcIJZVMshUjlvCUiBE7BE3wFoFWeOoeS+yHHUD90hqN0Aul0OAiyxRosTEiRNlDgHulQzEulY2xQ2QO8lDsgdY2T/22GMsERAF4oE8Shya8xLYyfqAGUw4MYdwA0xlZqpx+DbpP0VI5VhUeSkCQSEHs1PcAPleygDW4dlnn6UxIluQQTdAv8wyNNLPzw8twx7JHhNildUP3cmbN69opbgBRoCxkjKpQRBZ07CUR01k8SRuoEuXLubrLoA8kbnN1E7UtWnThiAX20QWd3FxYfnOfmHDhg2s6bt16yYuBOzcAJ6pRYsWWAouZ5wTGsr4s5LA/suySQzf5MmT5RRFgTTdANlCNgHrTDrBa5pasXbtWrIp61T+FjeAn8bCylEgW5PnWGyYbxp6eHgQ8pKhBbSCq6A5pHPCUNzAqFGjjMO3Se0GTEhRpGTW2Y0bN2Z9LMle3MCrr74qTxgAwU5woRWyRIEMugHabz5wADgDVuq2EiSQ41mioKX4e7y4rRtgPbNs2TIpZseFCxfwQywAkAIZFnEDLVu2FHsksGTPlSuX+UoACwxOYT1jZneyOKJHr42YDw1FV2k8CycRh9RuAH/TqlUrpJsFlXFOaCjjz03EtHFDxQ2gQsYJlkHdwD2SvhsgwvGkzABjOzkA5Gkd2UzTDTBNWaE2b96c7ELO5m8StvlWmTB9+nSighhgv7gBFgTGsduk6QZQBzwKBpy05+bmhlEtUKBAOm6A2MaO/HU3QABjXwgq2UMI4Qxat25NHFK4dOnSDJ2tG6DX5GYpbEIkDx48GNvOmFMAe5G+G2jatCkqYGzcvEkXevXqZboBlItxI1yr3YbCdK1z585mJXZugIURBUj2XN04p1o1Bhn9YqEm6xvcAEM6e/ZsOUVR4P+6gV27djGXbPeQR8kc6bgBYpM5TDiYy3FqwEbbacWcOXPIyjI/xQ1MmDDBOHabNN3Ajh07iESEAv2hWuI3HTdAaJBB/7obYIho4cCBA2WTamk5EsQamgU9scZROzeA47drOWsnFhg0Bk1gTJDc9N1Ax44dcQPGRvJFSdK2bgCjg1YwCLcCPhl0AylgvzxkndoN4C0owF221QruIMueWbNmcVTcwJtvvmmcYBnUDdwj6bsBwgkJsHUDzMUSJUpkxA20a9cOK8BCgZUoBSRbm6AmTPH169eT3f+UG8BAEMZMdMojASxhqTwdN4AfZwmeKW6ABQpNZfPUqVODBg3CiJCbFy5cSDM8PT3tXhtI7QaCgoJQJYLwjTfe4JRFixZhJtJ3A6zjbd0AQoacmW6gSZMmjBsDQm22oF+MqpyS2g0wPvTOKGoDnZVXJtUNKKn5v24gJCSEeWW7h6U/q97/6waaNWtmPrNCgBBWdo+mz507t1SpUkxR9CTjbgBtwaNTITHL0ZkzZ2IL0nEDXJSwzRQ3gLceNmwYf58/fx6ppGGdOnWiFzTDy8uraNGi6buBvXv3spQi8IcPH748Gfx9+m4A3bB1A0jQ66+/busGEA20QsTKFrogWnE3N4CBMIraEBYWRvvVDTxo3A83QBwS9kQaVoCphi9muiMWxuHk98969+7NVDuQ/LG9P+UGyKDUdvLkSXkbYufOnUz6++0GEhISaCTSsHjxYjYDAgIYFrImF6UNMGPGDMQxfTfAoNE24o3ucwqJmUH4K26A1QOrfMn9tsiblELqdwrc3d2RRQyNUfo2YgVA3YCSmvvhBrZv3+7m5oalNtO/h4cHKdw2JxEsnEjgfPnll2xm3A0Q8rTw6NGjIhShoaEEjgPcwJw5c7iuvKWIvhHUXBQlETFkDUCd6bsBjAsaSxnyMacwAniLv+gG0AFEj9t3K9RtMLUizXcKGLGaNWsitkbp24hWqBt40MgUN8CyeODAgb/88guzBPr160c8rF69mqkGTO7ChQtzihyFtWvXkix79Oghb2+n7waWLFlCxHKW7MQ1Y1dZTLCHOCc9s274s26A9uzevZuANKu1RdwAwUOIcgm5UIUKFQhIicAtW7awxCcMoqOjOcpveaUufTcwatQosqx81IJLM+bVqlX7K26A+osVK8Yp0hEBBbH9AgZxAwQ5N4KjRLjYGpROygssYsyXZ9UNKKnJFDdA8mBtgDeVWcfkJFpJnxyVU1hAM/dYQEsB+Oyzz6iWSS4P297NDaxcuRI3QEpjhnMWezAWtFCuRQKjHgrcgxtYt24diVzqtEPcAA3musTdreYmJRH4dEo8BCOA3UEbceEciomJ8fT0xMGn7wamT5/u6uqKCknepWG1a9f+i25g06ZN2CzGxFYraI/IJogbMBWPPfSafF+8eHHGXMoLLGNk0NQNPGikdgO2j49l0A0wEYsWLdqqVSucBOtdQoi/5SMGwB/MS+Y3y/rhw4d36tSJHM/8ZllPiqKAuAHbqwjMYNpGGPTv33/w4MHy7KuPjw/XatasGSrTvXv3evXqEUskeLmcuAHbBxJTu4GFCxciBHje15KRnbaIG0BK6AjRiygQfuRUPIcUIKOzIKhYsWLPnj1pBorQtGlTgvyLL77gqLgBxs3ODXzwwQeIIz1iEDD7yETdunWpWR4VFjfQtWtXs52QvhsABh/XwrWok5agLFSIi5KjwFqEBRnd4YpDhgxhD26DQSPI3d3dOWvkyJEdOnRo06aNfCUDiBtgJGVTUSBNNzB+/HjZhIy4AcKcOCJeSCEvv/wyR5s0aSLzXyDG2WNOTsKBMrVq1QoMDJTn1cUNoBhS3oTwIZqQAgIErYiMjCSnIgUoDw3o27fvU089hflGSWQFIm6AiDBNcGo3QGqky2R3mkrjZact4gZYCyGJvXr1mjFjBnHEJpeTAqdOnWLNQwB27tyZZhDOjRs3Rr5YDtm5AfyBnAKffPIJ6sRg0hHCkz84i5ZI+hc3gMD+KTcAXIjBZxkjWoGyoVrYLzn68ccfV69evUqVKuyns6LMLBIaNmzIkgO9Fa3AT5j6I25g4sSJyRVYCHUD9wjxzA2WTLBgwQKW3bhsOQREOCncz8/P2E5+RL9+/fos92VT3ADzFR/AvGcBTQ1MTSJcpjtgJ3Ho5BiyHaFFOsSS43PNj6MwI8l5q1evlk2Tq1ev+vr6NmjQgDAm2MQNkPWnTJnC7CSbcmkih4Qnr6pxlIxLY5YsWZJcwS1IrgQVWd98b5Ia0CyKMfuHDh0qO20x3ykgvHEtLCkIEm9vb3MFg2cnzIgZBOjpp5+mNvwBVYmuoUQUxi7s2rVLygusWpYuXUrq5brEIaMaFBSEuskD1SgLyyZsjXxSWUCeWAQYG8nBSZCz1DC/RIUxwdQz4NRJU/mDLG7rJ+gsyou4UIBhZw/3hdNps3xwCzlDJjAuMryA0KO/69evl01FATw0qc582RzHSX4i3GQTCAEK2L6kdOTIEZKruHzznQKSB8kVJ00KZMLv3r1bEo+AViApTE6SN0GHVpCcvvnmG1MraAb5zPbtBiE6Onrx4sVMZlpF5BKDCAIyRfgw+Tt27Lhq1SoUhmbLR5GZ3uQ5jD4rYKmBUwguzpUXIYCS1ECAoz/9+vWTnbaY7xSQFzEx8vIh4SlaBDQboSOPci16RDZFE1ir0CN6SgGaTcgTiSyN5BRg5Y2gdevWjTBE/Yjoffv2cZZ8BZN8+xCaZn7FKhDaxLKxkdxyzBA1YMiMXcm3YP78+ayLKIl4siqjd/JZZcCXMBoIGp3FzchNQSsYDQQE88FZ2AvGASsTFRXFURSMe7R8+fLkCiyEuoF7BGtMGpB7z3QxF4gCCezXX381A0aIiIiQqQymGyCDEk54BWZP/F3+6yCzXL5ywA4aYHddW5jZdg1IBxrM/DabJ7BTpq8ttr2ww3QD9I6VNDJnfgIqIxBCDMWfOgUYNPyKmZIF0r9pQQSExm5PRmDdc7fOpoZLmIKoKAIxyOQ0szKT0DYbAUqC9bSLfRapsiqgvLgBEjnBePjwYSwpgSnFUkNt5Cdjw4bUGmULp9xNfOxAizDN2HpjOxn6KF7BFgTQ7LUdts8NnDt3jsW6+cneDMLgcEVzoZIRaDOyYDc47LGTDsYWq2FsZBg6azcm6ZD+vchC1A1kDbZuwNiV/bF1A8YuRVH+ArZuwNiV/bF1A8YuxQKoG8gaxA24ublt3brV2JX9ETfQp0+fP7u+VxQlTcQNlC9fPvUbgtkXcQMdO3a0ffRByXLUDWQNV69eXbBggY+Pj/nozQPAwYMHx4wZs2zZsnt4qU1RlNTcuHFj+fLlXl5ets++ZXd+/PHHSZMmzZ0794I1/nefIqgbyBoSExOjoqIiIiLu9tZadoS+0CP6JW95KoryF0lKSoqNjQ0PD8/429LWJyEh4dKlS5cvX1ahsBTqBhRFURTF2VE3oCiKoijOjroBRVEURXF21A0oiqIoirOjbkBRFEVRnB11A4qiKIri7KgbUBRFURTn5ubN/wFOuJ+la9qnbAAAAABJRU5ErkJggg==)"
      ],
      "metadata": {
        "id": "KpYWZ_YllIyE"
      }
    },
    {
      "cell_type": "markdown",
      "source": [
        "## 베이지안 최적화(Bayesian Optimization)\n",
        "- 매회 새로운 하이퍼파라미터값에 대한 조사를 수행할 시 사전 지식을 충분히 반영하면서 동시에 전체적인 탐색 과정을 체계적으로 수행할수 있는 방법\n",
        "\n",
        "- 대체모델이라는걸 이용해서 이전 하이퍼파라미터조합의 적용결과를 기반으로 더 높은 성능점수를 얻는 하이퍼파라미터 조합을 예측하는 방식"
      ],
      "metadata": {
        "id": "jwiwU43-mGLb"
      }
    },
    {
      "cell_type": "code",
      "source": [
        "!pip install optuna"
      ],
      "metadata": {
        "colab": {
          "base_uri": "https://localhost:8080/"
        },
        "id": "Ey524X2XjNVh",
        "outputId": "66b0823d-f66c-4be4-e15b-2f0f5e00fcd8"
      },
      "execution_count": 19,
      "outputs": [
        {
          "output_type": "stream",
          "name": "stdout",
          "text": [
            "Looking in indexes: https://pypi.org/simple, https://us-python.pkg.dev/colab-wheels/public/simple/\n",
            "Collecting optuna\n",
            "  Downloading optuna-3.0.1-py3-none-any.whl (348 kB)\n",
            "\u001b[K     |████████████████████████████████| 348 kB 5.0 MB/s \n",
            "\u001b[?25hRequirement already satisfied: packaging>=20.0 in /usr/local/lib/python3.7/dist-packages (from optuna) (21.3)\n",
            "Requirement already satisfied: typing-extensions>=3.10.0.0 in /usr/local/lib/python3.7/dist-packages (from optuna) (4.1.1)\n",
            "Requirement already satisfied: tqdm in /usr/local/lib/python3.7/dist-packages (from optuna) (4.64.1)\n",
            "Requirement already satisfied: sqlalchemy>=1.1.0 in /usr/local/lib/python3.7/dist-packages (from optuna) (1.4.41)\n",
            "Requirement already satisfied: scipy<1.9.0,>=1.7.0 in /usr/local/lib/python3.7/dist-packages (from optuna) (1.7.3)\n",
            "Requirement already satisfied: PyYAML in /usr/local/lib/python3.7/dist-packages (from optuna) (6.0)\n",
            "Collecting cliff\n",
            "  Downloading cliff-3.10.1-py3-none-any.whl (81 kB)\n",
            "\u001b[K     |████████████████████████████████| 81 kB 8.9 MB/s \n",
            "\u001b[?25hRequirement already satisfied: numpy in /usr/local/lib/python3.7/dist-packages (from optuna) (1.21.6)\n",
            "Collecting colorlog\n",
            "  Downloading colorlog-6.7.0-py2.py3-none-any.whl (11 kB)\n",
            "Collecting alembic\n",
            "  Downloading alembic-1.8.1-py3-none-any.whl (209 kB)\n",
            "\u001b[K     |████████████████████████████████| 209 kB 61.7 MB/s \n",
            "\u001b[?25hCollecting cmaes>=0.8.2\n",
            "  Downloading cmaes-0.8.2-py3-none-any.whl (15 kB)\n",
            "Requirement already satisfied: pyparsing!=3.0.5,>=2.0.2 in /usr/local/lib/python3.7/dist-packages (from packaging>=20.0->optuna) (3.0.9)\n",
            "Requirement already satisfied: greenlet!=0.4.17 in /usr/local/lib/python3.7/dist-packages (from sqlalchemy>=1.1.0->optuna) (1.1.3)\n",
            "Requirement already satisfied: importlib-metadata in /usr/local/lib/python3.7/dist-packages (from sqlalchemy>=1.1.0->optuna) (4.12.0)\n",
            "Collecting Mako\n",
            "  Downloading Mako-1.2.2-py3-none-any.whl (78 kB)\n",
            "\u001b[K     |████████████████████████████████| 78 kB 7.5 MB/s \n",
            "\u001b[?25hRequirement already satisfied: importlib-resources in /usr/local/lib/python3.7/dist-packages (from alembic->optuna) (5.9.0)\n",
            "Collecting autopage>=0.4.0\n",
            "  Downloading autopage-0.5.1-py3-none-any.whl (29 kB)\n",
            "Collecting pbr!=2.1.0,>=2.0.0\n",
            "  Downloading pbr-5.10.0-py2.py3-none-any.whl (112 kB)\n",
            "\u001b[K     |████████████████████████████████| 112 kB 60.0 MB/s \n",
            "\u001b[?25hCollecting cmd2>=1.0.0\n",
            "  Downloading cmd2-2.4.2-py3-none-any.whl (147 kB)\n",
            "\u001b[K     |████████████████████████████████| 147 kB 57.2 MB/s \n",
            "\u001b[?25hRequirement already satisfied: PrettyTable>=0.7.2 in /usr/local/lib/python3.7/dist-packages (from cliff->optuna) (3.4.1)\n",
            "Collecting stevedore>=2.0.1\n",
            "  Downloading stevedore-3.5.0-py3-none-any.whl (49 kB)\n",
            "\u001b[K     |████████████████████████████████| 49 kB 5.9 MB/s \n",
            "\u001b[?25hCollecting pyperclip>=1.6\n",
            "  Downloading pyperclip-1.8.2.tar.gz (20 kB)\n",
            "Requirement already satisfied: wcwidth>=0.1.7 in /usr/local/lib/python3.7/dist-packages (from cmd2>=1.0.0->cliff->optuna) (0.2.5)\n",
            "Requirement already satisfied: attrs>=16.3.0 in /usr/local/lib/python3.7/dist-packages (from cmd2>=1.0.0->cliff->optuna) (22.1.0)\n",
            "Requirement already satisfied: zipp>=0.5 in /usr/local/lib/python3.7/dist-packages (from importlib-metadata->sqlalchemy>=1.1.0->optuna) (3.8.1)\n",
            "Requirement already satisfied: MarkupSafe>=0.9.2 in /usr/local/lib/python3.7/dist-packages (from Mako->alembic->optuna) (2.0.1)\n",
            "Building wheels for collected packages: pyperclip\n",
            "  Building wheel for pyperclip (setup.py) ... \u001b[?25l\u001b[?25hdone\n",
            "  Created wheel for pyperclip: filename=pyperclip-1.8.2-py3-none-any.whl size=11137 sha256=38d61256e7a7272a38d10915ad0d2a5385dd777647ce8f437f34c1c46d26dbf2\n",
            "  Stored in directory: /root/.cache/pip/wheels/9f/18/84/8f69f8b08169c7bae2dde6bd7daf0c19fca8c8e500ee620a28\n",
            "Successfully built pyperclip\n",
            "Installing collected packages: pyperclip, pbr, stevedore, Mako, cmd2, autopage, colorlog, cmaes, cliff, alembic, optuna\n",
            "Successfully installed Mako-1.2.2 alembic-1.8.1 autopage-0.5.1 cliff-3.10.1 cmaes-0.8.2 cmd2-2.4.2 colorlog-6.7.0 optuna-3.0.1 pbr-5.10.0 pyperclip-1.8.2 stevedore-3.5.0\n"
          ]
        }
      ]
    },
    {
      "cell_type": "code",
      "source": [
        "import optuna"
      ],
      "metadata": {
        "id": "jR_lreFRq6dK"
      },
      "execution_count": 20,
      "outputs": []
    },
    {
      "cell_type": "markdown",
      "source": [
        "- 목적함수 만들기"
      ],
      "metadata": {
        "id": "SQe_gndYrMqC"
      }
    },
    {
      "cell_type": "code",
      "source": [
        "from sklearn.model_selection import cross_val_score"
      ],
      "metadata": {
        "id": "hVMGmTv4q6Z5"
      },
      "execution_count": 21,
      "outputs": []
    },
    {
      "cell_type": "code",
      "source": [
        "def objective(trial):\n",
        "    hp = {\n",
        "        \"max_depth\" : trial.suggest_int(\"max_depth\",2,15),\n",
        "        \"min_samples_split\" : trial.suggest_int(\"min_samples_split\",2,10),\n",
        "        \"criterion\" : trial.suggest_categorical(\"criterion\",[\"gini\",\"entropy\"]),\n",
        "        \"max_leaf_nodes\" : trial.suggest_int(\"max_leaf_nodes\",5,10),\n",
        "        \"n_estimators\" : trial.suggest_int(\"n_estimators\",10,500),\n",
        "        \"learning_rate\" : trial.suggest_float(\"learning_rate\",0.01,0.1)\n",
        "    }\n",
        "    cv = KFold(n_splits=5,shuffle=True,random_state=SEED)\n",
        "    model = LGBMClassifier(random_state=SEED,**hp)\n",
        "    scores = cross_val_score(model,x_train,y_train, cv = cv , scoring=\"roc_auc\")\n",
        "    return np.mean(scores)"
      ],
      "metadata": {
        "id": "02y22IEUq6XN"
      },
      "execution_count": 28,
      "outputs": []
    },
    {
      "cell_type": "code",
      "source": [
        "sampler = optuna.samplers.TPESampler(seed=SEED) # 대체모델 부분\n",
        "\n",
        "# 스터디 객체\n",
        "study = optuna.create_study(\n",
        "    direction = \"maximize\", # maximize or minimize\n",
        "    sampler = sampler\n",
        ")\n",
        "\n",
        "study.optimize(objective,n_trials=50)"
      ],
      "metadata": {
        "colab": {
          "base_uri": "https://localhost:8080/"
        },
        "id": "Pn6sJJcMjNRI",
        "outputId": "2560382b-77b4-4c76-9da6-c96f6344fcf5"
      },
      "execution_count": 29,
      "outputs": [
        {
          "output_type": "stream",
          "name": "stderr",
          "text": [
            "\u001b[32m[I 2022-09-13 07:27:02,978]\u001b[0m A new study created in memory with name: no-name-50c3054a-8acc-45eb-a199-536f17a7676e\u001b[0m\n",
            "\u001b[32m[I 2022-09-13 07:27:03,179]\u001b[0m Trial 0 finished with value: 0.8522732281153486 and parameters: {'max_depth': 7, 'min_samples_split': 10, 'criterion': 'gini', 'max_leaf_nodes': 5, 'n_estimators': 86, 'learning_rate': 0.015227525095137952}. Best is trial 0 with value: 0.8522732281153486.\u001b[0m\n",
            "\u001b[32m[I 2022-09-13 07:27:04,048]\u001b[0m Trial 1 finished with value: 0.842336280687235 and parameters: {'max_depth': 14, 'min_samples_split': 7, 'criterion': 'gini', 'max_leaf_nodes': 10, 'n_estimators': 418, 'learning_rate': 0.029110519961044856}. Best is trial 0 with value: 0.8522732281153486.\u001b[0m\n",
            "\u001b[32m[I 2022-09-13 07:27:04,234]\u001b[0m Trial 2 finished with value: 0.847517887036954 and parameters: {'max_depth': 4, 'min_samples_split': 3, 'criterion': 'entropy', 'max_leaf_nodes': 7, 'n_estimators': 152, 'learning_rate': 0.06506676052501416}. Best is trial 0 with value: 0.8522732281153486.\u001b[0m\n",
            "\u001b[32m[I 2022-09-13 07:27:04,371]\u001b[0m Trial 3 finished with value: 0.8527045845122097 and parameters: {'max_depth': 3, 'min_samples_split': 4, 'criterion': 'entropy', 'max_leaf_nodes': 9, 'n_estimators': 108, 'learning_rate': 0.05628109945722505}. Best is trial 3 with value: 0.8527045845122097.\u001b[0m\n",
            "\u001b[32m[I 2022-09-13 07:27:05,227]\u001b[0m Trial 4 finished with value: 0.8263525822422361 and parameters: {'max_depth': 10, 'min_samples_split': 2, 'criterion': 'gini', 'max_leaf_nodes': 5, 'n_estimators': 475, 'learning_rate': 0.09690688297671035}. Best is trial 3 with value: 0.8527045845122097.\u001b[0m\n",
            "\u001b[32m[I 2022-09-13 07:27:05,396]\u001b[0m Trial 5 finished with value: 0.8499428179780878 and parameters: {'max_depth': 13, 'min_samples_split': 4, 'criterion': 'entropy', 'max_leaf_nodes': 7, 'n_estimators': 69, 'learning_rate': 0.054565921910014324}. Best is trial 3 with value: 0.8527045845122097.\u001b[0m\n",
            "\u001b[32m[I 2022-09-13 07:27:05,595]\u001b[0m Trial 6 finished with value: 0.8463463130728073 and parameters: {'max_depth': 2, 'min_samples_split': 10, 'criterion': 'entropy', 'max_leaf_nodes': 6, 'n_estimators': 265, 'learning_rate': 0.059203925140895175}. Best is trial 3 with value: 0.8527045845122097.\u001b[0m\n",
            "\u001b[32m[I 2022-09-13 07:27:05,949]\u001b[0m Trial 7 finished with value: 0.8317356173075506 and parameters: {'max_depth': 4, 'min_samples_split': 10, 'criterion': 'entropy', 'max_leaf_nodes': 10, 'n_estimators': 303, 'learning_rate': 0.09296868115208053}. Best is trial 3 with value: 0.8527045845122097.\u001b[0m\n",
            "\u001b[32m[I 2022-09-13 07:27:06,118]\u001b[0m Trial 8 finished with value: 0.8483919093926373 and parameters: {'max_depth': 3, 'min_samples_split': 3, 'criterion': 'entropy', 'max_leaf_nodes': 7, 'n_estimators': 143, 'learning_rate': 0.08458637582367365}. Best is trial 3 with value: 0.8527045845122097.\u001b[0m\n",
            "\u001b[32m[I 2022-09-13 07:27:06,237]\u001b[0m Trial 9 finished with value: 0.8512160773839454 and parameters: {'max_depth': 6, 'min_samples_split': 4, 'criterion': 'gini', 'max_leaf_nodes': 9, 'n_estimators': 46, 'learning_rate': 0.09881982429404657}. Best is trial 3 with value: 0.8527045845122097.\u001b[0m\n",
            "\u001b[32m[I 2022-09-13 07:27:06,641]\u001b[0m Trial 10 finished with value: 0.8459517079995095 and parameters: {'max_depth': 9, 'min_samples_split': 6, 'criterion': 'entropy', 'max_leaf_nodes': 9, 'n_estimators': 192, 'learning_rate': 0.04094807897017134}. Best is trial 3 with value: 0.8527045845122097.\u001b[0m\n",
            "\u001b[32m[I 2022-09-13 07:27:06,754]\u001b[0m Trial 11 finished with value: 0.84124053829172 and parameters: {'max_depth': 7, 'min_samples_split': 7, 'criterion': 'gini', 'max_leaf_nodes': 5, 'n_estimators': 18, 'learning_rate': 0.010782641016784153}. Best is trial 3 with value: 0.8527045845122097.\u001b[0m\n",
            "\u001b[32m[I 2022-09-13 07:27:07,011]\u001b[0m Trial 12 finished with value: 0.851155701958195 and parameters: {'max_depth': 6, 'min_samples_split': 8, 'criterion': 'gini', 'max_leaf_nodes': 8, 'n_estimators': 116, 'learning_rate': 0.01196355405483679}. Best is trial 3 with value: 0.8527045845122097.\u001b[0m\n",
            "\u001b[32m[I 2022-09-13 07:27:07,509]\u001b[0m Trial 13 finished with value: 0.8480885073111368 and parameters: {'max_depth': 11, 'min_samples_split': 5, 'criterion': 'gini', 'max_leaf_nodes': 8, 'n_estimators': 240, 'learning_rate': 0.0347036475954233}. Best is trial 3 with value: 0.8527045845122097.\u001b[0m\n",
            "\u001b[32m[I 2022-09-13 07:27:07,734]\u001b[0m Trial 14 finished with value: 0.8468783518261398 and parameters: {'max_depth': 7, 'min_samples_split': 9, 'criterion': 'gini', 'max_leaf_nodes': 9, 'n_estimators': 94, 'learning_rate': 0.07005210494307718}. Best is trial 3 with value: 0.8527045845122097.\u001b[0m\n",
            "\u001b[32m[I 2022-09-13 07:27:08,127]\u001b[0m Trial 15 finished with value: 0.838644955495031 and parameters: {'max_depth': 4, 'min_samples_split': 5, 'criterion': 'entropy', 'max_leaf_nodes': 6, 'n_estimators': 342, 'learning_rate': 0.04589452083588246}. Best is trial 3 with value: 0.8527045845122097.\u001b[0m\n",
            "\u001b[32m[I 2022-09-13 07:27:08,547]\u001b[0m Trial 16 finished with value: 0.8488844256221544 and parameters: {'max_depth': 12, 'min_samples_split': 8, 'criterion': 'entropy', 'max_leaf_nodes': 6, 'n_estimators': 198, 'learning_rate': 0.024065513917465253}. Best is trial 3 with value: 0.8527045845122097.\u001b[0m\n",
            "\u001b[32m[I 2022-09-13 07:27:08,652]\u001b[0m Trial 17 finished with value: 0.8493065247940447 and parameters: {'max_depth': 8, 'min_samples_split': 6, 'criterion': 'gini', 'max_leaf_nodes': 8, 'n_estimators': 19, 'learning_rate': 0.081518082770088}. Best is trial 3 with value: 0.8527045845122097.\u001b[0m\n",
            "\u001b[32m[I 2022-09-13 07:27:08,845]\u001b[0m Trial 18 finished with value: 0.8505762606470004 and parameters: {'max_depth': 2, 'min_samples_split': 2, 'criterion': 'entropy', 'max_leaf_nodes': 9, 'n_estimators': 193, 'learning_rate': 0.0506496154464866}. Best is trial 3 with value: 0.8527045845122097.\u001b[0m\n",
            "\u001b[32m[I 2022-09-13 07:27:09,050]\u001b[0m Trial 19 finished with value: 0.8525470631347865 and parameters: {'max_depth': 6, 'min_samples_split': 5, 'criterion': 'gini', 'max_leaf_nodes': 5, 'n_estimators': 93, 'learning_rate': 0.021841626745429776}. Best is trial 3 with value: 0.8527045845122097.\u001b[0m\n",
            "\u001b[32m[I 2022-09-13 07:27:09,276]\u001b[0m Trial 20 finished with value: 0.8435007802404029 and parameters: {'max_depth': 5, 'min_samples_split': 5, 'criterion': 'entropy', 'max_leaf_nodes': 10, 'n_estimators': 140, 'learning_rate': 0.07286569368374826}. Best is trial 3 with value: 0.8527045845122097.\u001b[0m\n",
            "\u001b[32m[I 2022-09-13 07:27:09,526]\u001b[0m Trial 21 finished with value: 0.8530164662375359 and parameters: {'max_depth': 8, 'min_samples_split': 4, 'criterion': 'gini', 'max_leaf_nodes': 5, 'n_estimators': 83, 'learning_rate': 0.02095511844013}. Best is trial 21 with value: 0.8530164662375359.\u001b[0m\n",
            "\u001b[32m[I 2022-09-13 07:27:09,707]\u001b[0m Trial 22 finished with value: 0.8517682421900069 and parameters: {'max_depth': 9, 'min_samples_split': 4, 'criterion': 'gini', 'max_leaf_nodes': 5, 'n_estimators': 64, 'learning_rate': 0.02288998823724443}. Best is trial 21 with value: 0.8530164662375359.\u001b[0m\n",
            "\u001b[32m[I 2022-09-13 07:27:09,929]\u001b[0m Trial 23 finished with value: 0.8508548012578038 and parameters: {'max_depth': 5, 'min_samples_split': 3, 'criterion': 'gini', 'max_leaf_nodes': 6, 'n_estimators': 120, 'learning_rate': 0.03833705466285181}. Best is trial 21 with value: 0.8530164662375359.\u001b[0m\n",
            "\u001b[32m[I 2022-09-13 07:27:10,356]\u001b[0m Trial 24 finished with value: 0.8452249281910786 and parameters: {'max_depth': 8, 'min_samples_split': 5, 'criterion': 'gini', 'max_leaf_nodes': 5, 'n_estimators': 232, 'learning_rate': 0.030675275501862116}. Best is trial 21 with value: 0.8530164662375359.\u001b[0m\n",
            "\u001b[32m[I 2022-09-13 07:27:10,734]\u001b[0m Trial 25 finished with value: 0.8520018820712927 and parameters: {'max_depth': 10, 'min_samples_split': 4, 'criterion': 'gini', 'max_leaf_nodes': 6, 'n_estimators': 173, 'learning_rate': 0.020652452571516704}. Best is trial 21 with value: 0.8530164662375359.\u001b[0m\n",
            "\u001b[32m[I 2022-09-13 07:27:10,858]\u001b[0m Trial 26 finished with value: 0.8526159987263154 and parameters: {'max_depth': 3, 'min_samples_split': 3, 'criterion': 'gini', 'max_leaf_nodes': 7, 'n_estimators': 45, 'learning_rate': 0.04586784587384822}. Best is trial 21 with value: 0.8530164662375359.\u001b[0m\n",
            "\u001b[32m[I 2022-09-13 07:27:10,940]\u001b[0m Trial 27 finished with value: 0.8506609037527053 and parameters: {'max_depth': 3, 'min_samples_split': 2, 'criterion': 'gini', 'max_leaf_nodes': 8, 'n_estimators': 18, 'learning_rate': 0.06065477502762827}. Best is trial 21 with value: 0.8530164662375359.\u001b[0m\n",
            "\u001b[32m[I 2022-09-13 07:27:11,041]\u001b[0m Trial 28 finished with value: 0.8555165353960088 and parameters: {'max_depth': 2, 'min_samples_split': 3, 'criterion': 'entropy', 'max_leaf_nodes': 7, 'n_estimators': 49, 'learning_rate': 0.04361400822007808}. Best is trial 28 with value: 0.8555165353960088.\u001b[0m\n",
            "\u001b[32m[I 2022-09-13 07:27:11,168]\u001b[0m Trial 29 finished with value: 0.8597967969496549 and parameters: {'max_depth': 2, 'min_samples_split': 3, 'criterion': 'entropy', 'max_leaf_nodes': 9, 'n_estimators': 97, 'learning_rate': 0.04389003630859849}. Best is trial 29 with value: 0.8597967969496549.\u001b[0m\n",
            "\u001b[32m[I 2022-09-13 07:27:11,341]\u001b[0m Trial 30 finished with value: 0.8513611691291896 and parameters: {'max_depth': 15, 'min_samples_split': 3, 'criterion': 'entropy', 'max_leaf_nodes': 7, 'n_estimators': 55, 'learning_rate': 0.04136630520026308}. Best is trial 29 with value: 0.8597967969496549.\u001b[0m\n",
            "\u001b[32m[I 2022-09-13 07:27:11,470]\u001b[0m Trial 31 finished with value: 0.860002023968255 and parameters: {'max_depth': 2, 'min_samples_split': 4, 'criterion': 'entropy', 'max_leaf_nodes': 9, 'n_estimators': 97, 'learning_rate': 0.04743859727613211}. Best is trial 31 with value: 0.860002023968255.\u001b[0m\n",
            "\u001b[32m[I 2022-09-13 07:27:11,586]\u001b[0m Trial 32 finished with value: 0.8612226995693584 and parameters: {'max_depth': 2, 'min_samples_split': 2, 'criterion': 'entropy', 'max_leaf_nodes': 10, 'n_estimators': 81, 'learning_rate': 0.04761586218744837}. Best is trial 32 with value: 0.8612226995693584.\u001b[0m\n",
            "\u001b[32m[I 2022-09-13 07:27:11,745]\u001b[0m Trial 33 finished with value: 0.853241505309661 and parameters: {'max_depth': 2, 'min_samples_split': 2, 'criterion': 'entropy', 'max_leaf_nodes': 10, 'n_estimators': 148, 'learning_rate': 0.04957138693705489}. Best is trial 32 with value: 0.8612226995693584.\u001b[0m\n",
            "\u001b[32m[I 2022-09-13 07:27:12,042]\u001b[0m Trial 34 finished with value: 0.8504177257227893 and parameters: {'max_depth': 2, 'min_samples_split': 3, 'criterion': 'entropy', 'max_leaf_nodes': 10, 'n_estimators': 368, 'learning_rate': 0.03230351831510059}. Best is trial 32 with value: 0.8612226995693584.\u001b[0m\n",
            "\u001b[32m[I 2022-09-13 07:27:12,233]\u001b[0m Trial 35 finished with value: 0.8473217234393198 and parameters: {'max_depth': 4, 'min_samples_split': 2, 'criterion': 'entropy', 'max_leaf_nodes': 9, 'n_estimators': 119, 'learning_rate': 0.06460948763185569}. Best is trial 32 with value: 0.8612226995693584.\u001b[0m\n",
            "\u001b[32m[I 2022-09-13 07:27:12,669]\u001b[0m Trial 36 finished with value: 0.8360756500133422 and parameters: {'max_depth': 3, 'min_samples_split': 3, 'criterion': 'entropy', 'max_leaf_nodes': 10, 'n_estimators': 476, 'learning_rate': 0.05221658936500792}. Best is trial 32 with value: 0.8612226995693584.\u001b[0m\n",
            "\u001b[32m[I 2022-09-13 07:27:12,758]\u001b[0m Trial 37 finished with value: 0.8558525282290302 and parameters: {'max_depth': 2, 'min_samples_split': 2, 'criterion': 'entropy', 'max_leaf_nodes': 9, 'n_estimators': 40, 'learning_rate': 0.04571773840253737}. Best is trial 32 with value: 0.8612226995693584.\u001b[0m\n",
            "\u001b[32m[I 2022-09-13 07:27:12,935]\u001b[0m Trial 38 finished with value: 0.8532355695542229 and parameters: {'max_depth': 5, 'min_samples_split': 2, 'criterion': 'entropy', 'max_leaf_nodes': 9, 'n_estimators': 69, 'learning_rate': 0.05607266407320225}. Best is trial 32 with value: 0.8612226995693584.\u001b[0m\n",
            "\u001b[32m[I 2022-09-13 07:27:13,390]\u001b[0m Trial 39 finished with value: 0.8416444906498892 and parameters: {'max_depth': 4, 'min_samples_split': 2, 'criterion': 'entropy', 'max_leaf_nodes': 10, 'n_estimators': 429, 'learning_rate': 0.036173940807973044}. Best is trial 32 with value: 0.8612226995693584.\u001b[0m\n",
            "\u001b[32m[I 2022-09-13 07:27:13,567]\u001b[0m Trial 40 finished with value: 0.8520245958070444 and parameters: {'max_depth': 2, 'min_samples_split': 2, 'criterion': 'entropy', 'max_leaf_nodes': 9, 'n_estimators': 167, 'learning_rate': 0.04846237698772378}. Best is trial 32 with value: 0.8612226995693584.\u001b[0m\n",
            "\u001b[32m[I 2022-09-13 07:27:13,673]\u001b[0m Trial 41 finished with value: 0.8525198679586902 and parameters: {'max_depth': 3, 'min_samples_split': 3, 'criterion': 'entropy', 'max_leaf_nodes': 8, 'n_estimators': 44, 'learning_rate': 0.0429264406987806}. Best is trial 32 with value: 0.8612226995693584.\u001b[0m\n",
            "\u001b[32m[I 2022-09-13 07:27:13,742]\u001b[0m Trial 42 finished with value: 0.8301559484059903 and parameters: {'max_depth': 2, 'min_samples_split': 3, 'criterion': 'entropy', 'max_leaf_nodes': 9, 'n_estimators': 10, 'learning_rate': 0.04461197237986845}. Best is trial 32 with value: 0.8612226995693584.\u001b[0m\n",
            "\u001b[32m[I 2022-09-13 07:27:13,902]\u001b[0m Trial 43 finished with value: 0.8516692246150914 and parameters: {'max_depth': 3, 'min_samples_split': 4, 'criterion': 'entropy', 'max_leaf_nodes': 8, 'n_estimators': 96, 'learning_rate': 0.058660251908660525}. Best is trial 32 with value: 0.8612226995693584.\u001b[0m\n",
            "\u001b[32m[I 2022-09-13 07:27:14,002]\u001b[0m Trial 44 finished with value: 0.8389758367831364 and parameters: {'max_depth': 2, 'min_samples_split': 3, 'criterion': 'entropy', 'max_leaf_nodes': 10, 'n_estimators': 39, 'learning_rate': 0.027458015134901335}. Best is trial 32 with value: 0.8612226995693584.\u001b[0m\n",
            "\u001b[32m[I 2022-09-13 07:27:14,150]\u001b[0m Trial 45 finished with value: 0.853533844267049 and parameters: {'max_depth': 4, 'min_samples_split': 2, 'criterion': 'entropy', 'max_leaf_nodes': 9, 'n_estimators': 79, 'learning_rate': 0.05385491687365862}. Best is trial 32 with value: 0.8612226995693584.\u001b[0m\n",
            "\u001b[32m[I 2022-09-13 07:27:14,295]\u001b[0m Trial 46 finished with value: 0.8595709355692689 and parameters: {'max_depth': 2, 'min_samples_split': 4, 'criterion': 'entropy', 'max_leaf_nodes': 8, 'n_estimators': 127, 'learning_rate': 0.0396120431819263}. Best is trial 32 with value: 0.8612226995693584.\u001b[0m\n",
            "\u001b[32m[I 2022-09-13 07:27:14,456]\u001b[0m Trial 47 finished with value: 0.8530593317962379 and parameters: {'max_depth': 3, 'min_samples_split': 4, 'criterion': 'entropy', 'max_leaf_nodes': 9, 'n_estimators': 126, 'learning_rate': 0.038150635878244445}. Best is trial 32 with value: 0.8612226995693584.\u001b[0m\n",
            "\u001b[32m[I 2022-09-13 07:27:14,776]\u001b[0m Trial 48 finished with value: 0.8455559542226112 and parameters: {'max_depth': 4, 'min_samples_split': 4, 'criterion': 'entropy', 'max_leaf_nodes': 8, 'n_estimators': 271, 'learning_rate': 0.0347065425251714}. Best is trial 32 with value: 0.8612226995693584.\u001b[0m\n",
            "\u001b[32m[I 2022-09-13 07:27:15,121]\u001b[0m Trial 49 finished with value: 0.8466443237695411 and parameters: {'max_depth': 5, 'min_samples_split': 7, 'criterion': 'entropy', 'max_leaf_nodes': 9, 'n_estimators': 219, 'learning_rate': 0.039351356853617826}. Best is trial 32 with value: 0.8612226995693584.\u001b[0m\n"
          ]
        }
      ]
    },
    {
      "cell_type": "code",
      "source": [
        "print(\"Best Score:\", study.best_value) # 최고점수\n",
        "print(\"Best hp\", study.best_params) # 최고점수의 하이퍼파라미터조합"
      ],
      "metadata": {
        "colab": {
          "base_uri": "https://localhost:8080/"
        },
        "id": "sRKtvHj1wH--",
        "outputId": "12ceaa48-94aa-4acd-e384-5907f8647cf7"
      },
      "execution_count": 30,
      "outputs": [
        {
          "output_type": "stream",
          "name": "stdout",
          "text": [
            "Best Score: 0.8612226995693584\n",
            "Best hp {'max_depth': 2, 'min_samples_split': 2, 'criterion': 'entropy', 'max_leaf_nodes': 10, 'n_estimators': 81, 'learning_rate': 0.04761586218744837}\n"
          ]
        }
      ]
    },
    {
      "cell_type": "markdown",
      "source": [
        "- 제 스타일"
      ],
      "metadata": {
        "id": "Xav471WvwkEJ"
      }
    },
    {
      "cell_type": "code",
      "source": [
        "class Objective:\n",
        "    def __init__(self,x_train,y_train,seed):\n",
        "        self.x_train = x_train\n",
        "        self.y_train = y_train\n",
        "        self.seed = seed\n",
        "        self.cv = KFold(n_splits=5,shuffle=True,random_state=self.seed)\n",
        "    def __call__(self,trial):\n",
        "        hp = {\n",
        "            \"max_depth\" : trial.suggest_int(\"max_depth\",2,15),\n",
        "            \"min_samples_split\" : trial.suggest_int(\"min_samples_split\",2,10),\n",
        "            \"criterion\" : trial.suggest_categorical(\"criterion\",[\"gini\",\"entropy\"]),\n",
        "            \"max_leaf_nodes\" : trial.suggest_int(\"max_leaf_nodes\",5,10),\n",
        "            \"n_estimators\" : trial.suggest_int(\"n_estimators\",10,500),\n",
        "            \"learning_rate\" : trial.suggest_float(\"learning_rate\",0.01,0.1)\n",
        "        }\n",
        "        cv = KFold(n_splits=5,shuffle=True,random_state=self.seed)\n",
        "        model = LGBMClassifier(random_state=self.seed,**hp)\n",
        "        scores = cross_val_score(model,self.x_train,self.y_train, cv = self.cv , scoring=\"roc_auc\")\n",
        "        return np.mean(scores)"
      ],
      "metadata": {
        "id": "f32KzVB2wH8e"
      },
      "execution_count": 31,
      "outputs": []
    },
    {
      "cell_type": "code",
      "source": [
        "sampler = optuna.samplers.TPESampler(seed=SEED) # 대체모델 부분\n",
        "\n",
        "# 스터디 객체\n",
        "study = optuna.create_study(\n",
        "    direction = \"maximize\", # maximize or minimize\n",
        "    sampler = sampler\n",
        ")\n",
        "objective = Objective(x_train,y_train,SEED)\n",
        "study.optimize(objective,n_trials=50)\n",
        "\n",
        "print(\"Best Score:\", study.best_value) # 최고점수\n",
        "print(\"Best hp\", study.best_params) # 최고점수의 하이퍼파라미터조합"
      ],
      "metadata": {
        "colab": {
          "base_uri": "https://localhost:8080/"
        },
        "id": "Pq6jMTXxwH6K",
        "outputId": "67c5cf68-4373-40fe-9046-995bc1628a2f"
      },
      "execution_count": 32,
      "outputs": [
        {
          "output_type": "stream",
          "name": "stderr",
          "text": [
            "\u001b[32m[I 2022-09-13 07:36:51,830]\u001b[0m A new study created in memory with name: no-name-13177e6c-c407-4138-90c8-3f14cda18b2e\u001b[0m\n",
            "\u001b[32m[I 2022-09-13 07:36:52,038]\u001b[0m Trial 0 finished with value: 0.8522732281153486 and parameters: {'max_depth': 7, 'min_samples_split': 10, 'criterion': 'gini', 'max_leaf_nodes': 5, 'n_estimators': 86, 'learning_rate': 0.015227525095137952}. Best is trial 0 with value: 0.8522732281153486.\u001b[0m\n",
            "\u001b[32m[I 2022-09-13 07:36:52,848]\u001b[0m Trial 1 finished with value: 0.842336280687235 and parameters: {'max_depth': 14, 'min_samples_split': 7, 'criterion': 'gini', 'max_leaf_nodes': 10, 'n_estimators': 418, 'learning_rate': 0.029110519961044856}. Best is trial 0 with value: 0.8522732281153486.\u001b[0m\n",
            "\u001b[32m[I 2022-09-13 07:36:53,057]\u001b[0m Trial 2 finished with value: 0.847517887036954 and parameters: {'max_depth': 4, 'min_samples_split': 3, 'criterion': 'entropy', 'max_leaf_nodes': 7, 'n_estimators': 152, 'learning_rate': 0.06506676052501416}. Best is trial 0 with value: 0.8522732281153486.\u001b[0m\n",
            "\u001b[32m[I 2022-09-13 07:36:53,192]\u001b[0m Trial 3 finished with value: 0.8527045845122097 and parameters: {'max_depth': 3, 'min_samples_split': 4, 'criterion': 'entropy', 'max_leaf_nodes': 9, 'n_estimators': 108, 'learning_rate': 0.05628109945722505}. Best is trial 3 with value: 0.8527045845122097.\u001b[0m\n",
            "\u001b[32m[I 2022-09-13 07:36:54,050]\u001b[0m Trial 4 finished with value: 0.8263525822422361 and parameters: {'max_depth': 10, 'min_samples_split': 2, 'criterion': 'gini', 'max_leaf_nodes': 5, 'n_estimators': 475, 'learning_rate': 0.09690688297671035}. Best is trial 3 with value: 0.8527045845122097.\u001b[0m\n",
            "\u001b[32m[I 2022-09-13 07:36:54,228]\u001b[0m Trial 5 finished with value: 0.8499428179780878 and parameters: {'max_depth': 13, 'min_samples_split': 4, 'criterion': 'entropy', 'max_leaf_nodes': 7, 'n_estimators': 69, 'learning_rate': 0.054565921910014324}. Best is trial 3 with value: 0.8527045845122097.\u001b[0m\n",
            "\u001b[32m[I 2022-09-13 07:36:54,432]\u001b[0m Trial 6 finished with value: 0.8463463130728073 and parameters: {'max_depth': 2, 'min_samples_split': 10, 'criterion': 'entropy', 'max_leaf_nodes': 6, 'n_estimators': 265, 'learning_rate': 0.059203925140895175}. Best is trial 3 with value: 0.8527045845122097.\u001b[0m\n",
            "\u001b[32m[I 2022-09-13 07:36:54,759]\u001b[0m Trial 7 finished with value: 0.8317356173075506 and parameters: {'max_depth': 4, 'min_samples_split': 10, 'criterion': 'entropy', 'max_leaf_nodes': 10, 'n_estimators': 303, 'learning_rate': 0.09296868115208053}. Best is trial 3 with value: 0.8527045845122097.\u001b[0m\n",
            "\u001b[32m[I 2022-09-13 07:36:54,914]\u001b[0m Trial 8 finished with value: 0.8483919093926373 and parameters: {'max_depth': 3, 'min_samples_split': 3, 'criterion': 'entropy', 'max_leaf_nodes': 7, 'n_estimators': 143, 'learning_rate': 0.08458637582367365}. Best is trial 3 with value: 0.8527045845122097.\u001b[0m\n",
            "\u001b[32m[I 2022-09-13 07:36:55,052]\u001b[0m Trial 9 finished with value: 0.8512160773839454 and parameters: {'max_depth': 6, 'min_samples_split': 4, 'criterion': 'gini', 'max_leaf_nodes': 9, 'n_estimators': 46, 'learning_rate': 0.09881982429404657}. Best is trial 3 with value: 0.8527045845122097.\u001b[0m\n",
            "\u001b[32m[I 2022-09-13 07:36:55,442]\u001b[0m Trial 10 finished with value: 0.8459517079995095 and parameters: {'max_depth': 9, 'min_samples_split': 6, 'criterion': 'entropy', 'max_leaf_nodes': 9, 'n_estimators': 192, 'learning_rate': 0.04094807897017134}. Best is trial 3 with value: 0.8527045845122097.\u001b[0m\n",
            "\u001b[32m[I 2022-09-13 07:36:55,538]\u001b[0m Trial 11 finished with value: 0.84124053829172 and parameters: {'max_depth': 7, 'min_samples_split': 7, 'criterion': 'gini', 'max_leaf_nodes': 5, 'n_estimators': 18, 'learning_rate': 0.010782641016784153}. Best is trial 3 with value: 0.8527045845122097.\u001b[0m\n",
            "\u001b[32m[I 2022-09-13 07:36:55,790]\u001b[0m Trial 12 finished with value: 0.851155701958195 and parameters: {'max_depth': 6, 'min_samples_split': 8, 'criterion': 'gini', 'max_leaf_nodes': 8, 'n_estimators': 116, 'learning_rate': 0.01196355405483679}. Best is trial 3 with value: 0.8527045845122097.\u001b[0m\n",
            "\u001b[32m[I 2022-09-13 07:36:56,301]\u001b[0m Trial 13 finished with value: 0.8480885073111368 and parameters: {'max_depth': 11, 'min_samples_split': 5, 'criterion': 'gini', 'max_leaf_nodes': 8, 'n_estimators': 240, 'learning_rate': 0.0347036475954233}. Best is trial 3 with value: 0.8527045845122097.\u001b[0m\n",
            "\u001b[32m[I 2022-09-13 07:36:56,526]\u001b[0m Trial 14 finished with value: 0.8468783518261398 and parameters: {'max_depth': 7, 'min_samples_split': 9, 'criterion': 'gini', 'max_leaf_nodes': 9, 'n_estimators': 94, 'learning_rate': 0.07005210494307718}. Best is trial 3 with value: 0.8527045845122097.\u001b[0m\n",
            "\u001b[32m[I 2022-09-13 07:36:56,905]\u001b[0m Trial 15 finished with value: 0.838644955495031 and parameters: {'max_depth': 4, 'min_samples_split': 5, 'criterion': 'entropy', 'max_leaf_nodes': 6, 'n_estimators': 342, 'learning_rate': 0.04589452083588246}. Best is trial 3 with value: 0.8527045845122097.\u001b[0m\n",
            "\u001b[32m[I 2022-09-13 07:36:57,335]\u001b[0m Trial 16 finished with value: 0.8488844256221544 and parameters: {'max_depth': 12, 'min_samples_split': 8, 'criterion': 'entropy', 'max_leaf_nodes': 6, 'n_estimators': 198, 'learning_rate': 0.024065513917465253}. Best is trial 3 with value: 0.8527045845122097.\u001b[0m\n",
            "\u001b[32m[I 2022-09-13 07:36:57,436]\u001b[0m Trial 17 finished with value: 0.8493065247940447 and parameters: {'max_depth': 8, 'min_samples_split': 6, 'criterion': 'gini', 'max_leaf_nodes': 8, 'n_estimators': 19, 'learning_rate': 0.081518082770088}. Best is trial 3 with value: 0.8527045845122097.\u001b[0m\n",
            "\u001b[32m[I 2022-09-13 07:36:57,650]\u001b[0m Trial 18 finished with value: 0.8505762606470004 and parameters: {'max_depth': 2, 'min_samples_split': 2, 'criterion': 'entropy', 'max_leaf_nodes': 9, 'n_estimators': 193, 'learning_rate': 0.0506496154464866}. Best is trial 3 with value: 0.8527045845122097.\u001b[0m\n",
            "\u001b[32m[I 2022-09-13 07:36:57,848]\u001b[0m Trial 19 finished with value: 0.8525470631347865 and parameters: {'max_depth': 6, 'min_samples_split': 5, 'criterion': 'gini', 'max_leaf_nodes': 5, 'n_estimators': 93, 'learning_rate': 0.021841626745429776}. Best is trial 3 with value: 0.8527045845122097.\u001b[0m\n",
            "\u001b[32m[I 2022-09-13 07:36:58,116]\u001b[0m Trial 20 finished with value: 0.8435007802404029 and parameters: {'max_depth': 5, 'min_samples_split': 5, 'criterion': 'entropy', 'max_leaf_nodes': 10, 'n_estimators': 140, 'learning_rate': 0.07286569368374826}. Best is trial 3 with value: 0.8527045845122097.\u001b[0m\n",
            "\u001b[32m[I 2022-09-13 07:36:58,322]\u001b[0m Trial 21 finished with value: 0.8530164662375359 and parameters: {'max_depth': 8, 'min_samples_split': 4, 'criterion': 'gini', 'max_leaf_nodes': 5, 'n_estimators': 83, 'learning_rate': 0.02095511844013}. Best is trial 21 with value: 0.8530164662375359.\u001b[0m\n",
            "\u001b[32m[I 2022-09-13 07:36:58,513]\u001b[0m Trial 22 finished with value: 0.8517682421900069 and parameters: {'max_depth': 9, 'min_samples_split': 4, 'criterion': 'gini', 'max_leaf_nodes': 5, 'n_estimators': 64, 'learning_rate': 0.02288998823724443}. Best is trial 21 with value: 0.8530164662375359.\u001b[0m\n",
            "\u001b[32m[I 2022-09-13 07:36:58,728]\u001b[0m Trial 23 finished with value: 0.8508548012578038 and parameters: {'max_depth': 5, 'min_samples_split': 3, 'criterion': 'gini', 'max_leaf_nodes': 6, 'n_estimators': 120, 'learning_rate': 0.03833705466285181}. Best is trial 21 with value: 0.8530164662375359.\u001b[0m\n",
            "\u001b[32m[I 2022-09-13 07:36:59,168]\u001b[0m Trial 24 finished with value: 0.8452249281910786 and parameters: {'max_depth': 8, 'min_samples_split': 5, 'criterion': 'gini', 'max_leaf_nodes': 5, 'n_estimators': 232, 'learning_rate': 0.030675275501862116}. Best is trial 21 with value: 0.8530164662375359.\u001b[0m\n",
            "\u001b[32m[I 2022-09-13 07:36:59,525]\u001b[0m Trial 25 finished with value: 0.8520018820712927 and parameters: {'max_depth': 10, 'min_samples_split': 4, 'criterion': 'gini', 'max_leaf_nodes': 6, 'n_estimators': 173, 'learning_rate': 0.020652452571516704}. Best is trial 21 with value: 0.8530164662375359.\u001b[0m\n",
            "\u001b[32m[I 2022-09-13 07:36:59,632]\u001b[0m Trial 26 finished with value: 0.8526159987263154 and parameters: {'max_depth': 3, 'min_samples_split': 3, 'criterion': 'gini', 'max_leaf_nodes': 7, 'n_estimators': 45, 'learning_rate': 0.04586784587384822}. Best is trial 21 with value: 0.8530164662375359.\u001b[0m\n",
            "\u001b[32m[I 2022-09-13 07:36:59,714]\u001b[0m Trial 27 finished with value: 0.8506609037527053 and parameters: {'max_depth': 3, 'min_samples_split': 2, 'criterion': 'gini', 'max_leaf_nodes': 8, 'n_estimators': 18, 'learning_rate': 0.06065477502762827}. Best is trial 21 with value: 0.8530164662375359.\u001b[0m\n",
            "\u001b[32m[I 2022-09-13 07:36:59,819]\u001b[0m Trial 28 finished with value: 0.8555165353960088 and parameters: {'max_depth': 2, 'min_samples_split': 3, 'criterion': 'entropy', 'max_leaf_nodes': 7, 'n_estimators': 49, 'learning_rate': 0.04361400822007808}. Best is trial 28 with value: 0.8555165353960088.\u001b[0m\n",
            "\u001b[32m[I 2022-09-13 07:36:59,948]\u001b[0m Trial 29 finished with value: 0.8597967969496549 and parameters: {'max_depth': 2, 'min_samples_split': 3, 'criterion': 'entropy', 'max_leaf_nodes': 9, 'n_estimators': 97, 'learning_rate': 0.04389003630859849}. Best is trial 29 with value: 0.8597967969496549.\u001b[0m\n",
            "\u001b[32m[I 2022-09-13 07:37:00,146]\u001b[0m Trial 30 finished with value: 0.8513611691291896 and parameters: {'max_depth': 15, 'min_samples_split': 3, 'criterion': 'entropy', 'max_leaf_nodes': 7, 'n_estimators': 55, 'learning_rate': 0.04136630520026308}. Best is trial 29 with value: 0.8597967969496549.\u001b[0m\n",
            "\u001b[32m[I 2022-09-13 07:37:00,281]\u001b[0m Trial 31 finished with value: 0.860002023968255 and parameters: {'max_depth': 2, 'min_samples_split': 4, 'criterion': 'entropy', 'max_leaf_nodes': 9, 'n_estimators': 97, 'learning_rate': 0.04743859727613211}. Best is trial 31 with value: 0.860002023968255.\u001b[0m\n",
            "\u001b[32m[I 2022-09-13 07:37:00,390]\u001b[0m Trial 32 finished with value: 0.8612226995693584 and parameters: {'max_depth': 2, 'min_samples_split': 2, 'criterion': 'entropy', 'max_leaf_nodes': 10, 'n_estimators': 81, 'learning_rate': 0.04761586218744837}. Best is trial 32 with value: 0.8612226995693584.\u001b[0m\n",
            "\u001b[32m[I 2022-09-13 07:37:00,537]\u001b[0m Trial 33 finished with value: 0.853241505309661 and parameters: {'max_depth': 2, 'min_samples_split': 2, 'criterion': 'entropy', 'max_leaf_nodes': 10, 'n_estimators': 148, 'learning_rate': 0.04957138693705489}. Best is trial 32 with value: 0.8612226995693584.\u001b[0m\n",
            "\u001b[32m[I 2022-09-13 07:37:00,815]\u001b[0m Trial 34 finished with value: 0.8504177257227893 and parameters: {'max_depth': 2, 'min_samples_split': 3, 'criterion': 'entropy', 'max_leaf_nodes': 10, 'n_estimators': 368, 'learning_rate': 0.03230351831510059}. Best is trial 32 with value: 0.8612226995693584.\u001b[0m\n",
            "\u001b[32m[I 2022-09-13 07:37:01,005]\u001b[0m Trial 35 finished with value: 0.8473217234393198 and parameters: {'max_depth': 4, 'min_samples_split': 2, 'criterion': 'entropy', 'max_leaf_nodes': 9, 'n_estimators': 119, 'learning_rate': 0.06460948763185569}. Best is trial 32 with value: 0.8612226995693584.\u001b[0m\n",
            "\u001b[32m[I 2022-09-13 07:37:01,454]\u001b[0m Trial 36 finished with value: 0.8360756500133422 and parameters: {'max_depth': 3, 'min_samples_split': 3, 'criterion': 'entropy', 'max_leaf_nodes': 10, 'n_estimators': 476, 'learning_rate': 0.05221658936500792}. Best is trial 32 with value: 0.8612226995693584.\u001b[0m\n",
            "\u001b[32m[I 2022-09-13 07:37:01,550]\u001b[0m Trial 37 finished with value: 0.8558525282290302 and parameters: {'max_depth': 2, 'min_samples_split': 2, 'criterion': 'entropy', 'max_leaf_nodes': 9, 'n_estimators': 40, 'learning_rate': 0.04571773840253737}. Best is trial 32 with value: 0.8612226995693584.\u001b[0m\n",
            "\u001b[32m[I 2022-09-13 07:37:01,723]\u001b[0m Trial 38 finished with value: 0.8532355695542229 and parameters: {'max_depth': 5, 'min_samples_split': 2, 'criterion': 'entropy', 'max_leaf_nodes': 9, 'n_estimators': 69, 'learning_rate': 0.05607266407320225}. Best is trial 32 with value: 0.8612226995693584.\u001b[0m\n",
            "\u001b[32m[I 2022-09-13 07:37:02,220]\u001b[0m Trial 39 finished with value: 0.8416444906498892 and parameters: {'max_depth': 4, 'min_samples_split': 2, 'criterion': 'entropy', 'max_leaf_nodes': 10, 'n_estimators': 429, 'learning_rate': 0.036173940807973044}. Best is trial 32 with value: 0.8612226995693584.\u001b[0m\n",
            "\u001b[32m[I 2022-09-13 07:37:02,381]\u001b[0m Trial 40 finished with value: 0.8520245958070444 and parameters: {'max_depth': 2, 'min_samples_split': 2, 'criterion': 'entropy', 'max_leaf_nodes': 9, 'n_estimators': 167, 'learning_rate': 0.04846237698772378}. Best is trial 32 with value: 0.8612226995693584.\u001b[0m\n",
            "\u001b[32m[I 2022-09-13 07:37:02,488]\u001b[0m Trial 41 finished with value: 0.8525198679586902 and parameters: {'max_depth': 3, 'min_samples_split': 3, 'criterion': 'entropy', 'max_leaf_nodes': 8, 'n_estimators': 44, 'learning_rate': 0.0429264406987806}. Best is trial 32 with value: 0.8612226995693584.\u001b[0m\n",
            "\u001b[32m[I 2022-09-13 07:37:02,566]\u001b[0m Trial 42 finished with value: 0.8301559484059903 and parameters: {'max_depth': 2, 'min_samples_split': 3, 'criterion': 'entropy', 'max_leaf_nodes': 9, 'n_estimators': 10, 'learning_rate': 0.04461197237986845}. Best is trial 32 with value: 0.8612226995693584.\u001b[0m\n",
            "\u001b[32m[I 2022-09-13 07:37:02,708]\u001b[0m Trial 43 finished with value: 0.8516692246150914 and parameters: {'max_depth': 3, 'min_samples_split': 4, 'criterion': 'entropy', 'max_leaf_nodes': 8, 'n_estimators': 96, 'learning_rate': 0.058660251908660525}. Best is trial 32 with value: 0.8612226995693584.\u001b[0m\n",
            "\u001b[32m[I 2022-09-13 07:37:02,811]\u001b[0m Trial 44 finished with value: 0.8389758367831364 and parameters: {'max_depth': 2, 'min_samples_split': 3, 'criterion': 'entropy', 'max_leaf_nodes': 10, 'n_estimators': 39, 'learning_rate': 0.027458015134901335}. Best is trial 32 with value: 0.8612226995693584.\u001b[0m\n",
            "\u001b[32m[I 2022-09-13 07:37:02,965]\u001b[0m Trial 45 finished with value: 0.853533844267049 and parameters: {'max_depth': 4, 'min_samples_split': 2, 'criterion': 'entropy', 'max_leaf_nodes': 9, 'n_estimators': 79, 'learning_rate': 0.05385491687365862}. Best is trial 32 with value: 0.8612226995693584.\u001b[0m\n",
            "\u001b[32m[I 2022-09-13 07:37:03,111]\u001b[0m Trial 46 finished with value: 0.8595709355692689 and parameters: {'max_depth': 2, 'min_samples_split': 4, 'criterion': 'entropy', 'max_leaf_nodes': 8, 'n_estimators': 127, 'learning_rate': 0.0396120431819263}. Best is trial 32 with value: 0.8612226995693584.\u001b[0m\n",
            "\u001b[32m[I 2022-09-13 07:37:03,296]\u001b[0m Trial 47 finished with value: 0.8530593317962379 and parameters: {'max_depth': 3, 'min_samples_split': 4, 'criterion': 'entropy', 'max_leaf_nodes': 9, 'n_estimators': 126, 'learning_rate': 0.038150635878244445}. Best is trial 32 with value: 0.8612226995693584.\u001b[0m\n",
            "\u001b[32m[I 2022-09-13 07:37:03,620]\u001b[0m Trial 48 finished with value: 0.8455559542226112 and parameters: {'max_depth': 4, 'min_samples_split': 4, 'criterion': 'entropy', 'max_leaf_nodes': 8, 'n_estimators': 271, 'learning_rate': 0.0347065425251714}. Best is trial 32 with value: 0.8612226995693584.\u001b[0m\n",
            "\u001b[32m[I 2022-09-13 07:37:03,954]\u001b[0m Trial 49 finished with value: 0.8466443237695411 and parameters: {'max_depth': 5, 'min_samples_split': 7, 'criterion': 'entropy', 'max_leaf_nodes': 9, 'n_estimators': 219, 'learning_rate': 0.039351356853617826}. Best is trial 32 with value: 0.8612226995693584.\u001b[0m\n"
          ]
        },
        {
          "output_type": "stream",
          "name": "stdout",
          "text": [
            "Best Score: 0.8612226995693584\n",
            "Best hp {'max_depth': 2, 'min_samples_split': 2, 'criterion': 'entropy', 'max_leaf_nodes': 10, 'n_estimators': 81, 'learning_rate': 0.04761586218744837}\n"
          ]
        }
      ]
    },
    {
      "cell_type": "code",
      "source": [
        "study.best_params"
      ],
      "metadata": {
        "colab": {
          "base_uri": "https://localhost:8080/"
        },
        "id": "l3hhlYzIwH3l",
        "outputId": "16573de8-9f4f-4bb1-d71f-f3c854bbb129"
      },
      "execution_count": 33,
      "outputs": [
        {
          "output_type": "execute_result",
          "data": {
            "text/plain": [
              "{'max_depth': 2,\n",
              " 'min_samples_split': 2,\n",
              " 'criterion': 'entropy',\n",
              " 'max_leaf_nodes': 10,\n",
              " 'n_estimators': 81,\n",
              " 'learning_rate': 0.04761586218744837}"
            ]
          },
          "metadata": {},
          "execution_count": 33
        }
      ]
    },
    {
      "cell_type": "markdown",
      "source": [
        "- 검증셋 점수 확인"
      ],
      "metadata": {
        "id": "nFutDllmyTzb"
      }
    },
    {
      "cell_type": "code",
      "source": [
        "model = LGBMClassifier(random_state=SEED, **study.best_params)\n",
        "model.fit(x_train,y_train)\n",
        "\n",
        "pred = model.predict_proba(x_valid)[:,1]\n",
        "\n",
        "roc_auc_score(y_valid,pred)"
      ],
      "metadata": {
        "colab": {
          "base_uri": "https://localhost:8080/"
        },
        "id": "A4ZoD9RlwH0y",
        "outputId": "bdaebc83-0121-4f9f-b179-25042f00cd3b"
      },
      "execution_count": 34,
      "outputs": [
        {
          "output_type": "execute_result",
          "data": {
            "text/plain": [
              "0.8868725868725869"
            ]
          },
          "metadata": {},
          "execution_count": 34
        }
      ]
    },
    {
      "cell_type": "markdown",
      "source": [
        "- 하이퍼파라미터 중요도 시각화"
      ],
      "metadata": {
        "id": "NbJfMcEJy_lG"
      }
    },
    {
      "cell_type": "code",
      "source": [
        "optuna.visualization.plot_param_importances(study)"
      ],
      "metadata": {
        "colab": {
          "base_uri": "https://localhost:8080/",
          "height": 542
        },
        "id": "Kx6hxY6Ny_N2",
        "outputId": "ea91dc33-2b14-4e91-aabf-98fd67c5f33c"
      },
      "execution_count": 36,
      "outputs": [
        {
          "output_type": "display_data",
          "data": {
            "text/html": [
              "<html>\n",
              "<head><meta charset=\"utf-8\" /></head>\n",
              "<body>\n",
              "    <div>            <script src=\"https://cdnjs.cloudflare.com/ajax/libs/mathjax/2.7.5/MathJax.js?config=TeX-AMS-MML_SVG\"></script><script type=\"text/javascript\">if (window.MathJax) {MathJax.Hub.Config({SVG: {font: \"STIX-Web\"}});}</script>                <script type=\"text/javascript\">window.PlotlyConfig = {MathJaxConfig: 'local'};</script>\n",
              "        <script src=\"https://cdn.plot.ly/plotly-2.8.3.min.js\"></script>                <div id=\"c96a57ac-d0e2-449a-86fb-de4428d0d2c8\" class=\"plotly-graph-div\" style=\"height:525px; width:100%;\"></div>            <script type=\"text/javascript\">                                    window.PLOTLYENV=window.PLOTLYENV || {};                                    if (document.getElementById(\"c96a57ac-d0e2-449a-86fb-de4428d0d2c8\")) {                    Plotly.newPlot(                        \"c96a57ac-d0e2-449a-86fb-de4428d0d2c8\",                        [{\"cliponaxis\":false,\"hovertemplate\":[\"criterion (CategoricalDistribution): 0.005826943413322961<extra></extra>\",\"max_leaf_nodes (IntDistribution): 0.008659084074170958<extra></extra>\",\"max_depth (IntDistribution): 0.02058718985076366<extra></extra>\",\"min_samples_split (IntDistribution): 0.02243912898106922<extra></extra>\",\"learning_rate (FloatDistribution): 0.15589270622416296<extra></extra>\",\"n_estimators (IntDistribution): 0.7865949474565103<extra></extra>\"],\"marker\":{\"color\":\"rgb(66,146,198)\"},\"orientation\":\"h\",\"text\":[\"<0.01\",\"<0.01\",\"0.02\",\"0.02\",\"0.16\",\"0.79\"],\"textposition\":\"outside\",\"x\":[0.005826943413322961,0.008659084074170958,0.02058718985076366,0.02243912898106922,0.15589270622416296,0.7865949474565103],\"y\":[\"criterion\",\"max_leaf_nodes\",\"max_depth\",\"min_samples_split\",\"learning_rate\",\"n_estimators\"],\"type\":\"bar\"}],                        {\"showlegend\":false,\"title\":{\"text\":\"Hyperparameter Importances\"},\"xaxis\":{\"title\":{\"text\":\"Importance for Objective Value\"}},\"yaxis\":{\"title\":{\"text\":\"Hyperparameter\"}},\"template\":{\"data\":{\"bar\":[{\"error_x\":{\"color\":\"#2a3f5f\"},\"error_y\":{\"color\":\"#2a3f5f\"},\"marker\":{\"line\":{\"color\":\"#E5ECF6\",\"width\":0.5},\"pattern\":{\"fillmode\":\"overlay\",\"size\":10,\"solidity\":0.2}},\"type\":\"bar\"}],\"barpolar\":[{\"marker\":{\"line\":{\"color\":\"#E5ECF6\",\"width\":0.5},\"pattern\":{\"fillmode\":\"overlay\",\"size\":10,\"solidity\":0.2}},\"type\":\"barpolar\"}],\"carpet\":[{\"aaxis\":{\"endlinecolor\":\"#2a3f5f\",\"gridcolor\":\"white\",\"linecolor\":\"white\",\"minorgridcolor\":\"white\",\"startlinecolor\":\"#2a3f5f\"},\"baxis\":{\"endlinecolor\":\"#2a3f5f\",\"gridcolor\":\"white\",\"linecolor\":\"white\",\"minorgridcolor\":\"white\",\"startlinecolor\":\"#2a3f5f\"},\"type\":\"carpet\"}],\"choropleth\":[{\"colorbar\":{\"outlinewidth\":0,\"ticks\":\"\"},\"type\":\"choropleth\"}],\"contour\":[{\"colorbar\":{\"outlinewidth\":0,\"ticks\":\"\"},\"colorscale\":[[0.0,\"#0d0887\"],[0.1111111111111111,\"#46039f\"],[0.2222222222222222,\"#7201a8\"],[0.3333333333333333,\"#9c179e\"],[0.4444444444444444,\"#bd3786\"],[0.5555555555555556,\"#d8576b\"],[0.6666666666666666,\"#ed7953\"],[0.7777777777777778,\"#fb9f3a\"],[0.8888888888888888,\"#fdca26\"],[1.0,\"#f0f921\"]],\"type\":\"contour\"}],\"contourcarpet\":[{\"colorbar\":{\"outlinewidth\":0,\"ticks\":\"\"},\"type\":\"contourcarpet\"}],\"heatmap\":[{\"colorbar\":{\"outlinewidth\":0,\"ticks\":\"\"},\"colorscale\":[[0.0,\"#0d0887\"],[0.1111111111111111,\"#46039f\"],[0.2222222222222222,\"#7201a8\"],[0.3333333333333333,\"#9c179e\"],[0.4444444444444444,\"#bd3786\"],[0.5555555555555556,\"#d8576b\"],[0.6666666666666666,\"#ed7953\"],[0.7777777777777778,\"#fb9f3a\"],[0.8888888888888888,\"#fdca26\"],[1.0,\"#f0f921\"]],\"type\":\"heatmap\"}],\"heatmapgl\":[{\"colorbar\":{\"outlinewidth\":0,\"ticks\":\"\"},\"colorscale\":[[0.0,\"#0d0887\"],[0.1111111111111111,\"#46039f\"],[0.2222222222222222,\"#7201a8\"],[0.3333333333333333,\"#9c179e\"],[0.4444444444444444,\"#bd3786\"],[0.5555555555555556,\"#d8576b\"],[0.6666666666666666,\"#ed7953\"],[0.7777777777777778,\"#fb9f3a\"],[0.8888888888888888,\"#fdca26\"],[1.0,\"#f0f921\"]],\"type\":\"heatmapgl\"}],\"histogram\":[{\"marker\":{\"pattern\":{\"fillmode\":\"overlay\",\"size\":10,\"solidity\":0.2}},\"type\":\"histogram\"}],\"histogram2d\":[{\"colorbar\":{\"outlinewidth\":0,\"ticks\":\"\"},\"colorscale\":[[0.0,\"#0d0887\"],[0.1111111111111111,\"#46039f\"],[0.2222222222222222,\"#7201a8\"],[0.3333333333333333,\"#9c179e\"],[0.4444444444444444,\"#bd3786\"],[0.5555555555555556,\"#d8576b\"],[0.6666666666666666,\"#ed7953\"],[0.7777777777777778,\"#fb9f3a\"],[0.8888888888888888,\"#fdca26\"],[1.0,\"#f0f921\"]],\"type\":\"histogram2d\"}],\"histogram2dcontour\":[{\"colorbar\":{\"outlinewidth\":0,\"ticks\":\"\"},\"colorscale\":[[0.0,\"#0d0887\"],[0.1111111111111111,\"#46039f\"],[0.2222222222222222,\"#7201a8\"],[0.3333333333333333,\"#9c179e\"],[0.4444444444444444,\"#bd3786\"],[0.5555555555555556,\"#d8576b\"],[0.6666666666666666,\"#ed7953\"],[0.7777777777777778,\"#fb9f3a\"],[0.8888888888888888,\"#fdca26\"],[1.0,\"#f0f921\"]],\"type\":\"histogram2dcontour\"}],\"mesh3d\":[{\"colorbar\":{\"outlinewidth\":0,\"ticks\":\"\"},\"type\":\"mesh3d\"}],\"parcoords\":[{\"line\":{\"colorbar\":{\"outlinewidth\":0,\"ticks\":\"\"}},\"type\":\"parcoords\"}],\"pie\":[{\"automargin\":true,\"type\":\"pie\"}],\"scatter\":[{\"marker\":{\"colorbar\":{\"outlinewidth\":0,\"ticks\":\"\"}},\"type\":\"scatter\"}],\"scatter3d\":[{\"line\":{\"colorbar\":{\"outlinewidth\":0,\"ticks\":\"\"}},\"marker\":{\"colorbar\":{\"outlinewidth\":0,\"ticks\":\"\"}},\"type\":\"scatter3d\"}],\"scattercarpet\":[{\"marker\":{\"colorbar\":{\"outlinewidth\":0,\"ticks\":\"\"}},\"type\":\"scattercarpet\"}],\"scattergeo\":[{\"marker\":{\"colorbar\":{\"outlinewidth\":0,\"ticks\":\"\"}},\"type\":\"scattergeo\"}],\"scattergl\":[{\"marker\":{\"colorbar\":{\"outlinewidth\":0,\"ticks\":\"\"}},\"type\":\"scattergl\"}],\"scattermapbox\":[{\"marker\":{\"colorbar\":{\"outlinewidth\":0,\"ticks\":\"\"}},\"type\":\"scattermapbox\"}],\"scatterpolar\":[{\"marker\":{\"colorbar\":{\"outlinewidth\":0,\"ticks\":\"\"}},\"type\":\"scatterpolar\"}],\"scatterpolargl\":[{\"marker\":{\"colorbar\":{\"outlinewidth\":0,\"ticks\":\"\"}},\"type\":\"scatterpolargl\"}],\"scatterternary\":[{\"marker\":{\"colorbar\":{\"outlinewidth\":0,\"ticks\":\"\"}},\"type\":\"scatterternary\"}],\"surface\":[{\"colorbar\":{\"outlinewidth\":0,\"ticks\":\"\"},\"colorscale\":[[0.0,\"#0d0887\"],[0.1111111111111111,\"#46039f\"],[0.2222222222222222,\"#7201a8\"],[0.3333333333333333,\"#9c179e\"],[0.4444444444444444,\"#bd3786\"],[0.5555555555555556,\"#d8576b\"],[0.6666666666666666,\"#ed7953\"],[0.7777777777777778,\"#fb9f3a\"],[0.8888888888888888,\"#fdca26\"],[1.0,\"#f0f921\"]],\"type\":\"surface\"}],\"table\":[{\"cells\":{\"fill\":{\"color\":\"#EBF0F8\"},\"line\":{\"color\":\"white\"}},\"header\":{\"fill\":{\"color\":\"#C8D4E3\"},\"line\":{\"color\":\"white\"}},\"type\":\"table\"}]},\"layout\":{\"annotationdefaults\":{\"arrowcolor\":\"#2a3f5f\",\"arrowhead\":0,\"arrowwidth\":1},\"autotypenumbers\":\"strict\",\"coloraxis\":{\"colorbar\":{\"outlinewidth\":0,\"ticks\":\"\"}},\"colorscale\":{\"diverging\":[[0,\"#8e0152\"],[0.1,\"#c51b7d\"],[0.2,\"#de77ae\"],[0.3,\"#f1b6da\"],[0.4,\"#fde0ef\"],[0.5,\"#f7f7f7\"],[0.6,\"#e6f5d0\"],[0.7,\"#b8e186\"],[0.8,\"#7fbc41\"],[0.9,\"#4d9221\"],[1,\"#276419\"]],\"sequential\":[[0.0,\"#0d0887\"],[0.1111111111111111,\"#46039f\"],[0.2222222222222222,\"#7201a8\"],[0.3333333333333333,\"#9c179e\"],[0.4444444444444444,\"#bd3786\"],[0.5555555555555556,\"#d8576b\"],[0.6666666666666666,\"#ed7953\"],[0.7777777777777778,\"#fb9f3a\"],[0.8888888888888888,\"#fdca26\"],[1.0,\"#f0f921\"]],\"sequentialminus\":[[0.0,\"#0d0887\"],[0.1111111111111111,\"#46039f\"],[0.2222222222222222,\"#7201a8\"],[0.3333333333333333,\"#9c179e\"],[0.4444444444444444,\"#bd3786\"],[0.5555555555555556,\"#d8576b\"],[0.6666666666666666,\"#ed7953\"],[0.7777777777777778,\"#fb9f3a\"],[0.8888888888888888,\"#fdca26\"],[1.0,\"#f0f921\"]]},\"colorway\":[\"#636efa\",\"#EF553B\",\"#00cc96\",\"#ab63fa\",\"#FFA15A\",\"#19d3f3\",\"#FF6692\",\"#B6E880\",\"#FF97FF\",\"#FECB52\"],\"font\":{\"color\":\"#2a3f5f\"},\"geo\":{\"bgcolor\":\"white\",\"lakecolor\":\"white\",\"landcolor\":\"#E5ECF6\",\"showlakes\":true,\"showland\":true,\"subunitcolor\":\"white\"},\"hoverlabel\":{\"align\":\"left\"},\"hovermode\":\"closest\",\"mapbox\":{\"style\":\"light\"},\"paper_bgcolor\":\"white\",\"plot_bgcolor\":\"#E5ECF6\",\"polar\":{\"angularaxis\":{\"gridcolor\":\"white\",\"linecolor\":\"white\",\"ticks\":\"\"},\"bgcolor\":\"#E5ECF6\",\"radialaxis\":{\"gridcolor\":\"white\",\"linecolor\":\"white\",\"ticks\":\"\"}},\"scene\":{\"xaxis\":{\"backgroundcolor\":\"#E5ECF6\",\"gridcolor\":\"white\",\"gridwidth\":2,\"linecolor\":\"white\",\"showbackground\":true,\"ticks\":\"\",\"zerolinecolor\":\"white\"},\"yaxis\":{\"backgroundcolor\":\"#E5ECF6\",\"gridcolor\":\"white\",\"gridwidth\":2,\"linecolor\":\"white\",\"showbackground\":true,\"ticks\":\"\",\"zerolinecolor\":\"white\"},\"zaxis\":{\"backgroundcolor\":\"#E5ECF6\",\"gridcolor\":\"white\",\"gridwidth\":2,\"linecolor\":\"white\",\"showbackground\":true,\"ticks\":\"\",\"zerolinecolor\":\"white\"}},\"shapedefaults\":{\"line\":{\"color\":\"#2a3f5f\"}},\"ternary\":{\"aaxis\":{\"gridcolor\":\"white\",\"linecolor\":\"white\",\"ticks\":\"\"},\"baxis\":{\"gridcolor\":\"white\",\"linecolor\":\"white\",\"ticks\":\"\"},\"bgcolor\":\"#E5ECF6\",\"caxis\":{\"gridcolor\":\"white\",\"linecolor\":\"white\",\"ticks\":\"\"}},\"title\":{\"x\":0.05},\"xaxis\":{\"automargin\":true,\"gridcolor\":\"white\",\"linecolor\":\"white\",\"ticks\":\"\",\"title\":{\"standoff\":15},\"zerolinecolor\":\"white\",\"zerolinewidth\":2},\"yaxis\":{\"automargin\":true,\"gridcolor\":\"white\",\"linecolor\":\"white\",\"ticks\":\"\",\"title\":{\"standoff\":15},\"zerolinecolor\":\"white\",\"zerolinewidth\":2}}}},                        {\"responsive\": true}                    ).then(function(){\n",
              "                            \n",
              "var gd = document.getElementById('c96a57ac-d0e2-449a-86fb-de4428d0d2c8');\n",
              "var x = new MutationObserver(function (mutations, observer) {{\n",
              "        var display = window.getComputedStyle(gd).display;\n",
              "        if (!display || display === 'none') {{\n",
              "            console.log([gd, 'removed!']);\n",
              "            Plotly.purge(gd);\n",
              "            observer.disconnect();\n",
              "        }}\n",
              "}});\n",
              "\n",
              "// Listen for the removal of the full notebook cells\n",
              "var notebookContainer = gd.closest('#notebook-container');\n",
              "if (notebookContainer) {{\n",
              "    x.observe(notebookContainer, {childList: true});\n",
              "}}\n",
              "\n",
              "// Listen for the clearing of the current output cell\n",
              "var outputEl = gd.closest('.output');\n",
              "if (outputEl) {{\n",
              "    x.observe(outputEl, {childList: true});\n",
              "}}\n",
              "\n",
              "                        })                };                            </script>        </div>\n",
              "</body>\n",
              "</html>"
            ]
          },
          "metadata": {}
        }
      ]
    },
    {
      "cell_type": "markdown",
      "source": [
        "- 하이퍼파라미터 최적화 과정 history"
      ],
      "metadata": {
        "id": "rmi6qYRLzetY"
      }
    },
    {
      "cell_type": "code",
      "source": [
        "optuna.visualization.plot_optimization_history(study)"
      ],
      "metadata": {
        "colab": {
          "base_uri": "https://localhost:8080/",
          "height": 542
        },
        "id": "_-AfBAK9y_K0",
        "outputId": "b4bb4068-ceec-4fe6-a8d9-ff7df44981d8"
      },
      "execution_count": 37,
      "outputs": [
        {
          "output_type": "display_data",
          "data": {
            "text/html": [
              "<html>\n",
              "<head><meta charset=\"utf-8\" /></head>\n",
              "<body>\n",
              "    <div>            <script src=\"https://cdnjs.cloudflare.com/ajax/libs/mathjax/2.7.5/MathJax.js?config=TeX-AMS-MML_SVG\"></script><script type=\"text/javascript\">if (window.MathJax) {MathJax.Hub.Config({SVG: {font: \"STIX-Web\"}});}</script>                <script type=\"text/javascript\">window.PlotlyConfig = {MathJaxConfig: 'local'};</script>\n",
              "        <script src=\"https://cdn.plot.ly/plotly-2.8.3.min.js\"></script>                <div id=\"f30c8b13-2567-4202-85d2-9ea1473bcc99\" class=\"plotly-graph-div\" style=\"height:525px; width:100%;\"></div>            <script type=\"text/javascript\">                                    window.PLOTLYENV=window.PLOTLYENV || {};                                    if (document.getElementById(\"f30c8b13-2567-4202-85d2-9ea1473bcc99\")) {                    Plotly.newPlot(                        \"f30c8b13-2567-4202-85d2-9ea1473bcc99\",                        [{\"mode\":\"markers\",\"name\":\"Objective Value\",\"x\":[0,1,2,3,4,5,6,7,8,9,10,11,12,13,14,15,16,17,18,19,20,21,22,23,24,25,26,27,28,29,30,31,32,33,34,35,36,37,38,39,40,41,42,43,44,45,46,47,48,49],\"y\":[0.8522732281153486,0.842336280687235,0.847517887036954,0.8527045845122097,0.8263525822422361,0.8499428179780878,0.8463463130728073,0.8317356173075506,0.8483919093926373,0.8512160773839454,0.8459517079995095,0.84124053829172,0.851155701958195,0.8480885073111368,0.8468783518261398,0.838644955495031,0.8488844256221544,0.8493065247940447,0.8505762606470004,0.8525470631347865,0.8435007802404029,0.8530164662375359,0.8517682421900069,0.8508548012578038,0.8452249281910786,0.8520018820712927,0.8526159987263154,0.8506609037527053,0.8555165353960088,0.8597967969496549,0.8513611691291896,0.860002023968255,0.8612226995693584,0.853241505309661,0.8504177257227893,0.8473217234393198,0.8360756500133422,0.8558525282290302,0.8532355695542229,0.8416444906498892,0.8520245958070444,0.8525198679586902,0.8301559484059903,0.8516692246150914,0.8389758367831364,0.853533844267049,0.8595709355692689,0.8530593317962379,0.8455559542226112,0.8466443237695411],\"type\":\"scatter\"},{\"name\":\"Best Value\",\"x\":[0,1,2,3,4,5,6,7,8,9,10,11,12,13,14,15,16,17,18,19,20,21,22,23,24,25,26,27,28,29,30,31,32,33,34,35,36,37,38,39,40,41,42,43,44,45,46,47,48,49],\"y\":[0.8522732281153486,0.8522732281153486,0.8522732281153486,0.8527045845122097,0.8527045845122097,0.8527045845122097,0.8527045845122097,0.8527045845122097,0.8527045845122097,0.8527045845122097,0.8527045845122097,0.8527045845122097,0.8527045845122097,0.8527045845122097,0.8527045845122097,0.8527045845122097,0.8527045845122097,0.8527045845122097,0.8527045845122097,0.8527045845122097,0.8527045845122097,0.8530164662375359,0.8530164662375359,0.8530164662375359,0.8530164662375359,0.8530164662375359,0.8530164662375359,0.8530164662375359,0.8555165353960088,0.8597967969496549,0.8597967969496549,0.860002023968255,0.8612226995693584,0.8612226995693584,0.8612226995693584,0.8612226995693584,0.8612226995693584,0.8612226995693584,0.8612226995693584,0.8612226995693584,0.8612226995693584,0.8612226995693584,0.8612226995693584,0.8612226995693584,0.8612226995693584,0.8612226995693584,0.8612226995693584,0.8612226995693584,0.8612226995693584,0.8612226995693584],\"type\":\"scatter\"}],                        {\"title\":{\"text\":\"Optimization History Plot\"},\"xaxis\":{\"title\":{\"text\":\"Trial\"}},\"yaxis\":{\"title\":{\"text\":\"Objective Value\"}},\"template\":{\"data\":{\"bar\":[{\"error_x\":{\"color\":\"#2a3f5f\"},\"error_y\":{\"color\":\"#2a3f5f\"},\"marker\":{\"line\":{\"color\":\"#E5ECF6\",\"width\":0.5},\"pattern\":{\"fillmode\":\"overlay\",\"size\":10,\"solidity\":0.2}},\"type\":\"bar\"}],\"barpolar\":[{\"marker\":{\"line\":{\"color\":\"#E5ECF6\",\"width\":0.5},\"pattern\":{\"fillmode\":\"overlay\",\"size\":10,\"solidity\":0.2}},\"type\":\"barpolar\"}],\"carpet\":[{\"aaxis\":{\"endlinecolor\":\"#2a3f5f\",\"gridcolor\":\"white\",\"linecolor\":\"white\",\"minorgridcolor\":\"white\",\"startlinecolor\":\"#2a3f5f\"},\"baxis\":{\"endlinecolor\":\"#2a3f5f\",\"gridcolor\":\"white\",\"linecolor\":\"white\",\"minorgridcolor\":\"white\",\"startlinecolor\":\"#2a3f5f\"},\"type\":\"carpet\"}],\"choropleth\":[{\"colorbar\":{\"outlinewidth\":0,\"ticks\":\"\"},\"type\":\"choropleth\"}],\"contour\":[{\"colorbar\":{\"outlinewidth\":0,\"ticks\":\"\"},\"colorscale\":[[0.0,\"#0d0887\"],[0.1111111111111111,\"#46039f\"],[0.2222222222222222,\"#7201a8\"],[0.3333333333333333,\"#9c179e\"],[0.4444444444444444,\"#bd3786\"],[0.5555555555555556,\"#d8576b\"],[0.6666666666666666,\"#ed7953\"],[0.7777777777777778,\"#fb9f3a\"],[0.8888888888888888,\"#fdca26\"],[1.0,\"#f0f921\"]],\"type\":\"contour\"}],\"contourcarpet\":[{\"colorbar\":{\"outlinewidth\":0,\"ticks\":\"\"},\"type\":\"contourcarpet\"}],\"heatmap\":[{\"colorbar\":{\"outlinewidth\":0,\"ticks\":\"\"},\"colorscale\":[[0.0,\"#0d0887\"],[0.1111111111111111,\"#46039f\"],[0.2222222222222222,\"#7201a8\"],[0.3333333333333333,\"#9c179e\"],[0.4444444444444444,\"#bd3786\"],[0.5555555555555556,\"#d8576b\"],[0.6666666666666666,\"#ed7953\"],[0.7777777777777778,\"#fb9f3a\"],[0.8888888888888888,\"#fdca26\"],[1.0,\"#f0f921\"]],\"type\":\"heatmap\"}],\"heatmapgl\":[{\"colorbar\":{\"outlinewidth\":0,\"ticks\":\"\"},\"colorscale\":[[0.0,\"#0d0887\"],[0.1111111111111111,\"#46039f\"],[0.2222222222222222,\"#7201a8\"],[0.3333333333333333,\"#9c179e\"],[0.4444444444444444,\"#bd3786\"],[0.5555555555555556,\"#d8576b\"],[0.6666666666666666,\"#ed7953\"],[0.7777777777777778,\"#fb9f3a\"],[0.8888888888888888,\"#fdca26\"],[1.0,\"#f0f921\"]],\"type\":\"heatmapgl\"}],\"histogram\":[{\"marker\":{\"pattern\":{\"fillmode\":\"overlay\",\"size\":10,\"solidity\":0.2}},\"type\":\"histogram\"}],\"histogram2d\":[{\"colorbar\":{\"outlinewidth\":0,\"ticks\":\"\"},\"colorscale\":[[0.0,\"#0d0887\"],[0.1111111111111111,\"#46039f\"],[0.2222222222222222,\"#7201a8\"],[0.3333333333333333,\"#9c179e\"],[0.4444444444444444,\"#bd3786\"],[0.5555555555555556,\"#d8576b\"],[0.6666666666666666,\"#ed7953\"],[0.7777777777777778,\"#fb9f3a\"],[0.8888888888888888,\"#fdca26\"],[1.0,\"#f0f921\"]],\"type\":\"histogram2d\"}],\"histogram2dcontour\":[{\"colorbar\":{\"outlinewidth\":0,\"ticks\":\"\"},\"colorscale\":[[0.0,\"#0d0887\"],[0.1111111111111111,\"#46039f\"],[0.2222222222222222,\"#7201a8\"],[0.3333333333333333,\"#9c179e\"],[0.4444444444444444,\"#bd3786\"],[0.5555555555555556,\"#d8576b\"],[0.6666666666666666,\"#ed7953\"],[0.7777777777777778,\"#fb9f3a\"],[0.8888888888888888,\"#fdca26\"],[1.0,\"#f0f921\"]],\"type\":\"histogram2dcontour\"}],\"mesh3d\":[{\"colorbar\":{\"outlinewidth\":0,\"ticks\":\"\"},\"type\":\"mesh3d\"}],\"parcoords\":[{\"line\":{\"colorbar\":{\"outlinewidth\":0,\"ticks\":\"\"}},\"type\":\"parcoords\"}],\"pie\":[{\"automargin\":true,\"type\":\"pie\"}],\"scatter\":[{\"marker\":{\"colorbar\":{\"outlinewidth\":0,\"ticks\":\"\"}},\"type\":\"scatter\"}],\"scatter3d\":[{\"line\":{\"colorbar\":{\"outlinewidth\":0,\"ticks\":\"\"}},\"marker\":{\"colorbar\":{\"outlinewidth\":0,\"ticks\":\"\"}},\"type\":\"scatter3d\"}],\"scattercarpet\":[{\"marker\":{\"colorbar\":{\"outlinewidth\":0,\"ticks\":\"\"}},\"type\":\"scattercarpet\"}],\"scattergeo\":[{\"marker\":{\"colorbar\":{\"outlinewidth\":0,\"ticks\":\"\"}},\"type\":\"scattergeo\"}],\"scattergl\":[{\"marker\":{\"colorbar\":{\"outlinewidth\":0,\"ticks\":\"\"}},\"type\":\"scattergl\"}],\"scattermapbox\":[{\"marker\":{\"colorbar\":{\"outlinewidth\":0,\"ticks\":\"\"}},\"type\":\"scattermapbox\"}],\"scatterpolar\":[{\"marker\":{\"colorbar\":{\"outlinewidth\":0,\"ticks\":\"\"}},\"type\":\"scatterpolar\"}],\"scatterpolargl\":[{\"marker\":{\"colorbar\":{\"outlinewidth\":0,\"ticks\":\"\"}},\"type\":\"scatterpolargl\"}],\"scatterternary\":[{\"marker\":{\"colorbar\":{\"outlinewidth\":0,\"ticks\":\"\"}},\"type\":\"scatterternary\"}],\"surface\":[{\"colorbar\":{\"outlinewidth\":0,\"ticks\":\"\"},\"colorscale\":[[0.0,\"#0d0887\"],[0.1111111111111111,\"#46039f\"],[0.2222222222222222,\"#7201a8\"],[0.3333333333333333,\"#9c179e\"],[0.4444444444444444,\"#bd3786\"],[0.5555555555555556,\"#d8576b\"],[0.6666666666666666,\"#ed7953\"],[0.7777777777777778,\"#fb9f3a\"],[0.8888888888888888,\"#fdca26\"],[1.0,\"#f0f921\"]],\"type\":\"surface\"}],\"table\":[{\"cells\":{\"fill\":{\"color\":\"#EBF0F8\"},\"line\":{\"color\":\"white\"}},\"header\":{\"fill\":{\"color\":\"#C8D4E3\"},\"line\":{\"color\":\"white\"}},\"type\":\"table\"}]},\"layout\":{\"annotationdefaults\":{\"arrowcolor\":\"#2a3f5f\",\"arrowhead\":0,\"arrowwidth\":1},\"autotypenumbers\":\"strict\",\"coloraxis\":{\"colorbar\":{\"outlinewidth\":0,\"ticks\":\"\"}},\"colorscale\":{\"diverging\":[[0,\"#8e0152\"],[0.1,\"#c51b7d\"],[0.2,\"#de77ae\"],[0.3,\"#f1b6da\"],[0.4,\"#fde0ef\"],[0.5,\"#f7f7f7\"],[0.6,\"#e6f5d0\"],[0.7,\"#b8e186\"],[0.8,\"#7fbc41\"],[0.9,\"#4d9221\"],[1,\"#276419\"]],\"sequential\":[[0.0,\"#0d0887\"],[0.1111111111111111,\"#46039f\"],[0.2222222222222222,\"#7201a8\"],[0.3333333333333333,\"#9c179e\"],[0.4444444444444444,\"#bd3786\"],[0.5555555555555556,\"#d8576b\"],[0.6666666666666666,\"#ed7953\"],[0.7777777777777778,\"#fb9f3a\"],[0.8888888888888888,\"#fdca26\"],[1.0,\"#f0f921\"]],\"sequentialminus\":[[0.0,\"#0d0887\"],[0.1111111111111111,\"#46039f\"],[0.2222222222222222,\"#7201a8\"],[0.3333333333333333,\"#9c179e\"],[0.4444444444444444,\"#bd3786\"],[0.5555555555555556,\"#d8576b\"],[0.6666666666666666,\"#ed7953\"],[0.7777777777777778,\"#fb9f3a\"],[0.8888888888888888,\"#fdca26\"],[1.0,\"#f0f921\"]]},\"colorway\":[\"#636efa\",\"#EF553B\",\"#00cc96\",\"#ab63fa\",\"#FFA15A\",\"#19d3f3\",\"#FF6692\",\"#B6E880\",\"#FF97FF\",\"#FECB52\"],\"font\":{\"color\":\"#2a3f5f\"},\"geo\":{\"bgcolor\":\"white\",\"lakecolor\":\"white\",\"landcolor\":\"#E5ECF6\",\"showlakes\":true,\"showland\":true,\"subunitcolor\":\"white\"},\"hoverlabel\":{\"align\":\"left\"},\"hovermode\":\"closest\",\"mapbox\":{\"style\":\"light\"},\"paper_bgcolor\":\"white\",\"plot_bgcolor\":\"#E5ECF6\",\"polar\":{\"angularaxis\":{\"gridcolor\":\"white\",\"linecolor\":\"white\",\"ticks\":\"\"},\"bgcolor\":\"#E5ECF6\",\"radialaxis\":{\"gridcolor\":\"white\",\"linecolor\":\"white\",\"ticks\":\"\"}},\"scene\":{\"xaxis\":{\"backgroundcolor\":\"#E5ECF6\",\"gridcolor\":\"white\",\"gridwidth\":2,\"linecolor\":\"white\",\"showbackground\":true,\"ticks\":\"\",\"zerolinecolor\":\"white\"},\"yaxis\":{\"backgroundcolor\":\"#E5ECF6\",\"gridcolor\":\"white\",\"gridwidth\":2,\"linecolor\":\"white\",\"showbackground\":true,\"ticks\":\"\",\"zerolinecolor\":\"white\"},\"zaxis\":{\"backgroundcolor\":\"#E5ECF6\",\"gridcolor\":\"white\",\"gridwidth\":2,\"linecolor\":\"white\",\"showbackground\":true,\"ticks\":\"\",\"zerolinecolor\":\"white\"}},\"shapedefaults\":{\"line\":{\"color\":\"#2a3f5f\"}},\"ternary\":{\"aaxis\":{\"gridcolor\":\"white\",\"linecolor\":\"white\",\"ticks\":\"\"},\"baxis\":{\"gridcolor\":\"white\",\"linecolor\":\"white\",\"ticks\":\"\"},\"bgcolor\":\"#E5ECF6\",\"caxis\":{\"gridcolor\":\"white\",\"linecolor\":\"white\",\"ticks\":\"\"}},\"title\":{\"x\":0.05},\"xaxis\":{\"automargin\":true,\"gridcolor\":\"white\",\"linecolor\":\"white\",\"ticks\":\"\",\"title\":{\"standoff\":15},\"zerolinecolor\":\"white\",\"zerolinewidth\":2},\"yaxis\":{\"automargin\":true,\"gridcolor\":\"white\",\"linecolor\":\"white\",\"ticks\":\"\",\"title\":{\"standoff\":15},\"zerolinecolor\":\"white\",\"zerolinewidth\":2}}}},                        {\"responsive\": true}                    ).then(function(){\n",
              "                            \n",
              "var gd = document.getElementById('f30c8b13-2567-4202-85d2-9ea1473bcc99');\n",
              "var x = new MutationObserver(function (mutations, observer) {{\n",
              "        var display = window.getComputedStyle(gd).display;\n",
              "        if (!display || display === 'none') {{\n",
              "            console.log([gd, 'removed!']);\n",
              "            Plotly.purge(gd);\n",
              "            observer.disconnect();\n",
              "        }}\n",
              "}});\n",
              "\n",
              "// Listen for the removal of the full notebook cells\n",
              "var notebookContainer = gd.closest('#notebook-container');\n",
              "if (notebookContainer) {{\n",
              "    x.observe(notebookContainer, {childList: true});\n",
              "}}\n",
              "\n",
              "// Listen for the clearing of the current output cell\n",
              "var outputEl = gd.closest('.output');\n",
              "if (outputEl) {{\n",
              "    x.observe(outputEl, {childList: true});\n",
              "}}\n",
              "\n",
              "                        })                };                            </script>        </div>\n",
              "</body>\n",
              "</html>"
            ]
          },
          "metadata": {}
        }
      ]
    },
    {
      "cell_type": "markdown",
      "source": [
        "- https://optuna.readthedocs.io/en/stable/index.html"
      ],
      "metadata": {
        "id": "ifZfBdXiz8RR"
      }
    },
    {
      "cell_type": "code",
      "source": [],
      "metadata": {
        "id": "cP2AljYVy_IM"
      },
      "execution_count": null,
      "outputs": []
    },
    {
      "cell_type": "code",
      "source": [],
      "metadata": {
        "id": "adOAeGkry_EL"
      },
      "execution_count": null,
      "outputs": []
    },
    {
      "cell_type": "code",
      "source": [],
      "metadata": {
        "id": "R06VwvRLy_Bi"
      },
      "execution_count": null,
      "outputs": []
    },
    {
      "cell_type": "code",
      "source": [],
      "metadata": {
        "id": "ylQNZlffeRaQ"
      },
      "execution_count": null,
      "outputs": []
    }
  ]
}